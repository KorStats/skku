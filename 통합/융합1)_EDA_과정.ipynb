{
  "nbformat": 4,
  "nbformat_minor": 0,
  "metadata": {
    "colab": {
      "provenance": [],
      "include_colab_link": true
    },
    "kernelspec": {
      "name": "python3",
      "display_name": "Python 3"
    },
    "language_info": {
      "name": "python"
    }
  },
  "cells": [
    {
      "cell_type": "markdown",
      "metadata": {
        "id": "view-in-github",
        "colab_type": "text"
      },
      "source": [
        "<a href=\"https://colab.research.google.com/github/KorStats/skku/blob/main/%ED%86%B5%ED%95%A9/%EC%9C%B5%ED%95%A91)_EDA_%EA%B3%BC%EC%A0%95.ipynb\" target=\"_parent\"><img src=\"https://colab.research.google.com/assets/colab-badge.svg\" alt=\"Open In Colab\"/></a>"
      ]
    },
    {
      "cell_type": "code",
      "source": [
        "pip install konlpy"
      ],
      "metadata": {
        "colab": {
          "base_uri": "https://localhost:8080/"
        },
        "id": "GtSu-ZJ0mY0G",
        "outputId": "b0632c61-a281-40fb-c53a-744623b018ec"
      },
      "execution_count": 1,
      "outputs": [
        {
          "output_type": "stream",
          "name": "stdout",
          "text": [
            "Collecting konlpy\n",
            "  Downloading konlpy-0.6.0-py2.py3-none-any.whl.metadata (1.9 kB)\n",
            "Collecting JPype1>=0.7.0 (from konlpy)\n",
            "  Downloading jpype1-1.5.2-cp311-cp311-manylinux_2_17_x86_64.manylinux2014_x86_64.whl.metadata (4.9 kB)\n",
            "Requirement already satisfied: lxml>=4.1.0 in /usr/local/lib/python3.11/dist-packages (from konlpy) (5.3.1)\n",
            "Requirement already satisfied: numpy>=1.6 in /usr/local/lib/python3.11/dist-packages (from konlpy) (2.0.2)\n",
            "Requirement already satisfied: packaging in /usr/local/lib/python3.11/dist-packages (from JPype1>=0.7.0->konlpy) (24.2)\n",
            "Downloading konlpy-0.6.0-py2.py3-none-any.whl (19.4 MB)\n",
            "\u001b[2K   \u001b[90m━━━━━━━━━━━━━━━━━━━━━━━━━━━━━━━━━━━━━━━━\u001b[0m \u001b[32m19.4/19.4 MB\u001b[0m \u001b[31m48.8 MB/s\u001b[0m eta \u001b[36m0:00:00\u001b[0m\n",
            "\u001b[?25hDownloading jpype1-1.5.2-cp311-cp311-manylinux_2_17_x86_64.manylinux2014_x86_64.whl (494 kB)\n",
            "\u001b[2K   \u001b[90m━━━━━━━━━━━━━━━━━━━━━━━━━━━━━━━━━━━━━━━━\u001b[0m \u001b[32m494.1/494.1 kB\u001b[0m \u001b[31m25.5 MB/s\u001b[0m eta \u001b[36m0:00:00\u001b[0m\n",
            "\u001b[?25hInstalling collected packages: JPype1, konlpy\n",
            "Successfully installed JPype1-1.5.2 konlpy-0.6.0\n"
          ]
        }
      ]
    },
    {
      "cell_type": "code",
      "execution_count": 2,
      "metadata": {
        "id": "FohqghZclFJz"
      },
      "outputs": [],
      "source": [
        "import pickle\n",
        "import random\n",
        "from konlpy.tag import Okt\n",
        "\n",
        "# 동의어 사전 로드\n",
        "def load_synonym_dict(pickle_file):\n",
        "    with open(pickle_file, 'rb') as f:\n",
        "        synonym_dict = pickle.load(f)\n",
        "    return synonym_dict\n",
        "\n",
        "# Random Swap (랜덤 단어 교환)\n",
        "def random_swap(words, n=1):\n",
        "    words = words.copy()\n",
        "    for _ in range(n):\n",
        "        idx1, idx2 = random.sample(range(len(words)), 2)\n",
        "        words[idx1], words[idx2] = words[idx2], words[idx1]\n",
        "    return words\n",
        "\n",
        "# Random Insertion (랜덤 단어 삽입)\n",
        "def random_insertion(words, synonym_dict, n=1):\n",
        "    words = words.copy()\n",
        "    for _ in range(n):\n",
        "        idx = random.randint(0, len(words) - 1)\n",
        "        word = words[idx]\n",
        "        if word in synonym_dict:\n",
        "            words.insert(idx, random.choice(synonym_dict[word]))\n",
        "    return words\n",
        "\n",
        "# Random Delete (랜덤 단어 삭제)\n",
        "def random_delete(words, p=0.1):\n",
        "    if len(words) == 1:\n",
        "        return words\n",
        "    return [word for word in words if random.random() > p]\n",
        "\n",
        "# Synonym Replacement (동의어 대체)\n",
        "def synonym_replacement(words, synonym_dict, n=1):\n",
        "    words = words.copy()\n",
        "    for _ in range(n):\n",
        "        idx = random.randint(0, len(words) - 1)\n",
        "        word = words[idx]\n",
        "        if word in synonym_dict:\n",
        "            words[idx] = random.choice(synonym_dict[word])\n",
        "    return words\n",
        "\n",
        "# 데이터 증강 실행 함수\n",
        "#def augment_text(text, synonym_dict, swap_n=1, insert_n=1, delete_p=0.1, replace_n=1):\n",
        "#    okt = Okt()\n",
        "#    words = okt.morphs(text)  # Okt를 이용한 토큰화\n",
        "#    words = random_swap(words, swap_n)\n",
        "#    words = random_insertion(words, synonym_dict, insert_n)\n",
        "#    words = random_delete(words, delete_p)\n",
        "#    words = synonym_replacement(words, synonym_dict, replace_n)\n",
        "#    return ' '.join(words)"
      ]
    },
    {
      "cell_type": "code",
      "source": [
        "# 동의어 사전 로드\n",
        "synonym_dict = load_synonym_dict('/content/wordnet.pickle')"
      ],
      "metadata": {
        "id": "fc4DERRBnIhZ"
      },
      "execution_count": 3,
      "outputs": []
    },
    {
      "cell_type": "code",
      "source": [
        "# 데이터 증강 실행 함수\n",
        "def augment_text(text, synonym_dict, swap_n=0, insert_n=0, delete_p=0, replace_n=0):\n",
        "    okt = Okt()\n",
        "    words = okt.morphs(text)  # Okt를 이용한 토큰화\n",
        "\n",
        "    if swap_n > 0:\n",
        "        words = random_swap(words, swap_n)\n",
        "    if insert_n > 0:\n",
        "        words = random_insertion(words, synonym_dict, insert_n)\n",
        "    if delete_p > 0:\n",
        "        words = random_delete(words, delete_p)\n",
        "    if replace_n > 0:\n",
        "        words = synonym_replacement(words, synonym_dict, replace_n)\n",
        "\n",
        "    return ' '.join(words)"
      ],
      "metadata": {
        "id": "Zw24ukjLm2aE"
      },
      "execution_count": 4,
      "outputs": []
    },
    {
      "cell_type": "code",
      "source": [],
      "metadata": {
        "id": "IQREPLOvopJb"
      },
      "execution_count": 4,
      "outputs": []
    },
    {
      "cell_type": "code",
      "source": [],
      "metadata": {
        "id": "P6bplPHdopL6"
      },
      "execution_count": 4,
      "outputs": []
    },
    {
      "cell_type": "markdown",
      "source": [
        "# 데이터불러오기"
      ],
      "metadata": {
        "id": "o91Ro9I4opg_"
      }
    },
    {
      "cell_type": "code",
      "source": [
        "from google.colab import drive\n",
        "drive.mount('/content/gdrive')\n",
        "!ln -s /content/gdrive/My\\ Drive/ /mydrive\n",
        "!ls /mydrive"
      ],
      "metadata": {
        "colab": {
          "base_uri": "https://localhost:8080/"
        },
        "id": "gYg4ICQlotOB",
        "outputId": "8272b5ee-67b8-4dc1-a2ac-a249d1d3cf57"
      },
      "execution_count": 5,
      "outputs": [
        {
          "output_type": "stream",
          "name": "stdout",
          "text": [
            "Mounted at /content/gdrive\n",
            "'Colab Notebooks'   이전   졸업논문\n"
          ]
        }
      ]
    },
    {
      "cell_type": "code",
      "source": [
        "import pandas as pd\n",
        "df= pd.read_csv('/content/gdrive/MyDrive/졸업논문/NSMC2_0.02_증분대상_100개_융합1.csv', encoding='utf-8-sig')"
      ],
      "metadata": {
        "id": "CPCl3nBJozB4"
      },
      "execution_count": 6,
      "outputs": []
    },
    {
      "cell_type": "code",
      "source": [
        "df.head(3)"
      ],
      "metadata": {
        "colab": {
          "base_uri": "https://localhost:8080/",
          "height": 299
        },
        "id": "jk4oU2z9pEeT",
        "outputId": "e22d6ffd-9a7f-45c1-be98-4723e2bb6445"
      },
      "execution_count": 7,
      "outputs": [
        {
          "output_type": "execute_result",
          "data": {
            "text/plain": [
              "          id                                            ori_doc  label  \\\n",
              "0  9983364.0  본 영화중 가장 특이한 분위기의 영화같다. 내용도 독특하고 억지스러운부분도 있고 맘...    0.0   \n",
              "1  9325100.0  점점 내용이 이상해지는것같다 소라가 백연희딸이라더만 이젠 이화영은 정병국딸이란다 막...    0.0   \n",
              "2  8236827.0  지섭이한테 얘기안하고 끝나는거보니 또 둘러대고 넘어가겟네요~ 일단 이렇게 넘어가고 ...    0.0   \n",
              "\n",
              "                                                 ext  \\\n",
              "0    본 영화중 가장 특이한 분위기의 영화같다. 쓸데없이 스토리 전개는 느릿하고 반복되고.   \n",
              "1  점점 내용이 이상해지는것같다 소라가 백연희딸이라더만 이젠 이화영은 정병국딸이란다 막...   \n",
              "2  지섭이한테 얘기안하고 끝나는거보니 또 둘러대고 넘어가겟네요~ 일단 이렇게 넘어가고 ...   \n",
              "\n",
              "                                                 abs  \\\n",
              "0                   졸리캐릭터는 가엾은 기구한운명처럼 보이나 호감이 가진않음.   \n",
              "1  소라가 백연희딸이라더만 이젠 이화영은 이화영은 정병국딸이란다 막장드라마라는건 알고있...   \n",
              "2  지섭이한테 얘기안하고 끝나는거보니 또 둘러대고 넘어가겟네요~ 일단 이렇게 넘어가고 ...   \n",
              "\n",
              "                                                  bt  \\\n",
              "0  그것은 가장 특이한 분위기를 가진 영화와 같다. 내용은 독특하고 강제적이며, 나는 ...   \n",
              "1  가장 특이한 대기 영화와 같습니다. 내용은 독특하고 강요 당하고 나는 그것을 좋아하...   \n",
              "2  그것은 가장 특이한 분위기를 가진 영화와 같습니다. 내용은 독특하고 마음에 들지 않...   \n",
              "\n",
              "                                            document  \n",
              "0    본 영화중 가장 특이한 분위기의 영화같다. 쓸데없이 스토리 전개는 느릿하고 반복되고.  \n",
              "1  점점 내용이 이상해지는것같다 소라가 백연희딸이라더만 이젠 이화영은 정병국딸이란다 막...  \n",
              "2  지섭이한테 얘기안하고 끝나는거보니 또 둘러대고 넘어가겟네요~ 일단 이렇게 넘어가고 ...  "
            ],
            "text/html": [
              "\n",
              "  <div id=\"df-b9b92647-f509-4813-834d-1eec71b5f4de\" class=\"colab-df-container\">\n",
              "    <div>\n",
              "<style scoped>\n",
              "    .dataframe tbody tr th:only-of-type {\n",
              "        vertical-align: middle;\n",
              "    }\n",
              "\n",
              "    .dataframe tbody tr th {\n",
              "        vertical-align: top;\n",
              "    }\n",
              "\n",
              "    .dataframe thead th {\n",
              "        text-align: right;\n",
              "    }\n",
              "</style>\n",
              "<table border=\"1\" class=\"dataframe\">\n",
              "  <thead>\n",
              "    <tr style=\"text-align: right;\">\n",
              "      <th></th>\n",
              "      <th>id</th>\n",
              "      <th>ori_doc</th>\n",
              "      <th>label</th>\n",
              "      <th>ext</th>\n",
              "      <th>abs</th>\n",
              "      <th>bt</th>\n",
              "      <th>document</th>\n",
              "    </tr>\n",
              "  </thead>\n",
              "  <tbody>\n",
              "    <tr>\n",
              "      <th>0</th>\n",
              "      <td>9983364.0</td>\n",
              "      <td>본 영화중 가장 특이한 분위기의 영화같다. 내용도 독특하고 억지스러운부분도 있고 맘...</td>\n",
              "      <td>0.0</td>\n",
              "      <td>본 영화중 가장 특이한 분위기의 영화같다. 쓸데없이 스토리 전개는 느릿하고 반복되고.</td>\n",
              "      <td>졸리캐릭터는 가엾은 기구한운명처럼 보이나 호감이 가진않음.</td>\n",
              "      <td>그것은 가장 특이한 분위기를 가진 영화와 같다. 내용은 독특하고 강제적이며, 나는 ...</td>\n",
              "      <td>본 영화중 가장 특이한 분위기의 영화같다. 쓸데없이 스토리 전개는 느릿하고 반복되고.</td>\n",
              "    </tr>\n",
              "    <tr>\n",
              "      <th>1</th>\n",
              "      <td>9325100.0</td>\n",
              "      <td>점점 내용이 이상해지는것같다 소라가 백연희딸이라더만 이젠 이화영은 정병국딸이란다 막...</td>\n",
              "      <td>0.0</td>\n",
              "      <td>점점 내용이 이상해지는것같다 소라가 백연희딸이라더만 이젠 이화영은 정병국딸이란다 막...</td>\n",
              "      <td>소라가 백연희딸이라더만 이젠 이화영은 이화영은 정병국딸이란다 막장드라마라는건 알고있...</td>\n",
              "      <td>가장 특이한 대기 영화와 같습니다. 내용은 독특하고 강요 당하고 나는 그것을 좋아하...</td>\n",
              "      <td>점점 내용이 이상해지는것같다 소라가 백연희딸이라더만 이젠 이화영은 정병국딸이란다 막...</td>\n",
              "    </tr>\n",
              "    <tr>\n",
              "      <th>2</th>\n",
              "      <td>8236827.0</td>\n",
              "      <td>지섭이한테 얘기안하고 끝나는거보니 또 둘러대고 넘어가겟네요~ 일단 이렇게 넘어가고 ...</td>\n",
              "      <td>0.0</td>\n",
              "      <td>지섭이한테 얘기안하고 끝나는거보니 또 둘러대고 넘어가겟네요~ 일단 이렇게 넘어가고 ...</td>\n",
              "      <td>지섭이한테 얘기안하고 끝나는거보니 또 둘러대고 넘어가겟네요~ 일단 이렇게 넘어가고 ...</td>\n",
              "      <td>그것은 가장 특이한 분위기를 가진 영화와 같습니다. 내용은 독특하고 마음에 들지 않...</td>\n",
              "      <td>지섭이한테 얘기안하고 끝나는거보니 또 둘러대고 넘어가겟네요~ 일단 이렇게 넘어가고 ...</td>\n",
              "    </tr>\n",
              "  </tbody>\n",
              "</table>\n",
              "</div>\n",
              "    <div class=\"colab-df-buttons\">\n",
              "\n",
              "  <div class=\"colab-df-container\">\n",
              "    <button class=\"colab-df-convert\" onclick=\"convertToInteractive('df-b9b92647-f509-4813-834d-1eec71b5f4de')\"\n",
              "            title=\"Convert this dataframe to an interactive table.\"\n",
              "            style=\"display:none;\">\n",
              "\n",
              "  <svg xmlns=\"http://www.w3.org/2000/svg\" height=\"24px\" viewBox=\"0 -960 960 960\">\n",
              "    <path d=\"M120-120v-720h720v720H120Zm60-500h600v-160H180v160Zm220 220h160v-160H400v160Zm0 220h160v-160H400v160ZM180-400h160v-160H180v160Zm440 0h160v-160H620v160ZM180-180h160v-160H180v160Zm440 0h160v-160H620v160Z\"/>\n",
              "  </svg>\n",
              "    </button>\n",
              "\n",
              "  <style>\n",
              "    .colab-df-container {\n",
              "      display:flex;\n",
              "      gap: 12px;\n",
              "    }\n",
              "\n",
              "    .colab-df-convert {\n",
              "      background-color: #E8F0FE;\n",
              "      border: none;\n",
              "      border-radius: 50%;\n",
              "      cursor: pointer;\n",
              "      display: none;\n",
              "      fill: #1967D2;\n",
              "      height: 32px;\n",
              "      padding: 0 0 0 0;\n",
              "      width: 32px;\n",
              "    }\n",
              "\n",
              "    .colab-df-convert:hover {\n",
              "      background-color: #E2EBFA;\n",
              "      box-shadow: 0px 1px 2px rgba(60, 64, 67, 0.3), 0px 1px 3px 1px rgba(60, 64, 67, 0.15);\n",
              "      fill: #174EA6;\n",
              "    }\n",
              "\n",
              "    .colab-df-buttons div {\n",
              "      margin-bottom: 4px;\n",
              "    }\n",
              "\n",
              "    [theme=dark] .colab-df-convert {\n",
              "      background-color: #3B4455;\n",
              "      fill: #D2E3FC;\n",
              "    }\n",
              "\n",
              "    [theme=dark] .colab-df-convert:hover {\n",
              "      background-color: #434B5C;\n",
              "      box-shadow: 0px 1px 3px 1px rgba(0, 0, 0, 0.15);\n",
              "      filter: drop-shadow(0px 1px 2px rgba(0, 0, 0, 0.3));\n",
              "      fill: #FFFFFF;\n",
              "    }\n",
              "  </style>\n",
              "\n",
              "    <script>\n",
              "      const buttonEl =\n",
              "        document.querySelector('#df-b9b92647-f509-4813-834d-1eec71b5f4de button.colab-df-convert');\n",
              "      buttonEl.style.display =\n",
              "        google.colab.kernel.accessAllowed ? 'block' : 'none';\n",
              "\n",
              "      async function convertToInteractive(key) {\n",
              "        const element = document.querySelector('#df-b9b92647-f509-4813-834d-1eec71b5f4de');\n",
              "        const dataTable =\n",
              "          await google.colab.kernel.invokeFunction('convertToInteractive',\n",
              "                                                    [key], {});\n",
              "        if (!dataTable) return;\n",
              "\n",
              "        const docLinkHtml = 'Like what you see? Visit the ' +\n",
              "          '<a target=\"_blank\" href=https://colab.research.google.com/notebooks/data_table.ipynb>data table notebook</a>'\n",
              "          + ' to learn more about interactive tables.';\n",
              "        element.innerHTML = '';\n",
              "        dataTable['output_type'] = 'display_data';\n",
              "        await google.colab.output.renderOutput(dataTable, element);\n",
              "        const docLink = document.createElement('div');\n",
              "        docLink.innerHTML = docLinkHtml;\n",
              "        element.appendChild(docLink);\n",
              "      }\n",
              "    </script>\n",
              "  </div>\n",
              "\n",
              "\n",
              "<div id=\"df-98e7ddd2-556c-4b27-9795-d6f5936ef54d\">\n",
              "  <button class=\"colab-df-quickchart\" onclick=\"quickchart('df-98e7ddd2-556c-4b27-9795-d6f5936ef54d')\"\n",
              "            title=\"Suggest charts\"\n",
              "            style=\"display:none;\">\n",
              "\n",
              "<svg xmlns=\"http://www.w3.org/2000/svg\" height=\"24px\"viewBox=\"0 0 24 24\"\n",
              "     width=\"24px\">\n",
              "    <g>\n",
              "        <path d=\"M19 3H5c-1.1 0-2 .9-2 2v14c0 1.1.9 2 2 2h14c1.1 0 2-.9 2-2V5c0-1.1-.9-2-2-2zM9 17H7v-7h2v7zm4 0h-2V7h2v10zm4 0h-2v-4h2v4z\"/>\n",
              "    </g>\n",
              "</svg>\n",
              "  </button>\n",
              "\n",
              "<style>\n",
              "  .colab-df-quickchart {\n",
              "      --bg-color: #E8F0FE;\n",
              "      --fill-color: #1967D2;\n",
              "      --hover-bg-color: #E2EBFA;\n",
              "      --hover-fill-color: #174EA6;\n",
              "      --disabled-fill-color: #AAA;\n",
              "      --disabled-bg-color: #DDD;\n",
              "  }\n",
              "\n",
              "  [theme=dark] .colab-df-quickchart {\n",
              "      --bg-color: #3B4455;\n",
              "      --fill-color: #D2E3FC;\n",
              "      --hover-bg-color: #434B5C;\n",
              "      --hover-fill-color: #FFFFFF;\n",
              "      --disabled-bg-color: #3B4455;\n",
              "      --disabled-fill-color: #666;\n",
              "  }\n",
              "\n",
              "  .colab-df-quickchart {\n",
              "    background-color: var(--bg-color);\n",
              "    border: none;\n",
              "    border-radius: 50%;\n",
              "    cursor: pointer;\n",
              "    display: none;\n",
              "    fill: var(--fill-color);\n",
              "    height: 32px;\n",
              "    padding: 0;\n",
              "    width: 32px;\n",
              "  }\n",
              "\n",
              "  .colab-df-quickchart:hover {\n",
              "    background-color: var(--hover-bg-color);\n",
              "    box-shadow: 0 1px 2px rgba(60, 64, 67, 0.3), 0 1px 3px 1px rgba(60, 64, 67, 0.15);\n",
              "    fill: var(--button-hover-fill-color);\n",
              "  }\n",
              "\n",
              "  .colab-df-quickchart-complete:disabled,\n",
              "  .colab-df-quickchart-complete:disabled:hover {\n",
              "    background-color: var(--disabled-bg-color);\n",
              "    fill: var(--disabled-fill-color);\n",
              "    box-shadow: none;\n",
              "  }\n",
              "\n",
              "  .colab-df-spinner {\n",
              "    border: 2px solid var(--fill-color);\n",
              "    border-color: transparent;\n",
              "    border-bottom-color: var(--fill-color);\n",
              "    animation:\n",
              "      spin 1s steps(1) infinite;\n",
              "  }\n",
              "\n",
              "  @keyframes spin {\n",
              "    0% {\n",
              "      border-color: transparent;\n",
              "      border-bottom-color: var(--fill-color);\n",
              "      border-left-color: var(--fill-color);\n",
              "    }\n",
              "    20% {\n",
              "      border-color: transparent;\n",
              "      border-left-color: var(--fill-color);\n",
              "      border-top-color: var(--fill-color);\n",
              "    }\n",
              "    30% {\n",
              "      border-color: transparent;\n",
              "      border-left-color: var(--fill-color);\n",
              "      border-top-color: var(--fill-color);\n",
              "      border-right-color: var(--fill-color);\n",
              "    }\n",
              "    40% {\n",
              "      border-color: transparent;\n",
              "      border-right-color: var(--fill-color);\n",
              "      border-top-color: var(--fill-color);\n",
              "    }\n",
              "    60% {\n",
              "      border-color: transparent;\n",
              "      border-right-color: var(--fill-color);\n",
              "    }\n",
              "    80% {\n",
              "      border-color: transparent;\n",
              "      border-right-color: var(--fill-color);\n",
              "      border-bottom-color: var(--fill-color);\n",
              "    }\n",
              "    90% {\n",
              "      border-color: transparent;\n",
              "      border-bottom-color: var(--fill-color);\n",
              "    }\n",
              "  }\n",
              "</style>\n",
              "\n",
              "  <script>\n",
              "    async function quickchart(key) {\n",
              "      const quickchartButtonEl =\n",
              "        document.querySelector('#' + key + ' button');\n",
              "      quickchartButtonEl.disabled = true;  // To prevent multiple clicks.\n",
              "      quickchartButtonEl.classList.add('colab-df-spinner');\n",
              "      try {\n",
              "        const charts = await google.colab.kernel.invokeFunction(\n",
              "            'suggestCharts', [key], {});\n",
              "      } catch (error) {\n",
              "        console.error('Error during call to suggestCharts:', error);\n",
              "      }\n",
              "      quickchartButtonEl.classList.remove('colab-df-spinner');\n",
              "      quickchartButtonEl.classList.add('colab-df-quickchart-complete');\n",
              "    }\n",
              "    (() => {\n",
              "      let quickchartButtonEl =\n",
              "        document.querySelector('#df-98e7ddd2-556c-4b27-9795-d6f5936ef54d button');\n",
              "      quickchartButtonEl.style.display =\n",
              "        google.colab.kernel.accessAllowed ? 'block' : 'none';\n",
              "    })();\n",
              "  </script>\n",
              "</div>\n",
              "\n",
              "    </div>\n",
              "  </div>\n"
            ],
            "application/vnd.google.colaboratory.intrinsic+json": {
              "type": "dataframe",
              "variable_name": "df",
              "summary": "{\n  \"name\": \"df\",\n  \"rows\": 1000,\n  \"fields\": [\n    {\n      \"column\": \"id\",\n      \"properties\": {\n        \"dtype\": \"number\",\n        \"std\": 1102644.2045869855,\n        \"min\": 6433642.0,\n        \"max\": 10255561.0,\n        \"num_unique_values\": 100,\n        \"samples\": [\n          7843957.0,\n          9328178.0,\n          10059501.0\n        ],\n        \"semantic_type\": \"\",\n        \"description\": \"\"\n      }\n    },\n    {\n      \"column\": \"ori_doc\",\n      \"properties\": {\n        \"dtype\": \"category\",\n        \"num_unique_values\": 100,\n        \"samples\": [\n          \"\\uc774 \\uc601\\ud654\\uc758 \\ubab0\\uc785\\ub3c4 \\ub5a8\\uad6c\\ub294 \\uc81c 1 \\uc694\\uc18c\\ub294 \\uc5ec\\uc8fc\\uc778\\uacf5\\uc5d0 \\uc788\\ub2e4.\\uc2dc\\uc885\\uc77c\\uad00 \\ub2f5\\ub2f5\\ud558\\ub2e4 \\ub2f5\\ub2f5\\ud574.\\ud604\\uc2e4\\uc5d0\\uc11c \\uc800\\ub7ac\\uc73c\\uba74 \\uacbd\\ucc30\\ucde8\\uc870 10\\ubd84\\uc548\\uc5d0 \\uc2dc\\ubca0\\ub9ac\\uc544 \\ubc8c\\ud310 \\ubd88\\uacf0 \\uba39\\uc774\\ub85c \\ub358\\uc838\\uc84c\\uc744\\uac70\\ub2e4.\",\n          \"\\uc9c0\\uae08\\uaecf \\ubcf8 \\uc601\\ud654\\uc911\\uc5d0 \\ucd5c\\uc545\\uc774\\uc5c8\\uc74c \\uadf9\\uc7a5\\uc5d0\\uc11c \\uc601\\ud654\\ubcf4\\ub2e4 \\ub3c4\\uc911\\uc5d0 \\ub098\\uc628\\uac74 \\ucca8\\uc774\\uc5c8\\ub2e4. \\uc2dc\\uac04\\uc774 \\ub108\\ubb34 \\uc544\\uae4c\\uc6e0\\uc74c \\ud3c9\\uc810 \\ub192\\uac8c \\uc900 \\uc0ac\\ub78c\\ub4e4\\uc740 \\ub300\\uccb4 \\ubb50\\uc9c0?\",\n          \"\\ub9ce\\uc774 \\uc9c0\\ub8e8\\ud588\\uc74c. \\uadf8\\ub807\\uac8c \\uae34 \\ub7ec\\ub2dd\\ud0c0\\uc784\\ub3c4 \\uc544\\ub2c8\\uc5c8\\ub294\\ub370 \\ube68\\ub9ac \\ub05d\\ub098\\uae30\\ub9cc\\uc744 \\ubc14\\ub77c\\uace0 \\uc788\\uc5c8\\ub2e4. \\ub0b4\\uac00 \\ud14c\\uc624\\ub3c4\\ub974\\uc600\\uc5b4\\ub3c4 \\uc0ac\\ub9cc\\ub2e4\\uc640 \\uc0ac\\ub791\\uc5d0 \\ube60\\uc84c\\uc744 \\uac70 \\uac19\\ub2e4. \\ub458\\uc758 \\uc0ac\\ub791\\uc740 \\uc794\\uc794\\ud558\\uace0 \\uc88b\\uc558\\ub294\\ub370 \\ud638\\uc544\\ud0a8 \\ud53c\\ub2c9\\uc2a4\\ub9cc \\ub108\\ubb34 \\ub098\\uc640\\uc11c \\ucc38\\uace0 \\ubcf4\\uae30 \\ud798\\ub4ec.\"\n        ],\n        \"semantic_type\": \"\",\n        \"description\": \"\"\n      }\n    },\n    {\n      \"column\": \"label\",\n      \"properties\": {\n        \"dtype\": \"number\",\n        \"std\": 0.0,\n        \"min\": 0.0,\n        \"max\": 0.0,\n        \"num_unique_values\": 1,\n        \"samples\": [\n          0.0\n        ],\n        \"semantic_type\": \"\",\n        \"description\": \"\"\n      }\n    },\n    {\n      \"column\": \"ext\",\n      \"properties\": {\n        \"dtype\": \"category\",\n        \"num_unique_values\": 185,\n        \"samples\": [\n          \"\\uc774\\uc601\\ud654\\uc5d0\\uc11c \\uc81c\\uc77c \\ub098\\uc05c\\ub188\\uc740 \\uc5bc\\uc708\\uc7a5\\uad70\\uc774\\ub780 \\uc0dd\\uac01\\uc774\\ub4e0\\ub2e4 \\uc4f0\\ub808\\uae30\\uc601\\ud654\"\n        ],\n        \"semantic_type\": \"\",\n        \"description\": \"\"\n      }\n    },\n    {\n      \"column\": \"abs\",\n      \"properties\": {\n        \"dtype\": \"category\",\n        \"num_unique_values\": 299,\n        \"samples\": [\n          \"\\uc81c\\ubaa9\\ubc14\\uafd4\\ub77c \\uc2a4\\ud1a0\\ub9ac\\uac00 \\uadf8\\ub0e5 \\ub2e4\\ub974\\uad6c\\ub9cc ,,\\uc800\\uc608\\uc0b0\\uc73c\\ub85c \\ub9cc\\ub4e0\\uac70 \\ud64d\\ubcf4\\ud558\\ub0d0?\\uc911\\uc694\\uc52c\\ub4e4 \\uc804\\ubd80 \\uc800\\uc608\\uc0b0\\uc73c\\ub85c \\ubc14\\uafb8\\ub824 \\uc560\\uc4f4\\uac8c \\ud2f0\\ub09c\\ub2e4. \"\n        ],\n        \"semantic_type\": \"\",\n        \"description\": \"\"\n      }\n    },\n    {\n      \"column\": \"bt\",\n      \"properties\": {\n        \"dtype\": \"category\",\n        \"num_unique_values\": 297,\n        \"samples\": [\n          \"\\uc544 ...\\uc774 \\uc601\\ud654\\uc758 \\ub9c8\\uc9c0\\ub9c9 \\uc7a5\\uba74\\uc744 \\ubcf4\\ub294 \\uac83 \\uac19\\uc544\\uc694 ... \\uadf8 \\ub450 \\uc544\\uc774\\ub4e4\\uc5d0\\uac8c \\ubb34\\uc2a8 \\uc77c\\uc774 \\uc788\\uc5c8\\ub294\\uc9c0 ..?Lee Ki -Wook \\uac10\\ub3c5\\uc740 \\uc5b4\\ub5bb\\uac8c \\ub418\\uc5c8\\uc2b5\\ub2c8\\uae4c?\"\n        ],\n        \"semantic_type\": \"\",\n        \"description\": \"\"\n      }\n    },\n    {\n      \"column\": \"document\",\n      \"properties\": {\n        \"dtype\": \"string\",\n        \"num_unique_values\": 851,\n        \"samples\": [\n          \"\\uc694\\uc0c8 \\ub4dc\\ub77c\\ub9c8\\ub4e0 \\uc601\\ud654\\ub4e0 \\uc2dc\\uc6d0\\ucc98\\ub7fc \\ud22c\\ube14\\ub7ed\\ud558\\uace0 \\ub098\\uc62c\\ub54c\\ub9c8\\ub098 \\uc801\\uc751\\ub3c4 \\uc548\\ub418\\uace0 \\uc9d1\\uc911\\ub3c4 \\uc548\\ub41c\\ub2e4. \\ud2b9\\ud788 \\uc0ac\\uadf9\\uc774\\ub098 \\ud310\\ud0c0\\uc9c0 \\uc0ac\\uadf9\\ud560\\ub54c \\uba38\\ub9ac \\ub2e4 \\ud480\\uc5b4\\ud5e4\\uce58\\uace0 \\ub098\\uc62c\\ub54c.. \\ud574\\ud488\\ub2ec\\ubd10\\ubd10 \\ud310\\ud0c0\\uc9c0\\uc0ac\\uadf9\\uc778\\ub370\\ub3c4 \\ubcf5\\uc7a5\\uc740 \\uc81c\\ub300\\ub85c \\ud558\\uace0\\ub098\\uc624\\uc796\\uc544.\"\n        ],\n        \"semantic_type\": \"\",\n        \"description\": \"\"\n      }\n    }\n  ]\n}"
            }
          },
          "metadata": {},
          "execution_count": 7
        }
      ]
    },
    {
      "cell_type": "code",
      "source": [
        "# 증강 적용\n",
        "df['text_swap'] = df['document'].apply(lambda x: augment_text(x, synonym_dict, swap_n=2))\n",
        "df['text_insert'] = df['document'].apply(lambda x: augment_text(x, synonym_dict, insert_n=2))\n",
        "df['text_delete'] = df['document'].apply(lambda x: augment_text(x, synonym_dict, delete_p=0.2))\n",
        "df['text_replace'] = df['document'].apply(lambda x: augment_text(x, synonym_dict, replace_n=2))"
      ],
      "metadata": {
        "id": "2t5epBAuozFv"
      },
      "execution_count": 8,
      "outputs": []
    },
    {
      "cell_type": "code",
      "source": [
        "df.to_csv('NSMC2_융합1_eda.csv', encoding='utf-8-sig')"
      ],
      "metadata": {
        "id": "E-1Ooq_OozIh"
      },
      "execution_count": 9,
      "outputs": []
    },
    {
      "cell_type": "code",
      "source": [],
      "metadata": {
        "id": "Y0uDBhoHotQa"
      },
      "execution_count": null,
      "outputs": []
    },
    {
      "cell_type": "code",
      "source": [],
      "metadata": {
        "id": "mdxiYWDxotSr"
      },
      "execution_count": null,
      "outputs": []
    },
    {
      "cell_type": "code",
      "source": [],
      "metadata": {
        "id": "TQVlD9bPndyr"
      },
      "execution_count": null,
      "outputs": []
    },
    {
      "cell_type": "code",
      "source": [],
      "metadata": {
        "id": "3k8ndp84mqs8"
      },
      "execution_count": null,
      "outputs": []
    }
  ]
}