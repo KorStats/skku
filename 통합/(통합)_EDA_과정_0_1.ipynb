{
  "nbformat": 4,
  "nbformat_minor": 0,
  "metadata": {
    "colab": {
      "provenance": [],
      "include_colab_link": true
    },
    "kernelspec": {
      "name": "python3",
      "display_name": "Python 3"
    },
    "language_info": {
      "name": "python"
    }
  },
  "cells": [
    {
      "cell_type": "markdown",
      "metadata": {
        "id": "view-in-github",
        "colab_type": "text"
      },
      "source": [
        "<a href=\"https://colab.research.google.com/github/KorStats/skku/blob/main/%ED%86%B5%ED%95%A9/(%ED%86%B5%ED%95%A9)_EDA_%EA%B3%BC%EC%A0%95_0_1.ipynb\" target=\"_parent\"><img src=\"https://colab.research.google.com/assets/colab-badge.svg\" alt=\"Open In Colab\"/></a>"
      ]
    },
    {
      "cell_type": "code",
      "source": [
        "pip install konlpy"
      ],
      "metadata": {
        "colab": {
          "base_uri": "https://localhost:8080/"
        },
        "id": "GtSu-ZJ0mY0G",
        "outputId": "acab072b-8bda-4f10-c84a-46d6e1d52544"
      },
      "execution_count": 1,
      "outputs": [
        {
          "output_type": "stream",
          "name": "stdout",
          "text": [
            "Collecting konlpy\n",
            "  Downloading konlpy-0.6.0-py2.py3-none-any.whl.metadata (1.9 kB)\n",
            "Collecting JPype1>=0.7.0 (from konlpy)\n",
            "  Downloading jpype1-1.5.2-cp311-cp311-manylinux_2_17_x86_64.manylinux2014_x86_64.whl.metadata (4.9 kB)\n",
            "Requirement already satisfied: lxml>=4.1.0 in /usr/local/lib/python3.11/dist-packages (from konlpy) (5.3.1)\n",
            "Requirement already satisfied: numpy>=1.6 in /usr/local/lib/python3.11/dist-packages (from konlpy) (2.0.2)\n",
            "Requirement already satisfied: packaging in /usr/local/lib/python3.11/dist-packages (from JPype1>=0.7.0->konlpy) (24.2)\n",
            "Downloading konlpy-0.6.0-py2.py3-none-any.whl (19.4 MB)\n",
            "\u001b[2K   \u001b[90m━━━━━━━━━━━━━━━━━━━━━━━━━━━━━━━━━━━━━━━━\u001b[0m \u001b[32m19.4/19.4 MB\u001b[0m \u001b[31m40.8 MB/s\u001b[0m eta \u001b[36m0:00:00\u001b[0m\n",
            "\u001b[?25hDownloading jpype1-1.5.2-cp311-cp311-manylinux_2_17_x86_64.manylinux2014_x86_64.whl (494 kB)\n",
            "\u001b[2K   \u001b[90m━━━━━━━━━━━━━━━━━━━━━━━━━━━━━━━━━━━━━━━━\u001b[0m \u001b[32m494.1/494.1 kB\u001b[0m \u001b[31m13.5 MB/s\u001b[0m eta \u001b[36m0:00:00\u001b[0m\n",
            "\u001b[?25hInstalling collected packages: JPype1, konlpy\n",
            "Successfully installed JPype1-1.5.2 konlpy-0.6.0\n"
          ]
        }
      ]
    },
    {
      "cell_type": "code",
      "execution_count": 2,
      "metadata": {
        "id": "FohqghZclFJz"
      },
      "outputs": [],
      "source": [
        "import pickle\n",
        "import random\n",
        "from konlpy.tag import Okt\n",
        "\n",
        "# 동의어 사전 로드\n",
        "def load_synonym_dict(pickle_file):\n",
        "    with open(pickle_file, 'rb') as f:\n",
        "        synonym_dict = pickle.load(f)\n",
        "    return synonym_dict\n",
        "\n",
        "# Random Swap (랜덤 단어 교환)\n",
        "def random_swap(words, n=1):\n",
        "    words = words.copy()\n",
        "    for _ in range(n):\n",
        "        idx1, idx2 = random.sample(range(len(words)), 2)\n",
        "        words[idx1], words[idx2] = words[idx2], words[idx1]\n",
        "    return words\n",
        "\n",
        "# Random Insertion (랜덤 단어 삽입)\n",
        "def random_insertion(words, synonym_dict, n=1):\n",
        "    words = words.copy()\n",
        "    for _ in range(n):\n",
        "        idx = random.randint(0, len(words) - 1)\n",
        "        word = words[idx]\n",
        "        if word in synonym_dict:\n",
        "            words.insert(idx, random.choice(synonym_dict[word]))\n",
        "    return words\n",
        "\n",
        "# Random Delete (랜덤 단어 삭제)\n",
        "def random_delete(words, p=0.1):\n",
        "    if len(words) == 1:\n",
        "        return words\n",
        "    return [word for word in words if random.random() > p]\n",
        "\n",
        "# Synonym Replacement (동의어 대체)\n",
        "def synonym_replacement(words, synonym_dict, n=1):\n",
        "    words = words.copy()\n",
        "    for _ in range(n):\n",
        "        idx = random.randint(0, len(words) - 1)\n",
        "        word = words[idx]\n",
        "        if word in synonym_dict:\n",
        "            words[idx] = random.choice(synonym_dict[word])\n",
        "    return words\n",
        "\n",
        "# 데이터 증강 실행 함수\n",
        "#def augment_text(text, synonym_dict, swap_n=1, insert_n=1, delete_p=0.1, replace_n=1):\n",
        "#    okt = Okt()\n",
        "#    words = okt.morphs(text)  # Okt를 이용한 토큰화\n",
        "#    words = random_swap(words, swap_n)\n",
        "#    words = random_insertion(words, synonym_dict, insert_n)\n",
        "#    words = random_delete(words, delete_p)\n",
        "#    words = synonym_replacement(words, synonym_dict, replace_n)\n",
        "#    return ' '.join(words)"
      ]
    },
    {
      "cell_type": "code",
      "source": [
        "# 동의어 사전 로드\n",
        "synonym_dict = load_synonym_dict('/content/wordnet.pickle')"
      ],
      "metadata": {
        "id": "fc4DERRBnIhZ"
      },
      "execution_count": 4,
      "outputs": []
    },
    {
      "cell_type": "code",
      "source": [
        "# 데이터 증강 실행 함수\n",
        "def augment_text(text, synonym_dict, swap_n=0, insert_n=0, delete_p=0, replace_n=0):\n",
        "    okt = Okt()\n",
        "    words = okt.morphs(text)  # Okt를 이용한 토큰화\n",
        "\n",
        "    if swap_n > 0:\n",
        "        words = random_swap(words, swap_n)\n",
        "    if insert_n > 0:\n",
        "        words = random_insertion(words, synonym_dict, insert_n)\n",
        "    if delete_p > 0:\n",
        "        words = random_delete(words, delete_p)\n",
        "    if replace_n > 0:\n",
        "        words = synonym_replacement(words, synonym_dict, replace_n)\n",
        "\n",
        "    return ' '.join(words)"
      ],
      "metadata": {
        "id": "Zw24ukjLm2aE"
      },
      "execution_count": 5,
      "outputs": []
    },
    {
      "cell_type": "code",
      "source": [],
      "metadata": {
        "id": "IQREPLOvopJb"
      },
      "execution_count": 5,
      "outputs": []
    },
    {
      "cell_type": "code",
      "source": [],
      "metadata": {
        "id": "P6bplPHdopL6"
      },
      "execution_count": 5,
      "outputs": []
    },
    {
      "cell_type": "markdown",
      "source": [
        "# 데이터불러오기"
      ],
      "metadata": {
        "id": "o91Ro9I4opg_"
      }
    },
    {
      "cell_type": "code",
      "source": [
        "from google.colab import drive\n",
        "drive.mount('/content/gdrive')\n",
        "!ln -s /content/gdrive/My\\ Drive/ /mydrive\n",
        "!ls /mydrive"
      ],
      "metadata": {
        "colab": {
          "base_uri": "https://localhost:8080/"
        },
        "id": "gYg4ICQlotOB",
        "outputId": "d4a2e04d-8260-4cc4-b11e-572378d533c4"
      },
      "execution_count": 6,
      "outputs": [
        {
          "output_type": "stream",
          "name": "stdout",
          "text": [
            "Mounted at /content/gdrive\n",
            "'Colab Notebooks'   이전   졸업논문\n"
          ]
        }
      ]
    },
    {
      "cell_type": "code",
      "source": [
        "import pandas as pd\n",
        "df= pd.read_csv('/content/gdrive/MyDrive/졸업논문/NSMC2_0.1_증분대상_500개.csv', encoding='utf-8-sig')"
      ],
      "metadata": {
        "id": "CPCl3nBJozB4"
      },
      "execution_count": 7,
      "outputs": []
    },
    {
      "cell_type": "code",
      "source": [
        "df.head(3)"
      ],
      "metadata": {
        "colab": {
          "base_uri": "https://localhost:8080/",
          "height": 143
        },
        "id": "jk4oU2z9pEeT",
        "outputId": "edae9cbd-aef8-4501-ca68-00ac34e2e591"
      },
      "execution_count": 8,
      "outputs": [
        {
          "output_type": "execute_result",
          "data": {
            "text/plain": [
              "        id                                           document  label\n",
              "0  8744926  1.전체적스토리와 주연 제외 나머지 인물들의 연기가 너무 오글오글(특히 여자주인공 ...      0\n",
              "1  9797076  지나치게 폭력적, 대사의 절반이 욕설, 알 파치노의 연기는 좋았지만 개인적으로 매력...      0\n",
              "2  9305804  결말도 후지고 도입부분도 매우 그것도 아주 많이 지루하다 그리고 마지막 하일라이트 ...      0"
            ],
            "text/html": [
              "\n",
              "  <div id=\"df-ed40a2b6-8c88-464d-966a-f147fbfc2e21\" class=\"colab-df-container\">\n",
              "    <div>\n",
              "<style scoped>\n",
              "    .dataframe tbody tr th:only-of-type {\n",
              "        vertical-align: middle;\n",
              "    }\n",
              "\n",
              "    .dataframe tbody tr th {\n",
              "        vertical-align: top;\n",
              "    }\n",
              "\n",
              "    .dataframe thead th {\n",
              "        text-align: right;\n",
              "    }\n",
              "</style>\n",
              "<table border=\"1\" class=\"dataframe\">\n",
              "  <thead>\n",
              "    <tr style=\"text-align: right;\">\n",
              "      <th></th>\n",
              "      <th>id</th>\n",
              "      <th>document</th>\n",
              "      <th>label</th>\n",
              "    </tr>\n",
              "  </thead>\n",
              "  <tbody>\n",
              "    <tr>\n",
              "      <th>0</th>\n",
              "      <td>8744926</td>\n",
              "      <td>1.전체적스토리와 주연 제외 나머지 인물들의 연기가 너무 오글오글(특히 여자주인공 ...</td>\n",
              "      <td>0</td>\n",
              "    </tr>\n",
              "    <tr>\n",
              "      <th>1</th>\n",
              "      <td>9797076</td>\n",
              "      <td>지나치게 폭력적, 대사의 절반이 욕설, 알 파치노의 연기는 좋았지만 개인적으로 매력...</td>\n",
              "      <td>0</td>\n",
              "    </tr>\n",
              "    <tr>\n",
              "      <th>2</th>\n",
              "      <td>9305804</td>\n",
              "      <td>결말도 후지고 도입부분도 매우 그것도 아주 많이 지루하다 그리고 마지막 하일라이트 ...</td>\n",
              "      <td>0</td>\n",
              "    </tr>\n",
              "  </tbody>\n",
              "</table>\n",
              "</div>\n",
              "    <div class=\"colab-df-buttons\">\n",
              "\n",
              "  <div class=\"colab-df-container\">\n",
              "    <button class=\"colab-df-convert\" onclick=\"convertToInteractive('df-ed40a2b6-8c88-464d-966a-f147fbfc2e21')\"\n",
              "            title=\"Convert this dataframe to an interactive table.\"\n",
              "            style=\"display:none;\">\n",
              "\n",
              "  <svg xmlns=\"http://www.w3.org/2000/svg\" height=\"24px\" viewBox=\"0 -960 960 960\">\n",
              "    <path d=\"M120-120v-720h720v720H120Zm60-500h600v-160H180v160Zm220 220h160v-160H400v160Zm0 220h160v-160H400v160ZM180-400h160v-160H180v160Zm440 0h160v-160H620v160ZM180-180h160v-160H180v160Zm440 0h160v-160H620v160Z\"/>\n",
              "  </svg>\n",
              "    </button>\n",
              "\n",
              "  <style>\n",
              "    .colab-df-container {\n",
              "      display:flex;\n",
              "      gap: 12px;\n",
              "    }\n",
              "\n",
              "    .colab-df-convert {\n",
              "      background-color: #E8F0FE;\n",
              "      border: none;\n",
              "      border-radius: 50%;\n",
              "      cursor: pointer;\n",
              "      display: none;\n",
              "      fill: #1967D2;\n",
              "      height: 32px;\n",
              "      padding: 0 0 0 0;\n",
              "      width: 32px;\n",
              "    }\n",
              "\n",
              "    .colab-df-convert:hover {\n",
              "      background-color: #E2EBFA;\n",
              "      box-shadow: 0px 1px 2px rgba(60, 64, 67, 0.3), 0px 1px 3px 1px rgba(60, 64, 67, 0.15);\n",
              "      fill: #174EA6;\n",
              "    }\n",
              "\n",
              "    .colab-df-buttons div {\n",
              "      margin-bottom: 4px;\n",
              "    }\n",
              "\n",
              "    [theme=dark] .colab-df-convert {\n",
              "      background-color: #3B4455;\n",
              "      fill: #D2E3FC;\n",
              "    }\n",
              "\n",
              "    [theme=dark] .colab-df-convert:hover {\n",
              "      background-color: #434B5C;\n",
              "      box-shadow: 0px 1px 3px 1px rgba(0, 0, 0, 0.15);\n",
              "      filter: drop-shadow(0px 1px 2px rgba(0, 0, 0, 0.3));\n",
              "      fill: #FFFFFF;\n",
              "    }\n",
              "  </style>\n",
              "\n",
              "    <script>\n",
              "      const buttonEl =\n",
              "        document.querySelector('#df-ed40a2b6-8c88-464d-966a-f147fbfc2e21 button.colab-df-convert');\n",
              "      buttonEl.style.display =\n",
              "        google.colab.kernel.accessAllowed ? 'block' : 'none';\n",
              "\n",
              "      async function convertToInteractive(key) {\n",
              "        const element = document.querySelector('#df-ed40a2b6-8c88-464d-966a-f147fbfc2e21');\n",
              "        const dataTable =\n",
              "          await google.colab.kernel.invokeFunction('convertToInteractive',\n",
              "                                                    [key], {});\n",
              "        if (!dataTable) return;\n",
              "\n",
              "        const docLinkHtml = 'Like what you see? Visit the ' +\n",
              "          '<a target=\"_blank\" href=https://colab.research.google.com/notebooks/data_table.ipynb>data table notebook</a>'\n",
              "          + ' to learn more about interactive tables.';\n",
              "        element.innerHTML = '';\n",
              "        dataTable['output_type'] = 'display_data';\n",
              "        await google.colab.output.renderOutput(dataTable, element);\n",
              "        const docLink = document.createElement('div');\n",
              "        docLink.innerHTML = docLinkHtml;\n",
              "        element.appendChild(docLink);\n",
              "      }\n",
              "    </script>\n",
              "  </div>\n",
              "\n",
              "\n",
              "<div id=\"df-274807fb-8beb-4f57-a656-ca4a1237655d\">\n",
              "  <button class=\"colab-df-quickchart\" onclick=\"quickchart('df-274807fb-8beb-4f57-a656-ca4a1237655d')\"\n",
              "            title=\"Suggest charts\"\n",
              "            style=\"display:none;\">\n",
              "\n",
              "<svg xmlns=\"http://www.w3.org/2000/svg\" height=\"24px\"viewBox=\"0 0 24 24\"\n",
              "     width=\"24px\">\n",
              "    <g>\n",
              "        <path d=\"M19 3H5c-1.1 0-2 .9-2 2v14c0 1.1.9 2 2 2h14c1.1 0 2-.9 2-2V5c0-1.1-.9-2-2-2zM9 17H7v-7h2v7zm4 0h-2V7h2v10zm4 0h-2v-4h2v4z\"/>\n",
              "    </g>\n",
              "</svg>\n",
              "  </button>\n",
              "\n",
              "<style>\n",
              "  .colab-df-quickchart {\n",
              "      --bg-color: #E8F0FE;\n",
              "      --fill-color: #1967D2;\n",
              "      --hover-bg-color: #E2EBFA;\n",
              "      --hover-fill-color: #174EA6;\n",
              "      --disabled-fill-color: #AAA;\n",
              "      --disabled-bg-color: #DDD;\n",
              "  }\n",
              "\n",
              "  [theme=dark] .colab-df-quickchart {\n",
              "      --bg-color: #3B4455;\n",
              "      --fill-color: #D2E3FC;\n",
              "      --hover-bg-color: #434B5C;\n",
              "      --hover-fill-color: #FFFFFF;\n",
              "      --disabled-bg-color: #3B4455;\n",
              "      --disabled-fill-color: #666;\n",
              "  }\n",
              "\n",
              "  .colab-df-quickchart {\n",
              "    background-color: var(--bg-color);\n",
              "    border: none;\n",
              "    border-radius: 50%;\n",
              "    cursor: pointer;\n",
              "    display: none;\n",
              "    fill: var(--fill-color);\n",
              "    height: 32px;\n",
              "    padding: 0;\n",
              "    width: 32px;\n",
              "  }\n",
              "\n",
              "  .colab-df-quickchart:hover {\n",
              "    background-color: var(--hover-bg-color);\n",
              "    box-shadow: 0 1px 2px rgba(60, 64, 67, 0.3), 0 1px 3px 1px rgba(60, 64, 67, 0.15);\n",
              "    fill: var(--button-hover-fill-color);\n",
              "  }\n",
              "\n",
              "  .colab-df-quickchart-complete:disabled,\n",
              "  .colab-df-quickchart-complete:disabled:hover {\n",
              "    background-color: var(--disabled-bg-color);\n",
              "    fill: var(--disabled-fill-color);\n",
              "    box-shadow: none;\n",
              "  }\n",
              "\n",
              "  .colab-df-spinner {\n",
              "    border: 2px solid var(--fill-color);\n",
              "    border-color: transparent;\n",
              "    border-bottom-color: var(--fill-color);\n",
              "    animation:\n",
              "      spin 1s steps(1) infinite;\n",
              "  }\n",
              "\n",
              "  @keyframes spin {\n",
              "    0% {\n",
              "      border-color: transparent;\n",
              "      border-bottom-color: var(--fill-color);\n",
              "      border-left-color: var(--fill-color);\n",
              "    }\n",
              "    20% {\n",
              "      border-color: transparent;\n",
              "      border-left-color: var(--fill-color);\n",
              "      border-top-color: var(--fill-color);\n",
              "    }\n",
              "    30% {\n",
              "      border-color: transparent;\n",
              "      border-left-color: var(--fill-color);\n",
              "      border-top-color: var(--fill-color);\n",
              "      border-right-color: var(--fill-color);\n",
              "    }\n",
              "    40% {\n",
              "      border-color: transparent;\n",
              "      border-right-color: var(--fill-color);\n",
              "      border-top-color: var(--fill-color);\n",
              "    }\n",
              "    60% {\n",
              "      border-color: transparent;\n",
              "      border-right-color: var(--fill-color);\n",
              "    }\n",
              "    80% {\n",
              "      border-color: transparent;\n",
              "      border-right-color: var(--fill-color);\n",
              "      border-bottom-color: var(--fill-color);\n",
              "    }\n",
              "    90% {\n",
              "      border-color: transparent;\n",
              "      border-bottom-color: var(--fill-color);\n",
              "    }\n",
              "  }\n",
              "</style>\n",
              "\n",
              "  <script>\n",
              "    async function quickchart(key) {\n",
              "      const quickchartButtonEl =\n",
              "        document.querySelector('#' + key + ' button');\n",
              "      quickchartButtonEl.disabled = true;  // To prevent multiple clicks.\n",
              "      quickchartButtonEl.classList.add('colab-df-spinner');\n",
              "      try {\n",
              "        const charts = await google.colab.kernel.invokeFunction(\n",
              "            'suggestCharts', [key], {});\n",
              "      } catch (error) {\n",
              "        console.error('Error during call to suggestCharts:', error);\n",
              "      }\n",
              "      quickchartButtonEl.classList.remove('colab-df-spinner');\n",
              "      quickchartButtonEl.classList.add('colab-df-quickchart-complete');\n",
              "    }\n",
              "    (() => {\n",
              "      let quickchartButtonEl =\n",
              "        document.querySelector('#df-274807fb-8beb-4f57-a656-ca4a1237655d button');\n",
              "      quickchartButtonEl.style.display =\n",
              "        google.colab.kernel.accessAllowed ? 'block' : 'none';\n",
              "    })();\n",
              "  </script>\n",
              "</div>\n",
              "\n",
              "    </div>\n",
              "  </div>\n"
            ],
            "application/vnd.google.colaboratory.intrinsic+json": {
              "type": "dataframe",
              "variable_name": "df",
              "summary": "{\n  \"name\": \"df\",\n  \"rows\": 500,\n  \"fields\": [\n    {\n      \"column\": \"id\",\n      \"properties\": {\n        \"dtype\": \"number\",\n        \"std\": 1059521,\n        \"min\": 6433642,\n        \"max\": 10275805,\n        \"num_unique_values\": 500,\n        \"samples\": [\n          9983364,\n          9325100,\n          8236827\n        ],\n        \"semantic_type\": \"\",\n        \"description\": \"\"\n      }\n    },\n    {\n      \"column\": \"document\",\n      \"properties\": {\n        \"dtype\": \"string\",\n        \"num_unique_values\": 500,\n        \"samples\": [\n          \"\\ubcf8 \\uc601\\ud654\\uc911 \\uac00\\uc7a5 \\ud2b9\\uc774\\ud55c \\ubd84\\uc704\\uae30\\uc758 \\uc601\\ud654\\uac19\\ub2e4. \\ub0b4\\uc6a9\\ub3c4 \\ub3c5\\ud2b9\\ud558\\uace0 \\uc5b5\\uc9c0\\uc2a4\\ub7ec\\uc6b4\\ubd80\\ubd84\\ub3c4 \\uc788\\uace0 \\ub9d8\\uc5d0\\uc548\\ub4e6...\\uba5c\\ub85c\\ub3c4 \\uc544\\ub2c8\\uace0 \\uc2a4\\ub9b4\\ub7ec\\ub3c4 \\uc544\\ub2c8\\uace0 \\uc885\\uad50\\uc801\\ubd80\\ubd84\\ub3c4 \\uc11e\\uc774\\uace0. \\uc4f8\\ub370\\uc5c6\\uc774 \\uc2a4\\ud1a0\\ub9ac \\uc804\\uac1c\\ub294 \\ub290\\ub9bf\\ud558\\uace0 \\ubc18\\ubcf5\\ub418\\uace0. \\uc878\\ub9ac\\uce90\\ub9ad\\ud130\\ub294 \\uac00\\uc5fe\\uc740 \\uae30\\uad6c\\ud55c\\uc6b4\\uba85\\ucc98\\ub7fc \\ubcf4\\uc774\\ub098 \\ud638\\uac10\\uc774 \\uac00\\uc9c4\\uc54a\\uc74c.\",\n          \"\\uc810\\uc810 \\ub0b4\\uc6a9\\uc774 \\uc774\\uc0c1\\ud574\\uc9c0\\ub294\\uac83\\uac19\\ub2e4 \\uc18c\\ub77c\\uac00 \\ubc31\\uc5f0\\ud76c\\ub538\\uc774\\ub77c\\ub354\\ub9cc \\uc774\\uc820 \\uc774\\ud654\\uc601\\uc740 \\uc815\\ubcd1\\uad6d\\ub538\\uc774\\ub780\\ub2e4 \\ub9c9\\uc7a5\\ub4dc\\ub77c\\ub9c8\\ub77c\\ub294\\uac74 \\uc54c\\uace0\\uc788\\uc5c8\\uc9c0\\ub9cc \\uadf8\\ub798\\ub3c4 \\uc774\\uac74\\uc544\\ub2cc\\uac83\\uac19\\ub2e4 \\uc560\\ub4e4\\uac00\\uace0\\ubb50\\ud558\\ub294\\uac74\\uc9c0 \\ucc38~~\",\n          \"\\uc9c0\\uc12d\\uc774\\ud55c\\ud14c \\uc598\\uae30\\uc548\\ud558\\uace0 \\ub05d\\ub098\\ub294\\uac70\\ubcf4\\ub2c8 \\ub610 \\ub458\\ub7ec\\ub300\\uace0 \\ub118\\uc5b4\\uac00\\uac9f\\ub124\\uc694~ \\uc77c\\ub2e8 \\uc774\\ub807\\uac8c \\ub118\\uc5b4\\uac00\\uace0 \\ub2e4\\uc74c\\uc8fc\\uc5d4 \\ubbfc\\uacbd\\ucc44\\ub791 \\ubab8\\uc2f8\\uc6c0 \\ud558\\ub294\\ucc99\\ud574\\uc11c \\ub118\\uc5b4\\uc9c0\\uace0 \\uc720\\uc0b0\\uc774\\ub77c\\uace0 \\uc448\\ub3c4 \\ud55c\\ubc88 \\ud574\\uc57c \\ub610 \\uc2dc\\uac04\\ub04c\\uc8e0\\u314e\\u314e\\u3147\\u3163\\uc81c \\uc9c4\\uc9dc \\ubcf4\\uace0\\uc2f6\\uc9c0\\ub3c4 \\uc54a\\ub124\\uc694.. \\uc815\\ub3c4\\uaecf\\ud574\\uc57c\\uc9c0\\u3161\\u3161\"\n        ],\n        \"semantic_type\": \"\",\n        \"description\": \"\"\n      }\n    },\n    {\n      \"column\": \"label\",\n      \"properties\": {\n        \"dtype\": \"number\",\n        \"std\": 0,\n        \"min\": 0,\n        \"max\": 0,\n        \"num_unique_values\": 1,\n        \"samples\": [\n          0\n        ],\n        \"semantic_type\": \"\",\n        \"description\": \"\"\n      }\n    }\n  ]\n}"
            }
          },
          "metadata": {},
          "execution_count": 8
        }
      ]
    },
    {
      "cell_type": "code",
      "source": [
        "# 증강 적용\n",
        "df['text_swap_1'] = df['document'].apply(lambda x: augment_text(x, synonym_dict, swap_n=2))\n",
        "df['text_insert_1'] = df['document'].apply(lambda x: augment_text(x, synonym_dict, insert_n=2))\n",
        "df['text_delete_1'] = df['document'].apply(lambda x: augment_text(x, synonym_dict, delete_p=0.2))\n",
        "df['text_replace_1'] = df['document'].apply(lambda x: augment_text(x, synonym_dict, replace_n=2))\n",
        "\n",
        "df['text_swap_2'] = df['document'].apply(lambda x: augment_text(x, synonym_dict, swap_n=2))\n",
        "df['text_insert_2'] = df['document'].apply(lambda x: augment_text(x, synonym_dict, insert_n=2))\n",
        "df['text_delete_2'] = df['document'].apply(lambda x: augment_text(x, synonym_dict, delete_p=0.2))\n",
        "df['text_replace_2'] = df['document'].apply(lambda x: augment_text(x, synonym_dict, replace_n=2))\n",
        "\n",
        "df['text_swap_3'] = df['document'].apply(lambda x: augment_text(x, synonym_dict, swap_n=3))\n",
        "df['text_insert_3'] = df['document'].apply(lambda x: augment_text(x, synonym_dict, insert_n=3))\n",
        "df['text_delete_3'] = df['document'].apply(lambda x: augment_text(x, synonym_dict, delete_p=0.3))\n",
        "df['text_replace_3'] = df['document'].apply(lambda x: augment_text(x, synonym_dict, replace_n=3))\n",
        "\n",
        "df['text_swap_4'] = df['document'].apply(lambda x: augment_text(x, synonym_dict, swap_n=3))\n",
        "df['text_insert_4'] = df['document'].apply(lambda x: augment_text(x, synonym_dict, insert_n=3))\n",
        "df['text_delete_4'] = df['document'].apply(lambda x: augment_text(x, synonym_dict, delete_p=0.3))\n",
        "df['text_replace_4'] = df['document'].apply(lambda x: augment_text(x, synonym_dict, replace_n=3))"
      ],
      "metadata": {
        "id": "2t5epBAuozFv"
      },
      "execution_count": 9,
      "outputs": []
    },
    {
      "cell_type": "code",
      "source": [
        "# 증강 적용\n",
        "df['text_swap_5'] = df['document'].apply(lambda x: augment_text(x, synonym_dict, swap_n=2))\n",
        "df['text_insert_5'] = df['document'].apply(lambda x: augment_text(x, synonym_dict, insert_n=2))\n",
        "df['text_delete_5'] = df['document'].apply(lambda x: augment_text(x, synonym_dict, delete_p=0.2))\n",
        "df['text_replace_5'] = df['document'].apply(lambda x: augment_text(x, synonym_dict, replace_n=2))\n",
        "\n",
        "df['text_swap_6'] = df['document'].apply(lambda x: augment_text(x, synonym_dict, swap_n=2))\n",
        "df['text_insert_6'] = df['document'].apply(lambda x: augment_text(x, synonym_dict, insert_n=2))\n",
        "df['text_delete_6'] = df['document'].apply(lambda x: augment_text(x, synonym_dict, delete_p=0.2))\n",
        "df['text_replace_6'] = df['document'].apply(lambda x: augment_text(x, synonym_dict, replace_n=2))\n",
        "\n",
        "df['text_swap_7'] = df['document'].apply(lambda x: augment_text(x, synonym_dict, swap_n=3))\n",
        "df['text_insert_7'] = df['document'].apply(lambda x: augment_text(x, synonym_dict, insert_n=3))\n",
        "df['text_delete_7'] = df['document'].apply(lambda x: augment_text(x, synonym_dict, delete_p=0.3))\n",
        "df['text_replace_7'] = df['document'].apply(lambda x: augment_text(x, synonym_dict, replace_n=3))\n",
        "\n",
        "df['text_swap_8'] = df['document'].apply(lambda x: augment_text(x, synonym_dict, swap_n=3))\n",
        "df['text_insert_8'] = df['document'].apply(lambda x: augment_text(x, synonym_dict, insert_n=3))\n",
        "df['text_delete_8'] = df['document'].apply(lambda x: augment_text(x, synonym_dict, delete_p=0.3))\n",
        "df['text_replace_8'] = df['document'].apply(lambda x: augment_text(x, synonym_dict, replace_n=3))\n",
        "\n",
        "df['text_swap_9'] = df['document'].apply(lambda x: augment_text(x, synonym_dict, swap_n=4))\n",
        "df['text_insert_9'] = df['document'].apply(lambda x: augment_text(x, synonym_dict, insert_n=4))\n",
        "df['text_delete_9'] = df['document'].apply(lambda x: augment_text(x, synonym_dict, delete_p=0.4))\n",
        "df['text_replace_9'] = df['document'].apply(lambda x: augment_text(x, synonym_dict, replace_n=4))\n",
        "\n"
      ],
      "metadata": {
        "id": "iJrU-xMdeSSS"
      },
      "execution_count": 10,
      "outputs": []
    },
    {
      "cell_type": "code",
      "source": [
        "df.to_csv('NSMC2_0.1_aug_eda_final.csv', encoding='utf-8-sig')"
      ],
      "metadata": {
        "id": "E-1Ooq_OozIh"
      },
      "execution_count": 11,
      "outputs": []
    },
    {
      "cell_type": "code",
      "source": [],
      "metadata": {
        "id": "Y0uDBhoHotQa"
      },
      "execution_count": null,
      "outputs": []
    },
    {
      "cell_type": "code",
      "source": [],
      "metadata": {
        "id": "mdxiYWDxotSr"
      },
      "execution_count": null,
      "outputs": []
    },
    {
      "cell_type": "code",
      "source": [],
      "metadata": {
        "id": "TQVlD9bPndyr"
      },
      "execution_count": null,
      "outputs": []
    },
    {
      "cell_type": "code",
      "source": [],
      "metadata": {
        "id": "3k8ndp84mqs8"
      },
      "execution_count": null,
      "outputs": []
    }
  ]
}