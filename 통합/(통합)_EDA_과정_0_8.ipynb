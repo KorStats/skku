{
  "nbformat": 4,
  "nbformat_minor": 0,
  "metadata": {
    "colab": {
      "provenance": [],
      "include_colab_link": true
    },
    "kernelspec": {
      "name": "python3",
      "display_name": "Python 3"
    },
    "language_info": {
      "name": "python"
    }
  },
  "cells": [
    {
      "cell_type": "markdown",
      "metadata": {
        "id": "view-in-github",
        "colab_type": "text"
      },
      "source": [
        "<a href=\"https://colab.research.google.com/github/KorStats/skku/blob/main/%ED%86%B5%ED%95%A9/(%ED%86%B5%ED%95%A9)_EDA_%EA%B3%BC%EC%A0%95_0_8.ipynb\" target=\"_parent\"><img src=\"https://colab.research.google.com/assets/colab-badge.svg\" alt=\"Open In Colab\"/></a>"
      ]
    },
    {
      "cell_type": "code",
      "source": [
        "pip install konlpy"
      ],
      "metadata": {
        "colab": {
          "base_uri": "https://localhost:8080/"
        },
        "id": "GtSu-ZJ0mY0G",
        "outputId": "ca30f32c-0620-481d-f11c-7b1e890816cc"
      },
      "execution_count": 1,
      "outputs": [
        {
          "output_type": "stream",
          "name": "stdout",
          "text": [
            "Collecting konlpy\n",
            "  Downloading konlpy-0.6.0-py2.py3-none-any.whl.metadata (1.9 kB)\n",
            "Collecting JPype1>=0.7.0 (from konlpy)\n",
            "  Downloading jpype1-1.5.2-cp311-cp311-manylinux_2_17_x86_64.manylinux2014_x86_64.whl.metadata (4.9 kB)\n",
            "Requirement already satisfied: lxml>=4.1.0 in /usr/local/lib/python3.11/dist-packages (from konlpy) (5.3.1)\n",
            "Requirement already satisfied: numpy>=1.6 in /usr/local/lib/python3.11/dist-packages (from konlpy) (2.0.2)\n",
            "Requirement already satisfied: packaging in /usr/local/lib/python3.11/dist-packages (from JPype1>=0.7.0->konlpy) (24.2)\n",
            "Downloading konlpy-0.6.0-py2.py3-none-any.whl (19.4 MB)\n",
            "\u001b[2K   \u001b[90m━━━━━━━━━━━━━━━━━━━━━━━━━━━━━━━━━━━━━━━━\u001b[0m \u001b[32m19.4/19.4 MB\u001b[0m \u001b[31m13.3 MB/s\u001b[0m eta \u001b[36m0:00:00\u001b[0m\n",
            "\u001b[?25hDownloading jpype1-1.5.2-cp311-cp311-manylinux_2_17_x86_64.manylinux2014_x86_64.whl (494 kB)\n",
            "\u001b[2K   \u001b[90m━━━━━━━━━━━━━━━━━━━━━━━━━━━━━━━━━━━━━━━━\u001b[0m \u001b[32m494.1/494.1 kB\u001b[0m \u001b[31m14.4 MB/s\u001b[0m eta \u001b[36m0:00:00\u001b[0m\n",
            "\u001b[?25hInstalling collected packages: JPype1, konlpy\n",
            "Successfully installed JPype1-1.5.2 konlpy-0.6.0\n"
          ]
        }
      ]
    },
    {
      "cell_type": "code",
      "execution_count": 2,
      "metadata": {
        "id": "FohqghZclFJz"
      },
      "outputs": [],
      "source": [
        "import pickle\n",
        "import random\n",
        "from konlpy.tag import Okt\n",
        "\n",
        "# 동의어 사전 로드\n",
        "def load_synonym_dict(pickle_file):\n",
        "    with open(pickle_file, 'rb') as f:\n",
        "        synonym_dict = pickle.load(f)\n",
        "    return synonym_dict\n",
        "\n",
        "# Random Swap (랜덤 단어 교환)\n",
        "def random_swap(words, n=1):\n",
        "    words = words.copy()\n",
        "    for _ in range(n):\n",
        "        idx1, idx2 = random.sample(range(len(words)), 2)\n",
        "        words[idx1], words[idx2] = words[idx2], words[idx1]\n",
        "    return words\n",
        "\n",
        "# Random Insertion (랜덤 단어 삽입)\n",
        "def random_insertion(words, synonym_dict, n=1):\n",
        "    words = words.copy()\n",
        "    for _ in range(n):\n",
        "        idx = random.randint(0, len(words) - 1)\n",
        "        word = words[idx]\n",
        "        if word in synonym_dict:\n",
        "            words.insert(idx, random.choice(synonym_dict[word]))\n",
        "    return words\n",
        "\n",
        "# Random Delete (랜덤 단어 삭제)\n",
        "def random_delete(words, p=0.1):\n",
        "    if len(words) == 1:\n",
        "        return words\n",
        "    return [word for word in words if random.random() > p]\n",
        "\n",
        "# Synonym Replacement (동의어 대체)\n",
        "def synonym_replacement(words, synonym_dict, n=1):\n",
        "    words = words.copy()\n",
        "    for _ in range(n):\n",
        "        idx = random.randint(0, len(words) - 1)\n",
        "        word = words[idx]\n",
        "        if word in synonym_dict:\n",
        "            words[idx] = random.choice(synonym_dict[word])\n",
        "    return words\n",
        "\n",
        "# 데이터 증강 실행 함수\n",
        "#def augment_text(text, synonym_dict, swap_n=1, insert_n=1, delete_p=0.1, replace_n=1):\n",
        "#    okt = Okt()\n",
        "#    words = okt.morphs(text)  # Okt를 이용한 토큰화\n",
        "#    words = random_swap(words, swap_n)\n",
        "#    words = random_insertion(words, synonym_dict, insert_n)\n",
        "#    words = random_delete(words, delete_p)\n",
        "#    words = synonym_replacement(words, synonym_dict, replace_n)\n",
        "#    return ' '.join(words)"
      ]
    },
    {
      "cell_type": "code",
      "source": [
        "# 동의어 사전 로드\n",
        "synonym_dict = load_synonym_dict('/content/wordnet.pickle')"
      ],
      "metadata": {
        "id": "fc4DERRBnIhZ"
      },
      "execution_count": 5,
      "outputs": []
    },
    {
      "cell_type": "code",
      "source": [
        "# 데이터 증강 실행 함수\n",
        "def augment_text(text, synonym_dict, swap_n=0, insert_n=0, delete_p=0, replace_n=0):\n",
        "    okt = Okt()\n",
        "    words = okt.morphs(text)  # Okt를 이용한 토큰화\n",
        "\n",
        "    if swap_n > 0:\n",
        "        words = random_swap(words, swap_n)\n",
        "    if insert_n > 0:\n",
        "        words = random_insertion(words, synonym_dict, insert_n)\n",
        "    if delete_p > 0:\n",
        "        words = random_delete(words, delete_p)\n",
        "    if replace_n > 0:\n",
        "        words = synonym_replacement(words, synonym_dict, replace_n)\n",
        "\n",
        "    return ' '.join(words)"
      ],
      "metadata": {
        "id": "Zw24ukjLm2aE"
      },
      "execution_count": 6,
      "outputs": []
    },
    {
      "cell_type": "code",
      "source": [],
      "metadata": {
        "id": "IQREPLOvopJb"
      },
      "execution_count": 6,
      "outputs": []
    },
    {
      "cell_type": "code",
      "source": [],
      "metadata": {
        "id": "P6bplPHdopL6"
      },
      "execution_count": 6,
      "outputs": []
    },
    {
      "cell_type": "markdown",
      "source": [
        "# 데이터불러오기"
      ],
      "metadata": {
        "id": "o91Ro9I4opg_"
      }
    },
    {
      "cell_type": "code",
      "source": [
        "from google.colab import drive\n",
        "drive.mount('/content/gdrive')\n",
        "!ln -s /content/gdrive/My\\ Drive/ /mydrive\n",
        "!ls /mydrive"
      ],
      "metadata": {
        "colab": {
          "base_uri": "https://localhost:8080/"
        },
        "id": "gYg4ICQlotOB",
        "outputId": "fedb108f-5afa-4e03-e6d0-4e5f5589f905"
      },
      "execution_count": 7,
      "outputs": [
        {
          "output_type": "stream",
          "name": "stdout",
          "text": [
            "Mounted at /content/gdrive\n",
            "'Colab Notebooks'   이전   졸업논문\n"
          ]
        }
      ]
    },
    {
      "cell_type": "code",
      "source": [
        "import pandas as pd\n",
        "df= pd.read_csv('/content/gdrive/MyDrive/졸업논문/NSMC2_0.8_증분대상_1000개.csv', encoding='utf-8-sig')"
      ],
      "metadata": {
        "id": "CPCl3nBJozB4"
      },
      "execution_count": 12,
      "outputs": []
    },
    {
      "cell_type": "code",
      "source": [
        "df.head(3)"
      ],
      "metadata": {
        "colab": {
          "base_uri": "https://localhost:8080/",
          "height": 143
        },
        "id": "jk4oU2z9pEeT",
        "outputId": "639a57bd-061f-4241-cad3-aa5909d404eb"
      },
      "execution_count": 13,
      "outputs": [
        {
          "output_type": "execute_result",
          "data": {
            "text/plain": [
              "        id                                           document  label\n",
              "0  9767996  별 한개도 아깝다...연출, 구성, 시나리오 자체도 완전 폐급...거기다 애들 연기...      0\n",
              "1  9451342  예전에 개봉 했을때 영화관 가서 봤었는데 , 그당시에 영화 보다가 잠들었었음 .. ...      0\n",
              "2  8929135  평점 이건 아니잖아. 졸라 지루하고, 1시간30분의 러닝타임도 감독이 시간이 남아돌...      0"
            ],
            "text/html": [
              "\n",
              "  <div id=\"df-f0bcf796-1148-41a1-9a7d-815882385c8f\" class=\"colab-df-container\">\n",
              "    <div>\n",
              "<style scoped>\n",
              "    .dataframe tbody tr th:only-of-type {\n",
              "        vertical-align: middle;\n",
              "    }\n",
              "\n",
              "    .dataframe tbody tr th {\n",
              "        vertical-align: top;\n",
              "    }\n",
              "\n",
              "    .dataframe thead th {\n",
              "        text-align: right;\n",
              "    }\n",
              "</style>\n",
              "<table border=\"1\" class=\"dataframe\">\n",
              "  <thead>\n",
              "    <tr style=\"text-align: right;\">\n",
              "      <th></th>\n",
              "      <th>id</th>\n",
              "      <th>document</th>\n",
              "      <th>label</th>\n",
              "    </tr>\n",
              "  </thead>\n",
              "  <tbody>\n",
              "    <tr>\n",
              "      <th>0</th>\n",
              "      <td>9767996</td>\n",
              "      <td>별 한개도 아깝다...연출, 구성, 시나리오 자체도 완전 폐급...거기다 애들 연기...</td>\n",
              "      <td>0</td>\n",
              "    </tr>\n",
              "    <tr>\n",
              "      <th>1</th>\n",
              "      <td>9451342</td>\n",
              "      <td>예전에 개봉 했을때 영화관 가서 봤었는데 , 그당시에 영화 보다가 잠들었었음 .. ...</td>\n",
              "      <td>0</td>\n",
              "    </tr>\n",
              "    <tr>\n",
              "      <th>2</th>\n",
              "      <td>8929135</td>\n",
              "      <td>평점 이건 아니잖아. 졸라 지루하고, 1시간30분의 러닝타임도 감독이 시간이 남아돌...</td>\n",
              "      <td>0</td>\n",
              "    </tr>\n",
              "  </tbody>\n",
              "</table>\n",
              "</div>\n",
              "    <div class=\"colab-df-buttons\">\n",
              "\n",
              "  <div class=\"colab-df-container\">\n",
              "    <button class=\"colab-df-convert\" onclick=\"convertToInteractive('df-f0bcf796-1148-41a1-9a7d-815882385c8f')\"\n",
              "            title=\"Convert this dataframe to an interactive table.\"\n",
              "            style=\"display:none;\">\n",
              "\n",
              "  <svg xmlns=\"http://www.w3.org/2000/svg\" height=\"24px\" viewBox=\"0 -960 960 960\">\n",
              "    <path d=\"M120-120v-720h720v720H120Zm60-500h600v-160H180v160Zm220 220h160v-160H400v160Zm0 220h160v-160H400v160ZM180-400h160v-160H180v160Zm440 0h160v-160H620v160ZM180-180h160v-160H180v160Zm440 0h160v-160H620v160Z\"/>\n",
              "  </svg>\n",
              "    </button>\n",
              "\n",
              "  <style>\n",
              "    .colab-df-container {\n",
              "      display:flex;\n",
              "      gap: 12px;\n",
              "    }\n",
              "\n",
              "    .colab-df-convert {\n",
              "      background-color: #E8F0FE;\n",
              "      border: none;\n",
              "      border-radius: 50%;\n",
              "      cursor: pointer;\n",
              "      display: none;\n",
              "      fill: #1967D2;\n",
              "      height: 32px;\n",
              "      padding: 0 0 0 0;\n",
              "      width: 32px;\n",
              "    }\n",
              "\n",
              "    .colab-df-convert:hover {\n",
              "      background-color: #E2EBFA;\n",
              "      box-shadow: 0px 1px 2px rgba(60, 64, 67, 0.3), 0px 1px 3px 1px rgba(60, 64, 67, 0.15);\n",
              "      fill: #174EA6;\n",
              "    }\n",
              "\n",
              "    .colab-df-buttons div {\n",
              "      margin-bottom: 4px;\n",
              "    }\n",
              "\n",
              "    [theme=dark] .colab-df-convert {\n",
              "      background-color: #3B4455;\n",
              "      fill: #D2E3FC;\n",
              "    }\n",
              "\n",
              "    [theme=dark] .colab-df-convert:hover {\n",
              "      background-color: #434B5C;\n",
              "      box-shadow: 0px 1px 3px 1px rgba(0, 0, 0, 0.15);\n",
              "      filter: drop-shadow(0px 1px 2px rgba(0, 0, 0, 0.3));\n",
              "      fill: #FFFFFF;\n",
              "    }\n",
              "  </style>\n",
              "\n",
              "    <script>\n",
              "      const buttonEl =\n",
              "        document.querySelector('#df-f0bcf796-1148-41a1-9a7d-815882385c8f button.colab-df-convert');\n",
              "      buttonEl.style.display =\n",
              "        google.colab.kernel.accessAllowed ? 'block' : 'none';\n",
              "\n",
              "      async function convertToInteractive(key) {\n",
              "        const element = document.querySelector('#df-f0bcf796-1148-41a1-9a7d-815882385c8f');\n",
              "        const dataTable =\n",
              "          await google.colab.kernel.invokeFunction('convertToInteractive',\n",
              "                                                    [key], {});\n",
              "        if (!dataTable) return;\n",
              "\n",
              "        const docLinkHtml = 'Like what you see? Visit the ' +\n",
              "          '<a target=\"_blank\" href=https://colab.research.google.com/notebooks/data_table.ipynb>data table notebook</a>'\n",
              "          + ' to learn more about interactive tables.';\n",
              "        element.innerHTML = '';\n",
              "        dataTable['output_type'] = 'display_data';\n",
              "        await google.colab.output.renderOutput(dataTable, element);\n",
              "        const docLink = document.createElement('div');\n",
              "        docLink.innerHTML = docLinkHtml;\n",
              "        element.appendChild(docLink);\n",
              "      }\n",
              "    </script>\n",
              "  </div>\n",
              "\n",
              "\n",
              "<div id=\"df-43e8fa3a-1532-431f-8f54-b4ae2c8fe560\">\n",
              "  <button class=\"colab-df-quickchart\" onclick=\"quickchart('df-43e8fa3a-1532-431f-8f54-b4ae2c8fe560')\"\n",
              "            title=\"Suggest charts\"\n",
              "            style=\"display:none;\">\n",
              "\n",
              "<svg xmlns=\"http://www.w3.org/2000/svg\" height=\"24px\"viewBox=\"0 0 24 24\"\n",
              "     width=\"24px\">\n",
              "    <g>\n",
              "        <path d=\"M19 3H5c-1.1 0-2 .9-2 2v14c0 1.1.9 2 2 2h14c1.1 0 2-.9 2-2V5c0-1.1-.9-2-2-2zM9 17H7v-7h2v7zm4 0h-2V7h2v10zm4 0h-2v-4h2v4z\"/>\n",
              "    </g>\n",
              "</svg>\n",
              "  </button>\n",
              "\n",
              "<style>\n",
              "  .colab-df-quickchart {\n",
              "      --bg-color: #E8F0FE;\n",
              "      --fill-color: #1967D2;\n",
              "      --hover-bg-color: #E2EBFA;\n",
              "      --hover-fill-color: #174EA6;\n",
              "      --disabled-fill-color: #AAA;\n",
              "      --disabled-bg-color: #DDD;\n",
              "  }\n",
              "\n",
              "  [theme=dark] .colab-df-quickchart {\n",
              "      --bg-color: #3B4455;\n",
              "      --fill-color: #D2E3FC;\n",
              "      --hover-bg-color: #434B5C;\n",
              "      --hover-fill-color: #FFFFFF;\n",
              "      --disabled-bg-color: #3B4455;\n",
              "      --disabled-fill-color: #666;\n",
              "  }\n",
              "\n",
              "  .colab-df-quickchart {\n",
              "    background-color: var(--bg-color);\n",
              "    border: none;\n",
              "    border-radius: 50%;\n",
              "    cursor: pointer;\n",
              "    display: none;\n",
              "    fill: var(--fill-color);\n",
              "    height: 32px;\n",
              "    padding: 0;\n",
              "    width: 32px;\n",
              "  }\n",
              "\n",
              "  .colab-df-quickchart:hover {\n",
              "    background-color: var(--hover-bg-color);\n",
              "    box-shadow: 0 1px 2px rgba(60, 64, 67, 0.3), 0 1px 3px 1px rgba(60, 64, 67, 0.15);\n",
              "    fill: var(--button-hover-fill-color);\n",
              "  }\n",
              "\n",
              "  .colab-df-quickchart-complete:disabled,\n",
              "  .colab-df-quickchart-complete:disabled:hover {\n",
              "    background-color: var(--disabled-bg-color);\n",
              "    fill: var(--disabled-fill-color);\n",
              "    box-shadow: none;\n",
              "  }\n",
              "\n",
              "  .colab-df-spinner {\n",
              "    border: 2px solid var(--fill-color);\n",
              "    border-color: transparent;\n",
              "    border-bottom-color: var(--fill-color);\n",
              "    animation:\n",
              "      spin 1s steps(1) infinite;\n",
              "  }\n",
              "\n",
              "  @keyframes spin {\n",
              "    0% {\n",
              "      border-color: transparent;\n",
              "      border-bottom-color: var(--fill-color);\n",
              "      border-left-color: var(--fill-color);\n",
              "    }\n",
              "    20% {\n",
              "      border-color: transparent;\n",
              "      border-left-color: var(--fill-color);\n",
              "      border-top-color: var(--fill-color);\n",
              "    }\n",
              "    30% {\n",
              "      border-color: transparent;\n",
              "      border-left-color: var(--fill-color);\n",
              "      border-top-color: var(--fill-color);\n",
              "      border-right-color: var(--fill-color);\n",
              "    }\n",
              "    40% {\n",
              "      border-color: transparent;\n",
              "      border-right-color: var(--fill-color);\n",
              "      border-top-color: var(--fill-color);\n",
              "    }\n",
              "    60% {\n",
              "      border-color: transparent;\n",
              "      border-right-color: var(--fill-color);\n",
              "    }\n",
              "    80% {\n",
              "      border-color: transparent;\n",
              "      border-right-color: var(--fill-color);\n",
              "      border-bottom-color: var(--fill-color);\n",
              "    }\n",
              "    90% {\n",
              "      border-color: transparent;\n",
              "      border-bottom-color: var(--fill-color);\n",
              "    }\n",
              "  }\n",
              "</style>\n",
              "\n",
              "  <script>\n",
              "    async function quickchart(key) {\n",
              "      const quickchartButtonEl =\n",
              "        document.querySelector('#' + key + ' button');\n",
              "      quickchartButtonEl.disabled = true;  // To prevent multiple clicks.\n",
              "      quickchartButtonEl.classList.add('colab-df-spinner');\n",
              "      try {\n",
              "        const charts = await google.colab.kernel.invokeFunction(\n",
              "            'suggestCharts', [key], {});\n",
              "      } catch (error) {\n",
              "        console.error('Error during call to suggestCharts:', error);\n",
              "      }\n",
              "      quickchartButtonEl.classList.remove('colab-df-spinner');\n",
              "      quickchartButtonEl.classList.add('colab-df-quickchart-complete');\n",
              "    }\n",
              "    (() => {\n",
              "      let quickchartButtonEl =\n",
              "        document.querySelector('#df-43e8fa3a-1532-431f-8f54-b4ae2c8fe560 button');\n",
              "      quickchartButtonEl.style.display =\n",
              "        google.colab.kernel.accessAllowed ? 'block' : 'none';\n",
              "    })();\n",
              "  </script>\n",
              "</div>\n",
              "\n",
              "    </div>\n",
              "  </div>\n"
            ],
            "application/vnd.google.colaboratory.intrinsic+json": {
              "type": "dataframe",
              "variable_name": "df",
              "summary": "{\n  \"name\": \"df\",\n  \"rows\": 1000,\n  \"fields\": [\n    {\n      \"column\": \"id\",\n      \"properties\": {\n        \"dtype\": \"number\",\n        \"std\": 1075455,\n        \"min\": 3913442,\n        \"max\": 10277502,\n        \"num_unique_values\": 1000,\n        \"samples\": [\n          9068328,\n          9237968,\n          9367143\n        ],\n        \"semantic_type\": \"\",\n        \"description\": \"\"\n      }\n    },\n    {\n      \"column\": \"document\",\n      \"properties\": {\n        \"dtype\": \"string\",\n        \"num_unique_values\": 1000,\n        \"samples\": [\n          \"\\uc870\\uc791\\ud560\\uac70\\uba74 \\ud2f0\\ub77c\\ub3c4 \\ub098\\uc9c0\\uc54a\\uac8c \\ud558\\ub358\\uac00\\ud604\\uc2e4 \\uad70\\ub300\\ub791 \\ub108\\ubb34 \\ub2e4\\ub974\\uc796\\uc544 \\ub179\\ud654 \\uc548\\ud560\\ub54c\\ub294\\ubcf4\\ub098\\ub9c8\\ub098 \\ubc1c \\ubed7\\uace0 \\ub215\\uace0 \\uc790\\uace0 \\uba39\\uace0 \\uc774\\ub7f4\\uac8c \\ubed4\\ud558\\ub2e4\\uadf8\\ub798\\ub193\\uace0 \\ud798\\ub4e0\\ucc99\\ud558\\uba74\\uc11c \\uc2dc\\uccad\\uc790\\ub4e4 \\uac10\\ub3d9\\uc2dc\\ud0a4\\ub294 \\uc791\\uc804\\uc774\\ub0d0\\uc870\\uc791 \\uc0ac\\ub098\\uc774\\u3149 \\uc5f0\\uc608\\uc778\\uc774 \\uad70\\ub300\\uac04\\ub2e4\\ub294 \\uc18c\\uc7ac \\uc790\\uccb4\\ubd80\\ud130\\uc774\\uc0c1\\ud558\\ub2e4\\ud588\\uc5b4.. \\ud3d0\\uc9c0\\ud574\\ub77c\\u3149\\u3149\",\n          \"TV \\ub9cc\\ud654\\ub85c\\ub3c4 \\ub099\\uc81c\\uc810. \\uc601\\uc0c1\\ub3c4 \\uc870\\uc545\\ud558\\uace0, \\uc774\\uc57c\\uae30 \\uc790\\uccb4\\ub3c4 \\uc5d0\\ud53c\\uc18c\\ub4dc\\uc758 \\ub098\\uc5f4. \\ubb38\\uc81c\\ub294 \\uc774\\ub7f0 \\ub9cc\\ud654\\uc601\\ud654\\uac00 \\uad50\\uc721\\uc801 \\uae30\\ub2a5\\uc744 \\ud55c\\ub2e4\\uace0 \\ud558\\ub294\\ub370. \\ub09c \\uadf8 \\uc758\\uacac\\uc5d0 \\ubc18\\ub300\\ud55c\\ub2e4. \\uadfc\\ub798 \\ubcf4\\uae30\\ub4dc\\ubb38 \\ucd5c\\uc545\\uc758 \\ub9cc\\ud654\\uc601\\ud654!\",\n          \"\\uc911\\ud559\\uad50\\ub54c \\ubb63\\ubaa8\\ub974\\uace0 \\uc601\\ud654\\uad00\\uac00\\uc11c \\ubd23\\ub2e4\\uac00 \\uc695\\ud558\\uace0 \\ub098\\uc628\\uc601\\ud654 \\ucd5c\\uadfc\\uc5d0 \\uc6b0\\uc5f0\\ud788 \\ud55c\\ubc88\\ub354 \\ubcf4\\uac8c\\ub418\\uc5c8\\ub294\\ub370 \\ub108\\ubb34 \\ud750\\ub984\\uc774 \\ub69d\\ub69d\\ub04a\\uaca8\\uc11c \\ub0b4\\uc6a9 \\uc804\\uac1c\\uac00 \\ub354 \\uc5b4\\uc774\\uc5c6\\uc5c8\\uace0 \\ub3c4\\uc11c\\uad00 \\uad00\\uacc4\\uc52c\\uc740 \\ub54c\\ub9ac\\uace0 \\uc2f6\\ub2e4 \\ubc30\\uacbd\\ub9cc \\uc608\\uc05c \\uc601\\ud654\"\n        ],\n        \"semantic_type\": \"\",\n        \"description\": \"\"\n      }\n    },\n    {\n      \"column\": \"label\",\n      \"properties\": {\n        \"dtype\": \"number\",\n        \"std\": 0,\n        \"min\": 0,\n        \"max\": 0,\n        \"num_unique_values\": 1,\n        \"samples\": [\n          0\n        ],\n        \"semantic_type\": \"\",\n        \"description\": \"\"\n      }\n    }\n  ]\n}"
            }
          },
          "metadata": {},
          "execution_count": 13
        }
      ]
    },
    {
      "cell_type": "code",
      "source": [
        "# 증강 적용\n",
        "df['text_swap'] = df['document'].apply(lambda x: augment_text(x, synonym_dict, swap_n=2))\n",
        "df['text_insert'] = df['document'].apply(lambda x: augment_text(x, synonym_dict, insert_n=2))\n",
        "df['text_delete'] = df['document'].apply(lambda x: augment_text(x, synonym_dict, delete_p=0.2))\n",
        "df['text_replace'] = df['document'].apply(lambda x: augment_text(x, synonym_dict, replace_n=2))"
      ],
      "metadata": {
        "id": "2t5epBAuozFv"
      },
      "execution_count": 14,
      "outputs": []
    },
    {
      "cell_type": "code",
      "source": [
        "df.to_csv('NSMC2_0.8_aug_eda.csv', encoding='utf-8-sig')"
      ],
      "metadata": {
        "id": "E-1Ooq_OozIh"
      },
      "execution_count": 15,
      "outputs": []
    },
    {
      "cell_type": "code",
      "source": [],
      "metadata": {
        "id": "Y0uDBhoHotQa"
      },
      "execution_count": null,
      "outputs": []
    },
    {
      "cell_type": "code",
      "source": [],
      "metadata": {
        "id": "mdxiYWDxotSr"
      },
      "execution_count": null,
      "outputs": []
    },
    {
      "cell_type": "code",
      "source": [],
      "metadata": {
        "id": "TQVlD9bPndyr"
      },
      "execution_count": null,
      "outputs": []
    },
    {
      "cell_type": "code",
      "source": [],
      "metadata": {
        "id": "3k8ndp84mqs8"
      },
      "execution_count": null,
      "outputs": []
    }
  ]
}