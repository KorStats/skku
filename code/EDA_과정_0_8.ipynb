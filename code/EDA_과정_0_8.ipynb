{
  "nbformat": 4,
  "nbformat_minor": 0,
  "metadata": {
    "colab": {
      "provenance": [],
      "include_colab_link": true
    },
    "kernelspec": {
      "name": "python3",
      "display_name": "Python 3"
    },
    "language_info": {
      "name": "python"
    }
  },
  "cells": [
    {
      "cell_type": "markdown",
      "metadata": {
        "id": "view-in-github",
        "colab_type": "text"
      },
      "source": [
        "<a href=\"https://colab.research.google.com/github/KorStats/skku/blob/main/code/EDA_%EA%B3%BC%EC%A0%95_0_8.ipynb\" target=\"_parent\"><img src=\"https://colab.research.google.com/assets/colab-badge.svg\" alt=\"Open In Colab\"/></a>"
      ]
    },
    {
      "cell_type": "code",
      "source": [
        "pip install konlpy"
      ],
      "metadata": {
        "colab": {
          "base_uri": "https://localhost:8080/"
        },
        "id": "GtSu-ZJ0mY0G",
        "outputId": "a7242717-24eb-4805-850d-7683a7c902e4"
      },
      "execution_count": 11,
      "outputs": [
        {
          "output_type": "stream",
          "name": "stdout",
          "text": [
            "Requirement already satisfied: konlpy in /usr/local/lib/python3.11/dist-packages (0.6.0)\n",
            "Requirement already satisfied: JPype1>=0.7.0 in /usr/local/lib/python3.11/dist-packages (from konlpy) (1.5.2)\n",
            "Requirement already satisfied: lxml>=4.1.0 in /usr/local/lib/python3.11/dist-packages (from konlpy) (5.3.1)\n",
            "Requirement already satisfied: numpy>=1.6 in /usr/local/lib/python3.11/dist-packages (from konlpy) (1.26.4)\n",
            "Requirement already satisfied: packaging in /usr/local/lib/python3.11/dist-packages (from JPype1>=0.7.0->konlpy) (24.2)\n"
          ]
        }
      ]
    },
    {
      "cell_type": "code",
      "execution_count": 12,
      "metadata": {
        "id": "FohqghZclFJz"
      },
      "outputs": [],
      "source": [
        "import pickle\n",
        "import random\n",
        "from konlpy.tag import Okt\n",
        "\n",
        "# 동의어 사전 로드\n",
        "def load_synonym_dict(pickle_file):\n",
        "    with open(pickle_file, 'rb') as f:\n",
        "        synonym_dict = pickle.load(f)\n",
        "    return synonym_dict\n",
        "\n",
        "# Random Swap (랜덤 단어 교환)\n",
        "def random_swap(words, n=1):\n",
        "    words = words.copy()\n",
        "    for _ in range(n):\n",
        "        idx1, idx2 = random.sample(range(len(words)), 2)\n",
        "        words[idx1], words[idx2] = words[idx2], words[idx1]\n",
        "    return words\n",
        "\n",
        "# Random Insertion (랜덤 단어 삽입)\n",
        "def random_insertion(words, synonym_dict, n=1):\n",
        "    words = words.copy()\n",
        "    for _ in range(n):\n",
        "        idx = random.randint(0, len(words) - 1)\n",
        "        word = words[idx]\n",
        "        if word in synonym_dict:\n",
        "            words.insert(idx, random.choice(synonym_dict[word]))\n",
        "    return words\n",
        "\n",
        "# Random Delete (랜덤 단어 삭제)\n",
        "def random_delete(words, p=0.1):\n",
        "    if len(words) == 1:\n",
        "        return words\n",
        "    return [word for word in words if random.random() > p]\n",
        "\n",
        "# Synonym Replacement (동의어 대체)\n",
        "def synonym_replacement(words, synonym_dict, n=1):\n",
        "    words = words.copy()\n",
        "    for _ in range(n):\n",
        "        idx = random.randint(0, len(words) - 1)\n",
        "        word = words[idx]\n",
        "        if word in synonym_dict:\n",
        "            words[idx] = random.choice(synonym_dict[word])\n",
        "    return words\n",
        "\n",
        "# 데이터 증강 실행 함수\n",
        "#def augment_text(text, synonym_dict, swap_n=1, insert_n=1, delete_p=0.1, replace_n=1):\n",
        "#    okt = Okt()\n",
        "#    words = okt.morphs(text)  # Okt를 이용한 토큰화\n",
        "#    words = random_swap(words, swap_n)\n",
        "#    words = random_insertion(words, synonym_dict, insert_n)\n",
        "#    words = random_delete(words, delete_p)\n",
        "#    words = synonym_replacement(words, synonym_dict, replace_n)\n",
        "#    return ' '.join(words)"
      ]
    },
    {
      "cell_type": "code",
      "source": [
        "# 동의어 사전 로드\n",
        "synonym_dict = load_synonym_dict('/content/wordnet.pickle')"
      ],
      "metadata": {
        "id": "fc4DERRBnIhZ"
      },
      "execution_count": 13,
      "outputs": []
    },
    {
      "cell_type": "code",
      "source": [
        "# 데이터 증강 실행 함수\n",
        "def augment_text(text, synonym_dict, swap_n=0, insert_n=0, delete_p=0, replace_n=0):\n",
        "    okt = Okt()\n",
        "    words = okt.morphs(text)  # Okt를 이용한 토큰화\n",
        "\n",
        "    if swap_n > 0:\n",
        "        words = random_swap(words, swap_n)\n",
        "    if insert_n > 0:\n",
        "        words = random_insertion(words, synonym_dict, insert_n)\n",
        "    if delete_p > 0:\n",
        "        words = random_delete(words, delete_p)\n",
        "    if replace_n > 0:\n",
        "        words = synonym_replacement(words, synonym_dict, replace_n)\n",
        "\n",
        "    return ' '.join(words)"
      ],
      "metadata": {
        "id": "Zw24ukjLm2aE"
      },
      "execution_count": 15,
      "outputs": []
    },
    {
      "cell_type": "code",
      "source": [],
      "metadata": {
        "id": "IQREPLOvopJb"
      },
      "execution_count": null,
      "outputs": []
    },
    {
      "cell_type": "code",
      "source": [],
      "metadata": {
        "id": "P6bplPHdopL6"
      },
      "execution_count": null,
      "outputs": []
    },
    {
      "cell_type": "markdown",
      "source": [
        "# 데이터불러오기"
      ],
      "metadata": {
        "id": "o91Ro9I4opg_"
      }
    },
    {
      "cell_type": "code",
      "source": [
        "from google.colab import drive\n",
        "drive.mount('/content/gdrive')\n",
        "!ln -s /content/gdrive/My\\ Drive/ /mydrive\n",
        "!ls /mydrive"
      ],
      "metadata": {
        "colab": {
          "base_uri": "https://localhost:8080/"
        },
        "id": "gYg4ICQlotOB",
        "outputId": "efa2a900-5cfe-41df-f361-b28523c1cd70"
      },
      "execution_count": 16,
      "outputs": [
        {
          "output_type": "stream",
          "name": "stdout",
          "text": [
            "Mounted at /content/gdrive\n",
            "'Colab Notebooks'  '요약문증강 최종_0.02_1000개.csv'   이전\n",
            "'My Drive'\t   '요약문증강 최종_0.1_1000개.csv'    졸업논문\n"
          ]
        }
      ]
    },
    {
      "cell_type": "code",
      "source": [
        "import pandas as pd\n",
        "df= pd.read_csv('/content/gdrive/MyDrive/졸업논문/DATA/NSMC_0.5_증분대상_2500개.csv', encoding='utf-8-sig')"
      ],
      "metadata": {
        "id": "CPCl3nBJozB4"
      },
      "execution_count": 18,
      "outputs": []
    },
    {
      "cell_type": "code",
      "source": [
        "df.head(3)"
      ],
      "metadata": {
        "colab": {
          "base_uri": "https://localhost:8080/",
          "height": 143
        },
        "id": "jk4oU2z9pEeT",
        "outputId": "d3ff0680-98d3-48fc-e846-c248d94ce316"
      },
      "execution_count": 20,
      "outputs": [
        {
          "output_type": "execute_result",
          "data": {
            "text/plain": [
              "        id                                           document  label   길이\n",
              "0  7652286  솔직히 이영화때문에 슈퍼맨시리즈가 7년이란 세월동안 묻혀있엇다 맨오브스틸은 미국에서...      0  138\n",
              "1  8895340  아무리 짱짱맨 옵대장의 다때려부수는 CG가 좋다그래도 이딴 디워랑 견줄만한 스토리로...      0  101\n",
              "2  6549317  오프닝장면 죠스영화 고대루 베겼네?? 여자 비명 연기하는 것도 고대루네~! 그냥 갖...      0  103"
            ],
            "text/html": [
              "\n",
              "  <div id=\"df-e238b9d9-8133-43c8-b4f7-9af9e574171c\" class=\"colab-df-container\">\n",
              "    <div>\n",
              "<style scoped>\n",
              "    .dataframe tbody tr th:only-of-type {\n",
              "        vertical-align: middle;\n",
              "    }\n",
              "\n",
              "    .dataframe tbody tr th {\n",
              "        vertical-align: top;\n",
              "    }\n",
              "\n",
              "    .dataframe thead th {\n",
              "        text-align: right;\n",
              "    }\n",
              "</style>\n",
              "<table border=\"1\" class=\"dataframe\">\n",
              "  <thead>\n",
              "    <tr style=\"text-align: right;\">\n",
              "      <th></th>\n",
              "      <th>id</th>\n",
              "      <th>document</th>\n",
              "      <th>label</th>\n",
              "      <th>길이</th>\n",
              "    </tr>\n",
              "  </thead>\n",
              "  <tbody>\n",
              "    <tr>\n",
              "      <th>0</th>\n",
              "      <td>7652286</td>\n",
              "      <td>솔직히 이영화때문에 슈퍼맨시리즈가 7년이란 세월동안 묻혀있엇다 맨오브스틸은 미국에서...</td>\n",
              "      <td>0</td>\n",
              "      <td>138</td>\n",
              "    </tr>\n",
              "    <tr>\n",
              "      <th>1</th>\n",
              "      <td>8895340</td>\n",
              "      <td>아무리 짱짱맨 옵대장의 다때려부수는 CG가 좋다그래도 이딴 디워랑 견줄만한 스토리로...</td>\n",
              "      <td>0</td>\n",
              "      <td>101</td>\n",
              "    </tr>\n",
              "    <tr>\n",
              "      <th>2</th>\n",
              "      <td>6549317</td>\n",
              "      <td>오프닝장면 죠스영화 고대루 베겼네?? 여자 비명 연기하는 것도 고대루네~! 그냥 갖...</td>\n",
              "      <td>0</td>\n",
              "      <td>103</td>\n",
              "    </tr>\n",
              "  </tbody>\n",
              "</table>\n",
              "</div>\n",
              "    <div class=\"colab-df-buttons\">\n",
              "\n",
              "  <div class=\"colab-df-container\">\n",
              "    <button class=\"colab-df-convert\" onclick=\"convertToInteractive('df-e238b9d9-8133-43c8-b4f7-9af9e574171c')\"\n",
              "            title=\"Convert this dataframe to an interactive table.\"\n",
              "            style=\"display:none;\">\n",
              "\n",
              "  <svg xmlns=\"http://www.w3.org/2000/svg\" height=\"24px\" viewBox=\"0 -960 960 960\">\n",
              "    <path d=\"M120-120v-720h720v720H120Zm60-500h600v-160H180v160Zm220 220h160v-160H400v160Zm0 220h160v-160H400v160ZM180-400h160v-160H180v160Zm440 0h160v-160H620v160ZM180-180h160v-160H180v160Zm440 0h160v-160H620v160Z\"/>\n",
              "  </svg>\n",
              "    </button>\n",
              "\n",
              "  <style>\n",
              "    .colab-df-container {\n",
              "      display:flex;\n",
              "      gap: 12px;\n",
              "    }\n",
              "\n",
              "    .colab-df-convert {\n",
              "      background-color: #E8F0FE;\n",
              "      border: none;\n",
              "      border-radius: 50%;\n",
              "      cursor: pointer;\n",
              "      display: none;\n",
              "      fill: #1967D2;\n",
              "      height: 32px;\n",
              "      padding: 0 0 0 0;\n",
              "      width: 32px;\n",
              "    }\n",
              "\n",
              "    .colab-df-convert:hover {\n",
              "      background-color: #E2EBFA;\n",
              "      box-shadow: 0px 1px 2px rgba(60, 64, 67, 0.3), 0px 1px 3px 1px rgba(60, 64, 67, 0.15);\n",
              "      fill: #174EA6;\n",
              "    }\n",
              "\n",
              "    .colab-df-buttons div {\n",
              "      margin-bottom: 4px;\n",
              "    }\n",
              "\n",
              "    [theme=dark] .colab-df-convert {\n",
              "      background-color: #3B4455;\n",
              "      fill: #D2E3FC;\n",
              "    }\n",
              "\n",
              "    [theme=dark] .colab-df-convert:hover {\n",
              "      background-color: #434B5C;\n",
              "      box-shadow: 0px 1px 3px 1px rgba(0, 0, 0, 0.15);\n",
              "      filter: drop-shadow(0px 1px 2px rgba(0, 0, 0, 0.3));\n",
              "      fill: #FFFFFF;\n",
              "    }\n",
              "  </style>\n",
              "\n",
              "    <script>\n",
              "      const buttonEl =\n",
              "        document.querySelector('#df-e238b9d9-8133-43c8-b4f7-9af9e574171c button.colab-df-convert');\n",
              "      buttonEl.style.display =\n",
              "        google.colab.kernel.accessAllowed ? 'block' : 'none';\n",
              "\n",
              "      async function convertToInteractive(key) {\n",
              "        const element = document.querySelector('#df-e238b9d9-8133-43c8-b4f7-9af9e574171c');\n",
              "        const dataTable =\n",
              "          await google.colab.kernel.invokeFunction('convertToInteractive',\n",
              "                                                    [key], {});\n",
              "        if (!dataTable) return;\n",
              "\n",
              "        const docLinkHtml = 'Like what you see? Visit the ' +\n",
              "          '<a target=\"_blank\" href=https://colab.research.google.com/notebooks/data_table.ipynb>data table notebook</a>'\n",
              "          + ' to learn more about interactive tables.';\n",
              "        element.innerHTML = '';\n",
              "        dataTable['output_type'] = 'display_data';\n",
              "        await google.colab.output.renderOutput(dataTable, element);\n",
              "        const docLink = document.createElement('div');\n",
              "        docLink.innerHTML = docLinkHtml;\n",
              "        element.appendChild(docLink);\n",
              "      }\n",
              "    </script>\n",
              "  </div>\n",
              "\n",
              "\n",
              "<div id=\"df-11f50173-b109-4f10-befe-b534b803ab50\">\n",
              "  <button class=\"colab-df-quickchart\" onclick=\"quickchart('df-11f50173-b109-4f10-befe-b534b803ab50')\"\n",
              "            title=\"Suggest charts\"\n",
              "            style=\"display:none;\">\n",
              "\n",
              "<svg xmlns=\"http://www.w3.org/2000/svg\" height=\"24px\"viewBox=\"0 0 24 24\"\n",
              "     width=\"24px\">\n",
              "    <g>\n",
              "        <path d=\"M19 3H5c-1.1 0-2 .9-2 2v14c0 1.1.9 2 2 2h14c1.1 0 2-.9 2-2V5c0-1.1-.9-2-2-2zM9 17H7v-7h2v7zm4 0h-2V7h2v10zm4 0h-2v-4h2v4z\"/>\n",
              "    </g>\n",
              "</svg>\n",
              "  </button>\n",
              "\n",
              "<style>\n",
              "  .colab-df-quickchart {\n",
              "      --bg-color: #E8F0FE;\n",
              "      --fill-color: #1967D2;\n",
              "      --hover-bg-color: #E2EBFA;\n",
              "      --hover-fill-color: #174EA6;\n",
              "      --disabled-fill-color: #AAA;\n",
              "      --disabled-bg-color: #DDD;\n",
              "  }\n",
              "\n",
              "  [theme=dark] .colab-df-quickchart {\n",
              "      --bg-color: #3B4455;\n",
              "      --fill-color: #D2E3FC;\n",
              "      --hover-bg-color: #434B5C;\n",
              "      --hover-fill-color: #FFFFFF;\n",
              "      --disabled-bg-color: #3B4455;\n",
              "      --disabled-fill-color: #666;\n",
              "  }\n",
              "\n",
              "  .colab-df-quickchart {\n",
              "    background-color: var(--bg-color);\n",
              "    border: none;\n",
              "    border-radius: 50%;\n",
              "    cursor: pointer;\n",
              "    display: none;\n",
              "    fill: var(--fill-color);\n",
              "    height: 32px;\n",
              "    padding: 0;\n",
              "    width: 32px;\n",
              "  }\n",
              "\n",
              "  .colab-df-quickchart:hover {\n",
              "    background-color: var(--hover-bg-color);\n",
              "    box-shadow: 0 1px 2px rgba(60, 64, 67, 0.3), 0 1px 3px 1px rgba(60, 64, 67, 0.15);\n",
              "    fill: var(--button-hover-fill-color);\n",
              "  }\n",
              "\n",
              "  .colab-df-quickchart-complete:disabled,\n",
              "  .colab-df-quickchart-complete:disabled:hover {\n",
              "    background-color: var(--disabled-bg-color);\n",
              "    fill: var(--disabled-fill-color);\n",
              "    box-shadow: none;\n",
              "  }\n",
              "\n",
              "  .colab-df-spinner {\n",
              "    border: 2px solid var(--fill-color);\n",
              "    border-color: transparent;\n",
              "    border-bottom-color: var(--fill-color);\n",
              "    animation:\n",
              "      spin 1s steps(1) infinite;\n",
              "  }\n",
              "\n",
              "  @keyframes spin {\n",
              "    0% {\n",
              "      border-color: transparent;\n",
              "      border-bottom-color: var(--fill-color);\n",
              "      border-left-color: var(--fill-color);\n",
              "    }\n",
              "    20% {\n",
              "      border-color: transparent;\n",
              "      border-left-color: var(--fill-color);\n",
              "      border-top-color: var(--fill-color);\n",
              "    }\n",
              "    30% {\n",
              "      border-color: transparent;\n",
              "      border-left-color: var(--fill-color);\n",
              "      border-top-color: var(--fill-color);\n",
              "      border-right-color: var(--fill-color);\n",
              "    }\n",
              "    40% {\n",
              "      border-color: transparent;\n",
              "      border-right-color: var(--fill-color);\n",
              "      border-top-color: var(--fill-color);\n",
              "    }\n",
              "    60% {\n",
              "      border-color: transparent;\n",
              "      border-right-color: var(--fill-color);\n",
              "    }\n",
              "    80% {\n",
              "      border-color: transparent;\n",
              "      border-right-color: var(--fill-color);\n",
              "      border-bottom-color: var(--fill-color);\n",
              "    }\n",
              "    90% {\n",
              "      border-color: transparent;\n",
              "      border-bottom-color: var(--fill-color);\n",
              "    }\n",
              "  }\n",
              "</style>\n",
              "\n",
              "  <script>\n",
              "    async function quickchart(key) {\n",
              "      const quickchartButtonEl =\n",
              "        document.querySelector('#' + key + ' button');\n",
              "      quickchartButtonEl.disabled = true;  // To prevent multiple clicks.\n",
              "      quickchartButtonEl.classList.add('colab-df-spinner');\n",
              "      try {\n",
              "        const charts = await google.colab.kernel.invokeFunction(\n",
              "            'suggestCharts', [key], {});\n",
              "      } catch (error) {\n",
              "        console.error('Error during call to suggestCharts:', error);\n",
              "      }\n",
              "      quickchartButtonEl.classList.remove('colab-df-spinner');\n",
              "      quickchartButtonEl.classList.add('colab-df-quickchart-complete');\n",
              "    }\n",
              "    (() => {\n",
              "      let quickchartButtonEl =\n",
              "        document.querySelector('#df-11f50173-b109-4f10-befe-b534b803ab50 button');\n",
              "      quickchartButtonEl.style.display =\n",
              "        google.colab.kernel.accessAllowed ? 'block' : 'none';\n",
              "    })();\n",
              "  </script>\n",
              "</div>\n",
              "\n",
              "    </div>\n",
              "  </div>\n"
            ],
            "application/vnd.google.colaboratory.intrinsic+json": {
              "type": "dataframe",
              "variable_name": "df",
              "summary": "{\n  \"name\": \"df\",\n  \"rows\": 2500,\n  \"fields\": [\n    {\n      \"column\": \"id\",\n      \"properties\": {\n        \"dtype\": \"number\",\n        \"std\": 1064808,\n        \"min\": 3913442,\n        \"max\": 10276810,\n        \"num_unique_values\": 2500,\n        \"samples\": [\n          8771283,\n          8384589,\n          9849229\n        ],\n        \"semantic_type\": \"\",\n        \"description\": \"\"\n      }\n    },\n    {\n      \"column\": \"document\",\n      \"properties\": {\n        \"dtype\": \"string\",\n        \"num_unique_values\": 2500,\n        \"samples\": [\n          \"\\uac78\\ub808\\ucc98\\ub7fc \\uc0ac\\ub294\\uac8c \\uac10\\ub3d9\\uc801\\uc774\\uace0 \\uc544\\ub984\\ub2e4\\uc6b4 \\uc0ac\\ub791? \\uc0ac\\ub791\\ud0c0\\ub839 \\uadf8\\ub9cc \\ud574\\ub77c \\uadf8\\ub0e5 \\uc139\\uc2a4\\ud558\\uace0 \\uc2f6\\uc740\\uac70\\uc9c0 \\ubb34\\uc2a8 \\uc0ac\\ub791\\uc774\\ub0d0. \\uc694\\uc998 \\uac19\\uc774 \\ubb38\\ub780\\ud55c \\uc2dc\\ub300\\uc5d0 \\uc9c4\\uc2e4\\ud55c \\uc0ac\\ub791\\uc740 \\uc5c6\\ub2e4. \\uc774 \\uc138\\uc0c1\\uc740 \\uc8fc\\uc9c0\\uc721\\ub9bc\\uc758 \\uc2dc\\ub300. \\uc139\\uc2a4\\ub97c \\uc0ac\\ub791\\uc774\\ub780 \\ub2e8\\uc5b4\\ub85c \\uac10\\ud788 \\ud3ec\\uc7a5\\ud558\\uc9c0\\ub9c8\\ub77c. \\uc0ac\\ub791\\uc774\\ub780 \\ub2e8\\uc5b4\\uc5d0 \\ub300\\ud55c \\ubaa8\\uc695\\uc774\\ub2e4.\",\n          \"\\uc8fc\\uc778\\uacf5 \\uac10\\uc815\\ubcc0\\ud654\\uc5d0 \\ub300\\ud55c \\uacf5\\uac10\\uc774 \\ubd80\\uc871\\ud558\\uace0 \\uc5b5\\uc9c0\\ubc18\\uc804\\uc5d0 \\uc5b4\\uc774\\uc5c6\\ub294 \\ud5db\\uc6c3\\uc74c\\ub9cc \\ub098\\uc62c\\ubfd0.... \\uc131\\ud589\\uc704 \\uc7a5\\uba74\\uc774 \\ub108\\ubb34 \\ub354\\ub7fd\\uace0 \\uc2f8\\uad6c\\ub824\\ud2f1\\ud558\\ub2e4. \\uc5ec\\ubc30\\uc6b0 \\ud0a4\\ub3c4\\ud06c\\uace0 \\ub298\\uc52c\\ube75\\ube75\\ud55c\\ub370 \\ud654\\uc7a5\\uc774 \\ub108\\ubb34 \\uc774\\uc0c1\\ud574 90\\ub144\\ub300 \\ucd0c\\ube68\\uc791\\ub82c ..\\uadf8\\ub798\\ub3c4 \\ube44\\ub514\\uc624\\uc6a9 \\uc601\\ud654\\uce58\\uace4 \\uad1c\\ucc2e\\uc740\\ud3b8\\uc5d0 \\uc18d\\ud55c\\ub2e4.\",\n          \"\\uac1c\\uc5f0\\uc131 \\ub178\\ub2f5..\\uadf8 \\ub9ce\\uc740\\ub370\\uc5d0 \\uce74\\uba54\\ub77c \\ub2e4 \\uc124\\uce58\\ud55c\\uac83\\ub3c4 \\ub9d0\\ub3c4\\uc548\\ub418\\uace0, \\ubc30\\uac00\\ubc1c\\uacac\\ub41c\\uac70\\ub3c4 \\uc758\\uc2ec\\uc2a4\\ub7ec\\uc6b4\\ub370.\\uadf8\\uac78 \\ub610 \\ud0c0\\uace0\\uac00\\uc11cOOO \\uc9c4\\uc9dc \\uad6c\\uc131\\ub825\\uc5b4\\uc124\\ud504\\ub2e4. \\uc2ed\\uc5b5\\uc740\\uc65c\\uc900\\uac70\\uc9c0.. \\uc81c\\uc77c\\ub098\\uc05c\\ub188\\uc740 \\ud55c\\uae30\\ud0dc\\ub791 \\uc7a5\\ubbfc\\ucca0\\uc774\\ub124\"\n        ],\n        \"semantic_type\": \"\",\n        \"description\": \"\"\n      }\n    },\n    {\n      \"column\": \"label\",\n      \"properties\": {\n        \"dtype\": \"number\",\n        \"std\": 0,\n        \"min\": 0,\n        \"max\": 0,\n        \"num_unique_values\": 1,\n        \"samples\": [\n          0\n        ],\n        \"semantic_type\": \"\",\n        \"description\": \"\"\n      }\n    },\n    {\n      \"column\": \"\\uae38\\uc774\",\n      \"properties\": {\n        \"dtype\": \"number\",\n        \"std\": 23,\n        \"min\": 71,\n        \"max\": 144,\n        \"num_unique_values\": 73,\n        \"samples\": [\n          137\n        ],\n        \"semantic_type\": \"\",\n        \"description\": \"\"\n      }\n    }\n  ]\n}"
            }
          },
          "metadata": {},
          "execution_count": 20
        }
      ]
    },
    {
      "cell_type": "code",
      "source": [
        "# 증강 적용\n",
        "df['text_swap'] = df['document'].apply(lambda x: augment_text(x, synonym_dict, swap_n=2))\n",
        "df['text_insert'] = df['document'].apply(lambda x: augment_text(x, synonym_dict, insert_n=2))\n",
        "df['text_delete'] = df['document'].apply(lambda x: augment_text(x, synonym_dict, delete_p=0.2))\n",
        "df['text_replace'] = df['document'].apply(lambda x: augment_text(x, synonym_dict, replace_n=2))"
      ],
      "metadata": {
        "id": "2t5epBAuozFv"
      },
      "execution_count": 21,
      "outputs": []
    },
    {
      "cell_type": "code",
      "source": [
        "df.to_csv('NSMC_0.8_aug_eda.csv', encoding='utf-8-sig')"
      ],
      "metadata": {
        "id": "E-1Ooq_OozIh"
      },
      "execution_count": 22,
      "outputs": []
    },
    {
      "cell_type": "code",
      "source": [],
      "metadata": {
        "id": "Y0uDBhoHotQa"
      },
      "execution_count": null,
      "outputs": []
    },
    {
      "cell_type": "code",
      "source": [],
      "metadata": {
        "id": "mdxiYWDxotSr"
      },
      "execution_count": null,
      "outputs": []
    },
    {
      "cell_type": "code",
      "source": [],
      "metadata": {
        "id": "TQVlD9bPndyr"
      },
      "execution_count": null,
      "outputs": []
    },
    {
      "cell_type": "code",
      "source": [],
      "metadata": {
        "id": "3k8ndp84mqs8"
      },
      "execution_count": null,
      "outputs": []
    }
  ]
}