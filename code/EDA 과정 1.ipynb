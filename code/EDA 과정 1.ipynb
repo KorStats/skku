{
  "nbformat": 4,
  "nbformat_minor": 0,
  "metadata": {
    "colab": {
      "provenance": [],
      "authorship_tag": "ABX9TyPLZ4Z9qytAd3pmd3r7dy0K",
      "include_colab_link": true
    },
    "kernelspec": {
      "name": "python3",
      "display_name": "Python 3"
    },
    "language_info": {
      "name": "python"
    }
  },
  "cells": [
    {
      "cell_type": "markdown",
      "metadata": {
        "id": "view-in-github",
        "colab_type": "text"
      },
      "source": [
        "<a href=\"https://colab.research.google.com/github/KorStats/skku/blob/main/code/EDA%20%EA%B3%BC%EC%A0%95%201.ipynb\" target=\"_parent\"><img src=\"https://colab.research.google.com/assets/colab-badge.svg\" alt=\"Open In Colab\"/></a>"
      ]
    },
    {
      "cell_type": "code",
      "source": [
        "pip install konlpy"
      ],
      "metadata": {
        "colab": {
          "base_uri": "https://localhost:8080/"
        },
        "id": "GtSu-ZJ0mY0G",
        "outputId": "cbf87f24-0bfb-4836-bf1b-36add3f20de9"
      },
      "execution_count": 5,
      "outputs": [
        {
          "output_type": "stream",
          "name": "stdout",
          "text": [
            "Collecting konlpy\n",
            "  Downloading konlpy-0.6.0-py2.py3-none-any.whl.metadata (1.9 kB)\n",
            "Collecting JPype1>=0.7.0 (from konlpy)\n",
            "  Downloading jpype1-1.5.2-cp311-cp311-manylinux_2_17_x86_64.manylinux2014_x86_64.whl.metadata (4.9 kB)\n",
            "Requirement already satisfied: lxml>=4.1.0 in /usr/local/lib/python3.11/dist-packages (from konlpy) (5.3.0)\n",
            "Requirement already satisfied: numpy>=1.6 in /usr/local/lib/python3.11/dist-packages (from konlpy) (1.26.4)\n",
            "Requirement already satisfied: packaging in /usr/local/lib/python3.11/dist-packages (from JPype1>=0.7.0->konlpy) (24.2)\n",
            "Downloading konlpy-0.6.0-py2.py3-none-any.whl (19.4 MB)\n",
            "\u001b[2K   \u001b[90m━━━━━━━━━━━━━━━━━━━━━━━━━━━━━━━━━━━━━━━━\u001b[0m \u001b[32m19.4/19.4 MB\u001b[0m \u001b[31m52.5 MB/s\u001b[0m eta \u001b[36m0:00:00\u001b[0m\n",
            "\u001b[?25hDownloading jpype1-1.5.2-cp311-cp311-manylinux_2_17_x86_64.manylinux2014_x86_64.whl (494 kB)\n",
            "\u001b[2K   \u001b[90m━━━━━━━━━━━━━━━━━━━━━━━━━━━━━━━━━━━━━━━━\u001b[0m \u001b[32m494.1/494.1 kB\u001b[0m \u001b[31m27.9 MB/s\u001b[0m eta \u001b[36m0:00:00\u001b[0m\n",
            "\u001b[?25hInstalling collected packages: JPype1, konlpy\n",
            "Successfully installed JPype1-1.5.2 konlpy-0.6.0\n"
          ]
        }
      ]
    },
    {
      "cell_type": "code",
      "execution_count": 16,
      "metadata": {
        "id": "FohqghZclFJz"
      },
      "outputs": [],
      "source": [
        "import pickle\n",
        "import random\n",
        "from konlpy.tag import Okt\n",
        "\n",
        "# 동의어 사전 로드\n",
        "def load_synonym_dict(pickle_file):\n",
        "    with open(pickle_file, 'rb') as f:\n",
        "        synonym_dict = pickle.load(f)\n",
        "    return synonym_dict\n",
        "\n",
        "# Random Swap (랜덤 단어 교환)\n",
        "def random_swap(words, n=1):\n",
        "    words = words.copy()\n",
        "    for _ in range(n):\n",
        "        idx1, idx2 = random.sample(range(len(words)), 2)\n",
        "        words[idx1], words[idx2] = words[idx2], words[idx1]\n",
        "    return words\n",
        "\n",
        "# Random Insertion (랜덤 단어 삽입)\n",
        "def random_insertion(words, synonym_dict, n=1):\n",
        "    words = words.copy()\n",
        "    for _ in range(n):\n",
        "        idx = random.randint(0, len(words) - 1)\n",
        "        word = words[idx]\n",
        "        if word in synonym_dict:\n",
        "            words.insert(idx, random.choice(synonym_dict[word]))\n",
        "    return words\n",
        "\n",
        "# Random Delete (랜덤 단어 삭제)\n",
        "def random_delete(words, p=0.1):\n",
        "    if len(words) == 1:\n",
        "        return words\n",
        "    return [word for word in words if random.random() > p]\n",
        "\n",
        "# Synonym Replacement (동의어 대체)\n",
        "def synonym_replacement(words, synonym_dict, n=1):\n",
        "    words = words.copy()\n",
        "    for _ in range(n):\n",
        "        idx = random.randint(0, len(words) - 1)\n",
        "        word = words[idx]\n",
        "        if word in synonym_dict:\n",
        "            words[idx] = random.choice(synonym_dict[word])\n",
        "    return words\n",
        "\n",
        "# 데이터 증강 실행 함수\n",
        "#def augment_text(text, synonym_dict, swap_n=1, insert_n=1, delete_p=0.1, replace_n=1):\n",
        "#    okt = Okt()\n",
        "#    words = okt.morphs(text)  # Okt를 이용한 토큰화\n",
        "#    words = random_swap(words, swap_n)\n",
        "#    words = random_insertion(words, synonym_dict, insert_n)\n",
        "#    words = random_delete(words, delete_p)\n",
        "#    words = synonym_replacement(words, synonym_dict, replace_n)\n",
        "#    return ' '.join(words)"
      ]
    },
    {
      "cell_type": "code",
      "source": [
        "# 데이터 증강 실행 함수\n",
        "def augment_text(text, synonym_dict, swap_n=0, insert_n=0, delete_p=0, replace_n=0):\n",
        "    okt = Okt()\n",
        "    words = okt.morphs(text)  # Okt를 이용한 토큰화\n",
        "\n",
        "    if swap_n > 0:\n",
        "        words = random_swap(words, swap_n)\n",
        "    if insert_n > 0:\n",
        "        words = random_insertion(words, synonym_dict, insert_n)\n",
        "    if delete_p > 0:\n",
        "        words = random_delete(words, delete_p)\n",
        "    if replace_n > 0:\n",
        "        words = synonym_replacement(words, synonym_dict, replace_n)\n",
        "\n",
        "    return ' '.join(words)"
      ],
      "metadata": {
        "id": "TI2cPdWir8Bt"
      },
      "execution_count": 21,
      "outputs": []
    },
    {
      "cell_type": "code",
      "source": [
        "# 동의어 사전 로드\n",
        "synonym_dict = load_synonym_dict('/content/wordnet.pickle')"
      ],
      "metadata": {
        "id": "PLTVaibUnklo"
      },
      "execution_count": 22,
      "outputs": []
    },
    {
      "cell_type": "markdown",
      "source": [
        "# 테스트 세부 과정"
      ],
      "metadata": {
        "id": "gcVb0nkbodJD"
      }
    },
    {
      "cell_type": "code",
      "source": [
        "# 테스트 문장 및 개별 증강 방식 적용\n",
        "text1 = \"보안 분석가는 네트워크 취약점을 식별하고 보호 조치를 수행합니다.\"\n",
        "text2 = \"기업의 정보 보안 정책을 강화하기 위한 절차를 수립합니다.\"\n",
        "text3 = \"데이터 보호를 위해 최신 암호화 기술을 적용합니다.\"\n",
        "text4 = \"침해 사고 대응 프로세스를 구축하고 운영합니다.\"\n",
        "\n",
        "aug_swap = augment_text(text1, synonym_dict, swap_n=2)\n",
        "aug_insert = augment_text(text2, synonym_dict, insert_n=2)\n",
        "aug_delete = augment_text(text3, synonym_dict, delete_p=0.2)\n",
        "aug_replace = augment_text(text4, synonym_dict, replace_n=2)\n",
        "\n",
        "print(\"원본 문장 1:\", text1)\n",
        "print(\"Swap 적용:\", aug_swap)\n",
        "print(\"\\n원본 문장 2:\", text2)\n",
        "print(\"Insertion 적용:\", aug_insert)\n",
        "print(\"\\n원본 문장 3:\", text3)\n",
        "print(\"Delete 적용:\", aug_delete)\n",
        "print(\"\\n원본 문장 4:\", text4)\n",
        "print(\"Replace 적용:\", aug_replace)\n"
      ],
      "metadata": {
        "colab": {
          "base_uri": "https://localhost:8080/"
        },
        "id": "VTBXy8A8nk-t",
        "outputId": "05ab5f35-22a4-4b55-928f-a75949a54bb6"
      },
      "execution_count": 23,
      "outputs": [
        {
          "output_type": "stream",
          "name": "stdout",
          "text": [
            "원본 문장 1: 보안 분석가는 네트워크 취약점을 식별하고 보호 조치를 수행합니다.\n",
            "Swap 적용: 네트워크 분석 가는 보안 취약점 을 보호 하고 식별 조치 를 수행 합니다 .\n",
            "\n",
            "원본 문장 2: 기업의 정보 보안 정책을 강화하기 위한 절차를 수립합니다.\n",
            "Insertion 적용: 기업 의 정보 보안 정책 을 강화하기 위 한 절차 를 수립 합니다 .\n",
            "\n",
            "원본 문장 3: 데이터 보호를 위해 최신 암호화 기술을 적용합니다.\n",
            "Delete 적용: 를 위해 암호 을 적용 합니다 .\n",
            "\n",
            "원본 문장 4: 침해 사고 대응 프로세스를 구축하고 운영합니다.\n",
            "Replace 적용: 침해 사고 대응 프로세스 를 구축 하고 운영 합니다 .\n"
          ]
        }
      ]
    },
    {
      "cell_type": "code",
      "source": [],
      "metadata": {
        "id": "ufkrXTpdnduA"
      },
      "execution_count": null,
      "outputs": []
    },
    {
      "cell_type": "code",
      "source": [],
      "metadata": {
        "id": "JzIIu-CFndwc"
      },
      "execution_count": null,
      "outputs": []
    },
    {
      "cell_type": "code",
      "source": [],
      "metadata": {
        "id": "TQVlD9bPndyr"
      },
      "execution_count": null,
      "outputs": []
    },
    {
      "cell_type": "code",
      "source": [],
      "metadata": {
        "id": "3k8ndp84mqs8"
      },
      "execution_count": null,
      "outputs": []
    }
  ]
}