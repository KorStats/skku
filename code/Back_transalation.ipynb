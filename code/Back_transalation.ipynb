{
  "nbformat": 4,
  "nbformat_minor": 0,
  "metadata": {
    "colab": {
      "provenance": [],
      "authorship_tag": "ABX9TyNWIB6xV+tGo9W4rZCv+M3D",
      "include_colab_link": true
    },
    "kernelspec": {
      "name": "python3",
      "display_name": "Python 3"
    },
    "language_info": {
      "name": "python"
    }
  },
  "cells": [
    {
      "cell_type": "markdown",
      "metadata": {
        "id": "view-in-github",
        "colab_type": "text"
      },
      "source": [
        "<a href=\"https://colab.research.google.com/github/KorStats/skku/blob/main/code/Back_transalation.ipynb\" target=\"_parent\"><img src=\"https://colab.research.google.com/assets/colab-badge.svg\" alt=\"Open In Colab\"/></a>"
      ]
    },
    {
      "cell_type": "markdown",
      "source": [
        "# 데이터 불러오기"
      ],
      "metadata": {
        "id": "2FY4nP3dFWQ4"
      }
    },
    {
      "cell_type": "code",
      "source": [
        "from google.colab import drive\n",
        "drive.mount('/content/gdrive')\n",
        "!ln -s /content/gdrive/My\\ Drive/ /mydrive\n",
        "!ls /mydrive"
      ],
      "metadata": {
        "colab": {
          "base_uri": "https://localhost:8080/"
        },
        "id": "jcVHBA8MFZSx",
        "outputId": "d53ec862-19f8-42d4-9439-2f521d9f6522"
      },
      "execution_count": 2,
      "outputs": [
        {
          "output_type": "stream",
          "name": "stdout",
          "text": [
            "Drive already mounted at /content/gdrive; to attempt to forcibly remount, call drive.mount(\"/content/gdrive\", force_remount=True).\n",
            "ln: failed to create symbolic link '/mydrive/My Drive': File exists\n",
            "'Colab Notebooks'   법률_train_original.csv\t  신문기사_valid_original.csv\n",
            " kosbi_train.json   법률_valid_original.csv\t  이전\n",
            "'My Drive'\t    신문기사_train_original.csv   졸업논문\n"
          ]
        }
      ]
    },
    {
      "cell_type": "code",
      "source": [
        "import pandas as pd\n",
        "df=pd.read_csv('/content/gdrive/MyDrive/졸업논문/DATA/예시데이터.csv', encoding='utf-8-sig')"
      ],
      "metadata": {
        "id": "RZs3Cy93FZVs"
      },
      "execution_count": 3,
      "outputs": []
    },
    {
      "cell_type": "code",
      "source": [
        "df.columns"
      ],
      "metadata": {
        "colab": {
          "base_uri": "https://localhost:8080/"
        },
        "id": "87qvebByNj2b",
        "outputId": "b85a725a-713f-46c9-c91a-883cc269068a"
      },
      "execution_count": 4,
      "outputs": [
        {
          "output_type": "execute_result",
          "data": {
            "text/plain": [
              "Index(['demographic_category', 'demographic_group', 'context', 'context_en',\n",
              "       'sentence', 'sentence_en', 'context_label', 'context_sub_label',\n",
              "       'sentence_label', 'sentence_sub_label', 'annotated_demo'],\n",
              "      dtype='object')"
            ]
          },
          "metadata": {},
          "execution_count": 4
        }
      ]
    },
    {
      "cell_type": "code",
      "source": [
        "df['text']=df['context']+df['sentence']"
      ],
      "metadata": {
        "id": "7pO-_TDANhJG"
      },
      "execution_count": 5,
      "outputs": []
    },
    {
      "cell_type": "code",
      "source": [
        "df_1=df[df['sentence_label']=='safe']\n",
        "df_2=df[df['sentence_label']=='unsafe']"
      ],
      "metadata": {
        "id": "CvFs_Iu-I5IK"
      },
      "execution_count": 6,
      "outputs": []
    },
    {
      "cell_type": "markdown",
      "source": [
        "# Back-translation"
      ],
      "metadata": {
        "id": "32M7z7VtHdHS"
      }
    },
    {
      "cell_type": "code",
      "source": [
        "pip install googletrans==4.0.0-rc1"
      ],
      "metadata": {
        "colab": {
          "base_uri": "https://localhost:8080/"
        },
        "id": "xlejqAz_HGar",
        "outputId": "70d9d735-89a9-4032-a72b-c5600171eb26"
      },
      "execution_count": 7,
      "outputs": [
        {
          "output_type": "stream",
          "name": "stdout",
          "text": [
            "Requirement already satisfied: googletrans==4.0.0-rc1 in /usr/local/lib/python3.11/dist-packages (4.0.0rc1)\n",
            "Requirement already satisfied: httpx==0.13.3 in /usr/local/lib/python3.11/dist-packages (from googletrans==4.0.0-rc1) (0.13.3)\n",
            "Requirement already satisfied: certifi in /usr/local/lib/python3.11/dist-packages (from httpx==0.13.3->googletrans==4.0.0-rc1) (2024.12.14)\n",
            "Requirement already satisfied: hstspreload in /usr/local/lib/python3.11/dist-packages (from httpx==0.13.3->googletrans==4.0.0-rc1) (2025.1.1)\n",
            "Requirement already satisfied: sniffio in /usr/local/lib/python3.11/dist-packages (from httpx==0.13.3->googletrans==4.0.0-rc1) (1.3.1)\n",
            "Requirement already satisfied: chardet==3.* in /usr/local/lib/python3.11/dist-packages (from httpx==0.13.3->googletrans==4.0.0-rc1) (3.0.4)\n",
            "Requirement already satisfied: idna==2.* in /usr/local/lib/python3.11/dist-packages (from httpx==0.13.3->googletrans==4.0.0-rc1) (2.10)\n",
            "Requirement already satisfied: rfc3986<2,>=1.3 in /usr/local/lib/python3.11/dist-packages (from httpx==0.13.3->googletrans==4.0.0-rc1) (1.5.0)\n",
            "Requirement already satisfied: httpcore==0.9.* in /usr/local/lib/python3.11/dist-packages (from httpx==0.13.3->googletrans==4.0.0-rc1) (0.9.1)\n",
            "Requirement already satisfied: h11<0.10,>=0.8 in /usr/local/lib/python3.11/dist-packages (from httpcore==0.9.*->httpx==0.13.3->googletrans==4.0.0-rc1) (0.9.0)\n",
            "Requirement already satisfied: h2==3.* in /usr/local/lib/python3.11/dist-packages (from httpcore==0.9.*->httpx==0.13.3->googletrans==4.0.0-rc1) (3.2.0)\n",
            "Requirement already satisfied: hyperframe<6,>=5.2.0 in /usr/local/lib/python3.11/dist-packages (from h2==3.*->httpcore==0.9.*->httpx==0.13.3->googletrans==4.0.0-rc1) (5.2.0)\n",
            "Requirement already satisfied: hpack<4,>=3.0 in /usr/local/lib/python3.11/dist-packages (from h2==3.*->httpcore==0.9.*->httpx==0.13.3->googletrans==4.0.0-rc1) (3.0.0)\n"
          ]
        }
      ]
    },
    {
      "cell_type": "code",
      "source": [
        "import pandas as pd\n",
        "from googletrans import Translator\n",
        "\n",
        "def back_translate(text, source_lang, pivot_lang):\n",
        "    translator = Translator()\n",
        "    translated_to_pivot = translator.translate(text, src=source_lang, dest=pivot_lang).text\n",
        "    back_translated = translator.translate(translated_to_pivot, src=pivot_lang, dest=source_lang).text\n",
        "    return back_translated\n",
        "\n",
        "def augment_data(texts, source_lang, pivot_langs, multiplier):\n",
        "    augmented_texts = []\n",
        "    for text in texts:\n",
        "        for _ in range(multiplier - 1):\n",
        "            for pivot_lang in pivot_langs:\n",
        "                augmented_texts.append(back_translate(text, source_lang, pivot_lang))\n",
        "    return augmented_texts\n",
        "\n",
        "def augment_dataframe(df, text_column, category_column, target_category, source_lang, pivot_langs, multiplier):\n",
        "    df_augmented = df.copy()\n",
        "    target_texts = df[df[category_column] == target_category][text_column].tolist()\n",
        "    augmented_texts = augment_data(target_texts, source_lang, pivot_langs, multiplier)\n",
        "    augmented_rows = [{text_column: text, category_column: target_category} for text in augmented_texts]\n",
        "    df_augmented = pd.concat([df_augmented, pd.DataFrame(augmented_rows)], ignore_index=True)\n",
        "    return df_augmented"
      ],
      "metadata": {
        "id": "-NEVq0v0HGdd"
      },
      "execution_count": 65,
      "outputs": []
    },
    {
      "cell_type": "markdown",
      "source": [
        "# 증분하기"
      ],
      "metadata": {
        "id": "PBFUbymaIHMM"
      }
    },
    {
      "cell_type": "markdown",
      "source": [
        "###### df_2를 증분"
      ],
      "metadata": {
        "id": "GH0ztxN7Jy-e"
      }
    },
    {
      "cell_type": "code",
      "source": [
        "print(df_1.shape)\n",
        "print(df_2.shape)"
      ],
      "metadata": {
        "colab": {
          "base_uri": "https://localhost:8080/"
        },
        "id": "lbB8CiI7Jwuh",
        "outputId": "b65a0ea8-c46a-4688-b9ec-445061a70089"
      },
      "execution_count": 66,
      "outputs": [
        {
          "output_type": "stream",
          "name": "stdout",
          "text": [
            "(3, 12)\n",
            "(4, 12)\n"
          ]
        }
      ]
    },
    {
      "cell_type": "code",
      "source": [
        "df_2.columns"
      ],
      "metadata": {
        "colab": {
          "base_uri": "https://localhost:8080/"
        },
        "id": "Bnu6oYKXKhlw",
        "outputId": "573be8df-5210-4713-adeb-66577ae78f6f"
      },
      "execution_count": 67,
      "outputs": [
        {
          "output_type": "execute_result",
          "data": {
            "text/plain": [
              "Index(['demographic_category', 'demographic_group', 'context', 'context_en',\n",
              "       'sentence', 'sentence_en', 'context_label', 'context_sub_label',\n",
              "       'sentence_label', 'sentence_sub_label', 'annotated_demo', 'text'],\n",
              "      dtype='object')"
            ]
          },
          "metadata": {},
          "execution_count": 67
        }
      ]
    },
    {
      "cell_type": "code",
      "source": [
        "df=df_2\n",
        "#'en', 'ja', 'zh-cn', 'zh-tw', 'fr', 'de', 'es', 'ru', 'pt', 'hi'\n",
        "#원데이터 + multiplier-1 * pivot_languages 수\n",
        "pivot_languages = ['en']\n",
        "multiplier=2\n",
        "df_2_augmented = augment_dataframe(df, text_column='text', category_column='sentence_label', target_category='unsafe', source_lang='ko', pivot_langs=pivot_languages, multiplier=multiplier)"
      ],
      "metadata": {
        "id": "SiCUYMUVHGiz"
      },
      "execution_count": 75,
      "outputs": []
    },
    {
      "cell_type": "code",
      "source": [
        "df_2_augmented.shape"
      ],
      "metadata": {
        "colab": {
          "base_uri": "https://localhost:8080/"
        },
        "id": "dv6cVOVxN3DW",
        "outputId": "9863dc4f-abe7-4122-944a-874e8c134c7a"
      },
      "execution_count": 76,
      "outputs": [
        {
          "output_type": "execute_result",
          "data": {
            "text/plain": [
              "(8, 12)"
            ]
          },
          "metadata": {},
          "execution_count": 76
        }
      ]
    },
    {
      "cell_type": "code",
      "source": [],
      "metadata": {
        "id": "Y4cIv2lpUA71"
      },
      "execution_count": null,
      "outputs": []
    },
    {
      "cell_type": "markdown",
      "source": [
        "# 증분데이터 저장하기"
      ],
      "metadata": {
        "id": "saJ3fgHWUaWu"
      }
    },
    {
      "cell_type": "code",
      "source": [
        "df_aug=pd.concat([df_1, df_2_augmented])"
      ],
      "metadata": {
        "id": "VPi9iUJXUA-k"
      },
      "execution_count": 77,
      "outputs": []
    },
    {
      "cell_type": "code",
      "source": [
        "df_aug['sentence_label'].value_counts()"
      ],
      "metadata": {
        "colab": {
          "base_uri": "https://localhost:8080/",
          "height": 178
        },
        "id": "1etYs-3DUBMe",
        "outputId": "4ec61575-e4d0-4025-c019-2095f08d8471"
      },
      "execution_count": 78,
      "outputs": [
        {
          "output_type": "execute_result",
          "data": {
            "text/plain": [
              "sentence_label\n",
              "unsafe    8\n",
              "safe      3\n",
              "Name: count, dtype: int64"
            ],
            "text/html": [
              "<div>\n",
              "<style scoped>\n",
              "    .dataframe tbody tr th:only-of-type {\n",
              "        vertical-align: middle;\n",
              "    }\n",
              "\n",
              "    .dataframe tbody tr th {\n",
              "        vertical-align: top;\n",
              "    }\n",
              "\n",
              "    .dataframe thead th {\n",
              "        text-align: right;\n",
              "    }\n",
              "</style>\n",
              "<table border=\"1\" class=\"dataframe\">\n",
              "  <thead>\n",
              "    <tr style=\"text-align: right;\">\n",
              "      <th></th>\n",
              "      <th>count</th>\n",
              "    </tr>\n",
              "    <tr>\n",
              "      <th>sentence_label</th>\n",
              "      <th></th>\n",
              "    </tr>\n",
              "  </thead>\n",
              "  <tbody>\n",
              "    <tr>\n",
              "      <th>unsafe</th>\n",
              "      <td>8</td>\n",
              "    </tr>\n",
              "    <tr>\n",
              "      <th>safe</th>\n",
              "      <td>3</td>\n",
              "    </tr>\n",
              "  </tbody>\n",
              "</table>\n",
              "</div><br><label><b>dtype:</b> int64</label>"
            ]
          },
          "metadata": {},
          "execution_count": 78
        }
      ]
    },
    {
      "cell_type": "code",
      "source": [
        "df_aug.to_csv('증분데이터.csv', encoding='utf-8-sig')"
      ],
      "metadata": {
        "id": "lE9qmpxUUvC8"
      },
      "execution_count": null,
      "outputs": []
    },
    {
      "cell_type": "code",
      "source": [],
      "metadata": {
        "id": "dr_yQnmzU3o9"
      },
      "execution_count": null,
      "outputs": []
    }
  ]
}