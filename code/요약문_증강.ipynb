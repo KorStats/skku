{
  "nbformat": 4,
  "nbformat_minor": 0,
  "metadata": {
    "colab": {
      "provenance": [],
      "authorship_tag": "ABX9TyOah4P4TVStr61DJXmpqena",
      "include_colab_link": true
    },
    "kernelspec": {
      "name": "python3",
      "display_name": "Python 3"
    },
    "language_info": {
      "name": "python"
    }
  },
  "cells": [
    {
      "cell_type": "markdown",
      "metadata": {
        "id": "view-in-github",
        "colab_type": "text"
      },
      "source": [
        "<a href=\"https://colab.research.google.com/github/KorStats/skku/blob/main/code/%EC%9A%94%EC%95%BD%EB%AC%B8_%EC%A6%9D%EA%B0%95.ipynb\" target=\"_parent\"><img src=\"https://colab.research.google.com/assets/colab-badge.svg\" alt=\"Open In Colab\"/></a>"
      ]
    },
    {
      "cell_type": "markdown",
      "source": [
        "# 필요 라이브러리 설치"
      ],
      "metadata": {
        "id": "Emlbr6CMt6H5"
      }
    },
    {
      "cell_type": "code",
      "source": [
        "pip install transformers sentencepiece torch rouge_score"
      ],
      "metadata": {
        "colab": {
          "base_uri": "https://localhost:8080/"
        },
        "id": "P1AQ4D2Xt5Or",
        "outputId": "27e71d8c-0882-443c-86c9-a39bda881186"
      },
      "execution_count": 1,
      "outputs": [
        {
          "output_type": "stream",
          "name": "stdout",
          "text": [
            "Requirement already satisfied: transformers in /usr/local/lib/python3.11/dist-packages (4.47.1)\n",
            "Requirement already satisfied: sentencepiece in /usr/local/lib/python3.11/dist-packages (0.2.0)\n",
            "Requirement already satisfied: torch in /usr/local/lib/python3.11/dist-packages (2.5.1+cu124)\n",
            "Requirement already satisfied: rouge_score in /usr/local/lib/python3.11/dist-packages (0.1.2)\n",
            "Requirement already satisfied: filelock in /usr/local/lib/python3.11/dist-packages (from transformers) (3.17.0)\n",
            "Requirement already satisfied: huggingface-hub<1.0,>=0.24.0 in /usr/local/lib/python3.11/dist-packages (from transformers) (0.27.1)\n",
            "Requirement already satisfied: numpy>=1.17 in /usr/local/lib/python3.11/dist-packages (from transformers) (1.26.4)\n",
            "Requirement already satisfied: packaging>=20.0 in /usr/local/lib/python3.11/dist-packages (from transformers) (24.2)\n",
            "Requirement already satisfied: pyyaml>=5.1 in /usr/local/lib/python3.11/dist-packages (from transformers) (6.0)\n",
            "Requirement already satisfied: regex!=2019.12.17 in /usr/local/lib/python3.11/dist-packages (from transformers) (2024.11.6)\n",
            "Requirement already satisfied: requests in /usr/local/lib/python3.11/dist-packages (from transformers) (2.32.3)\n",
            "Requirement already satisfied: tokenizers<0.22,>=0.21 in /usr/local/lib/python3.11/dist-packages (from transformers) (0.21.0)\n",
            "Requirement already satisfied: safetensors>=0.4.1 in /usr/local/lib/python3.11/dist-packages (from transformers) (0.5.2)\n",
            "Requirement already satisfied: tqdm>=4.27 in /usr/local/lib/python3.11/dist-packages (from transformers) (4.67.1)\n",
            "Requirement already satisfied: typing-extensions>=4.8.0 in /usr/local/lib/python3.11/dist-packages (from torch) (4.12.2)\n",
            "Requirement already satisfied: networkx in /usr/local/lib/python3.11/dist-packages (from torch) (3.4.2)\n",
            "Requirement already satisfied: jinja2 in /usr/local/lib/python3.11/dist-packages (from torch) (3.1.5)\n",
            "Requirement already satisfied: fsspec in /usr/local/lib/python3.11/dist-packages (from torch) (2024.10.0)\n",
            "Requirement already satisfied: nvidia-cuda-nvrtc-cu12==12.4.127 in /usr/local/lib/python3.11/dist-packages (from torch) (12.4.127)\n",
            "Requirement already satisfied: nvidia-cuda-runtime-cu12==12.4.127 in /usr/local/lib/python3.11/dist-packages (from torch) (12.4.127)\n",
            "Requirement already satisfied: nvidia-cuda-cupti-cu12==12.4.127 in /usr/local/lib/python3.11/dist-packages (from torch) (12.4.127)\n",
            "Requirement already satisfied: nvidia-cudnn-cu12==9.1.0.70 in /usr/local/lib/python3.11/dist-packages (from torch) (9.1.0.70)\n",
            "Requirement already satisfied: nvidia-cublas-cu12==12.4.5.8 in /usr/local/lib/python3.11/dist-packages (from torch) (12.4.5.8)\n",
            "Requirement already satisfied: nvidia-cufft-cu12==11.2.1.3 in /usr/local/lib/python3.11/dist-packages (from torch) (11.2.1.3)\n",
            "Requirement already satisfied: nvidia-curand-cu12==10.3.5.147 in /usr/local/lib/python3.11/dist-packages (from torch) (10.3.5.147)\n",
            "Requirement already satisfied: nvidia-cusolver-cu12==11.6.1.9 in /usr/local/lib/python3.11/dist-packages (from torch) (11.6.1.9)\n",
            "Requirement already satisfied: nvidia-cusparse-cu12==12.3.1.170 in /usr/local/lib/python3.11/dist-packages (from torch) (12.3.1.170)\n",
            "Requirement already satisfied: nvidia-nccl-cu12==2.21.5 in /usr/local/lib/python3.11/dist-packages (from torch) (2.21.5)\n",
            "Requirement already satisfied: nvidia-nvtx-cu12==12.4.127 in /usr/local/lib/python3.11/dist-packages (from torch) (12.4.127)\n",
            "Requirement already satisfied: nvidia-nvjitlink-cu12==12.4.127 in /usr/local/lib/python3.11/dist-packages (from torch) (12.4.127)\n",
            "Requirement already satisfied: triton==3.1.0 in /usr/local/lib/python3.11/dist-packages (from torch) (3.1.0)\n",
            "Requirement already satisfied: sympy==1.13.1 in /usr/local/lib/python3.11/dist-packages (from torch) (1.13.1)\n",
            "Requirement already satisfied: mpmath<1.4,>=1.1.0 in /usr/local/lib/python3.11/dist-packages (from sympy==1.13.1->torch) (1.3.0)\n",
            "Requirement already satisfied: absl-py in /usr/local/lib/python3.11/dist-packages (from rouge_score) (1.4.0)\n",
            "Requirement already satisfied: nltk in /usr/local/lib/python3.11/dist-packages (from rouge_score) (3.9.1)\n",
            "Requirement already satisfied: six>=1.14.0 in /usr/local/lib/python3.11/dist-packages (from rouge_score) (1.17.0)\n",
            "Requirement already satisfied: MarkupSafe>=2.0 in /usr/local/lib/python3.11/dist-packages (from jinja2->torch) (3.0.2)\n",
            "Requirement already satisfied: click in /usr/local/lib/python3.11/dist-packages (from nltk->rouge_score) (8.1.8)\n",
            "Requirement already satisfied: joblib in /usr/local/lib/python3.11/dist-packages (from nltk->rouge_score) (1.4.2)\n",
            "Requirement already satisfied: charset-normalizer<4,>=2 in /usr/local/lib/python3.11/dist-packages (from requests->transformers) (3.4.1)\n",
            "Requirement already satisfied: idna<4,>=2.5 in /usr/local/lib/python3.11/dist-packages (from requests->transformers) (3.10)\n",
            "Requirement already satisfied: urllib3<3,>=1.21.1 in /usr/local/lib/python3.11/dist-packages (from requests->transformers) (2.3.0)\n",
            "Requirement already satisfied: certifi>=2017.4.17 in /usr/local/lib/python3.11/dist-packages (from requests->transformers) (2024.12.14)\n"
          ]
        }
      ]
    },
    {
      "cell_type": "code",
      "source": [
        "!pip install konlpy\n",
        "!pip install textrankr\n",
        "!pip install JPype1>=0.7.0"
      ],
      "metadata": {
        "colab": {
          "base_uri": "https://localhost:8080/"
        },
        "id": "ugYO2eZxut0J",
        "outputId": "fbdfab83-aede-4504-a357-8938d7f7c466"
      },
      "execution_count": 2,
      "outputs": [
        {
          "output_type": "stream",
          "name": "stdout",
          "text": [
            "Requirement already satisfied: konlpy in /usr/local/lib/python3.11/dist-packages (0.6.0)\n",
            "Requirement already satisfied: JPype1>=0.7.0 in /usr/local/lib/python3.11/dist-packages (from konlpy) (1.5.2)\n",
            "Requirement already satisfied: lxml>=4.1.0 in /usr/local/lib/python3.11/dist-packages (from konlpy) (5.3.0)\n",
            "Requirement already satisfied: numpy>=1.6 in /usr/local/lib/python3.11/dist-packages (from konlpy) (1.26.4)\n",
            "Requirement already satisfied: packaging in /usr/local/lib/python3.11/dist-packages (from JPype1>=0.7.0->konlpy) (24.2)\n",
            "Requirement already satisfied: textrankr in /usr/local/lib/python3.11/dist-packages (1.1)\n",
            "Requirement already satisfied: setuptools in /usr/local/lib/python3.11/dist-packages (from textrankr) (75.1.0)\n",
            "Requirement already satisfied: networkx in /usr/local/lib/python3.11/dist-packages (from textrankr) (3.4.2)\n"
          ]
        }
      ]
    },
    {
      "cell_type": "markdown",
      "source": [
        "# 요약문 알고리즘"
      ],
      "metadata": {
        "id": "cF-ZnS80uY9J"
      }
    },
    {
      "cell_type": "markdown",
      "source": [
        "## ① TextRank"
      ],
      "metadata": {
        "id": "BS3-3HBEzikc"
      }
    },
    {
      "cell_type": "code",
      "source": [
        "import re\n",
        "import torch\n",
        "import numpy as np\n",
        "import kss\n",
        "import networkx as nx\n",
        "from sklearn.feature_extraction.text import CountVectorizer, TfidfVectorizer\n",
        "from sklearn.metrics.pairwise import cosine_similarity\n",
        "from transformers import PreTrainedTokenizerFast, BartForConditionalGeneration, T5Tokenizer, T5ForConditionalGeneration, BertTokenizer, BertForSequenceClassification\n",
        "from rouge_score import rouge_scorer\n",
        "\n",
        "\n",
        "# TextRank 기반 추출적 요약\n",
        "def textrank_summary(text, ratio=0.2):\n",
        "    sentences = text.split('. ')# 문장 단위로 분리\n",
        "    vectorizer = TfidfVectorizer()\n",
        "    sentence_vectors = vectorizer.fit_transform(sentences)\n",
        "    similarity_matrix = cosine_similarity(sentence_vectors, sentence_vectors)\n",
        "    graph = nx.from_numpy_array(similarity_matrix)\n",
        "    scores = nx.pagerank(graph)\n",
        "    ranked_sentences = sorted(((scores[i], s) for i, s in enumerate(sentences)), reverse=True)\n",
        "    top_n = max(1, int(len(sentences) * ratio))  # 최소 1문장은 포함\n",
        "    summarized_sentences = [ranked_sentences[i][1] for i in range(top_n)]\n",
        "    return ' '.join(summarized_sentences)"
      ],
      "metadata": {
        "id": "UEKzY_e6uDbp"
      },
      "execution_count": 3,
      "outputs": []
    },
    {
      "cell_type": "markdown",
      "source": [
        "## ② KoBART"
      ],
      "metadata": {
        "id": "Svti6FzQzpUF"
      }
    },
    {
      "cell_type": "code",
      "source": [
        "!git clone https://github.com/seujung/KoBART-summarization.git"
      ],
      "metadata": {
        "colab": {
          "base_uri": "https://localhost:8080/"
        },
        "id": "tkXEjDid2mxc",
        "outputId": "229ec4df-3294-4bdb-94ad-37c559a82a34"
      },
      "execution_count": 4,
      "outputs": [
        {
          "output_type": "stream",
          "name": "stdout",
          "text": [
            "fatal: destination path 'KoBART-summarization' already exists and is not an empty directory.\n"
          ]
        }
      ]
    },
    {
      "cell_type": "code",
      "source": [
        "!pip install loguru\n",
        "!pip install lightning"
      ],
      "metadata": {
        "colab": {
          "base_uri": "https://localhost:8080/"
        },
        "id": "I5dgbNdkKWFs",
        "outputId": "cfc62014-ffce-4db8-88a7-83961976950d"
      },
      "execution_count": 5,
      "outputs": [
        {
          "output_type": "stream",
          "name": "stdout",
          "text": [
            "Requirement already satisfied: loguru in /usr/local/lib/python3.11/dist-packages (0.7.3)\n",
            "Requirement already satisfied: lightning in /usr/local/lib/python3.11/dist-packages (2.5.0.post0)\n",
            "Requirement already satisfied: PyYAML<8.0,>=5.4 in /usr/local/lib/python3.11/dist-packages (from lightning) (6.0)\n",
            "Requirement already satisfied: fsspec<2026.0,>=2022.5.0 in /usr/local/lib/python3.11/dist-packages (from fsspec[http]<2026.0,>=2022.5.0->lightning) (2024.10.0)\n",
            "Requirement already satisfied: lightning-utilities<2.0,>=0.10.0 in /usr/local/lib/python3.11/dist-packages (from lightning) (0.11.9)\n",
            "Requirement already satisfied: packaging<25.0,>=20.0 in /usr/local/lib/python3.11/dist-packages (from lightning) (24.2)\n",
            "Requirement already satisfied: torch<4.0,>=2.1.0 in /usr/local/lib/python3.11/dist-packages (from lightning) (2.5.1+cu124)\n",
            "Requirement already satisfied: torchmetrics<3.0,>=0.7.0 in /usr/local/lib/python3.11/dist-packages (from lightning) (1.6.1)\n",
            "Requirement already satisfied: tqdm<6.0,>=4.57.0 in /usr/local/lib/python3.11/dist-packages (from lightning) (4.67.1)\n",
            "Requirement already satisfied: typing-extensions<6.0,>=4.4.0 in /usr/local/lib/python3.11/dist-packages (from lightning) (4.12.2)\n",
            "Requirement already satisfied: pytorch-lightning in /usr/local/lib/python3.11/dist-packages (from lightning) (2.5.0.post0)\n",
            "Requirement already satisfied: aiohttp!=4.0.0a0,!=4.0.0a1 in /usr/local/lib/python3.11/dist-packages (from fsspec[http]<2026.0,>=2022.5.0->lightning) (3.11.11)\n",
            "Requirement already satisfied: setuptools in /usr/local/lib/python3.11/dist-packages (from lightning-utilities<2.0,>=0.10.0->lightning) (75.1.0)\n",
            "Requirement already satisfied: filelock in /usr/local/lib/python3.11/dist-packages (from torch<4.0,>=2.1.0->lightning) (3.17.0)\n",
            "Requirement already satisfied: networkx in /usr/local/lib/python3.11/dist-packages (from torch<4.0,>=2.1.0->lightning) (3.4.2)\n",
            "Requirement already satisfied: jinja2 in /usr/local/lib/python3.11/dist-packages (from torch<4.0,>=2.1.0->lightning) (3.1.5)\n",
            "Requirement already satisfied: nvidia-cuda-nvrtc-cu12==12.4.127 in /usr/local/lib/python3.11/dist-packages (from torch<4.0,>=2.1.0->lightning) (12.4.127)\n",
            "Requirement already satisfied: nvidia-cuda-runtime-cu12==12.4.127 in /usr/local/lib/python3.11/dist-packages (from torch<4.0,>=2.1.0->lightning) (12.4.127)\n",
            "Requirement already satisfied: nvidia-cuda-cupti-cu12==12.4.127 in /usr/local/lib/python3.11/dist-packages (from torch<4.0,>=2.1.0->lightning) (12.4.127)\n",
            "Requirement already satisfied: nvidia-cudnn-cu12==9.1.0.70 in /usr/local/lib/python3.11/dist-packages (from torch<4.0,>=2.1.0->lightning) (9.1.0.70)\n",
            "Requirement already satisfied: nvidia-cublas-cu12==12.4.5.8 in /usr/local/lib/python3.11/dist-packages (from torch<4.0,>=2.1.0->lightning) (12.4.5.8)\n",
            "Requirement already satisfied: nvidia-cufft-cu12==11.2.1.3 in /usr/local/lib/python3.11/dist-packages (from torch<4.0,>=2.1.0->lightning) (11.2.1.3)\n",
            "Requirement already satisfied: nvidia-curand-cu12==10.3.5.147 in /usr/local/lib/python3.11/dist-packages (from torch<4.0,>=2.1.0->lightning) (10.3.5.147)\n",
            "Requirement already satisfied: nvidia-cusolver-cu12==11.6.1.9 in /usr/local/lib/python3.11/dist-packages (from torch<4.0,>=2.1.0->lightning) (11.6.1.9)\n",
            "Requirement already satisfied: nvidia-cusparse-cu12==12.3.1.170 in /usr/local/lib/python3.11/dist-packages (from torch<4.0,>=2.1.0->lightning) (12.3.1.170)\n",
            "Requirement already satisfied: nvidia-nccl-cu12==2.21.5 in /usr/local/lib/python3.11/dist-packages (from torch<4.0,>=2.1.0->lightning) (2.21.5)\n",
            "Requirement already satisfied: nvidia-nvtx-cu12==12.4.127 in /usr/local/lib/python3.11/dist-packages (from torch<4.0,>=2.1.0->lightning) (12.4.127)\n",
            "Requirement already satisfied: nvidia-nvjitlink-cu12==12.4.127 in /usr/local/lib/python3.11/dist-packages (from torch<4.0,>=2.1.0->lightning) (12.4.127)\n",
            "Requirement already satisfied: triton==3.1.0 in /usr/local/lib/python3.11/dist-packages (from torch<4.0,>=2.1.0->lightning) (3.1.0)\n",
            "Requirement already satisfied: sympy==1.13.1 in /usr/local/lib/python3.11/dist-packages (from torch<4.0,>=2.1.0->lightning) (1.13.1)\n",
            "Requirement already satisfied: mpmath<1.4,>=1.1.0 in /usr/local/lib/python3.11/dist-packages (from sympy==1.13.1->torch<4.0,>=2.1.0->lightning) (1.3.0)\n",
            "Requirement already satisfied: numpy>1.20.0 in /usr/local/lib/python3.11/dist-packages (from torchmetrics<3.0,>=0.7.0->lightning) (1.26.4)\n",
            "Requirement already satisfied: aiohappyeyeballs>=2.3.0 in /usr/local/lib/python3.11/dist-packages (from aiohttp!=4.0.0a0,!=4.0.0a1->fsspec[http]<2026.0,>=2022.5.0->lightning) (2.4.4)\n",
            "Requirement already satisfied: aiosignal>=1.1.2 in /usr/local/lib/python3.11/dist-packages (from aiohttp!=4.0.0a0,!=4.0.0a1->fsspec[http]<2026.0,>=2022.5.0->lightning) (1.3.2)\n",
            "Requirement already satisfied: attrs>=17.3.0 in /usr/local/lib/python3.11/dist-packages (from aiohttp!=4.0.0a0,!=4.0.0a1->fsspec[http]<2026.0,>=2022.5.0->lightning) (25.1.0)\n",
            "Requirement already satisfied: frozenlist>=1.1.1 in /usr/local/lib/python3.11/dist-packages (from aiohttp!=4.0.0a0,!=4.0.0a1->fsspec[http]<2026.0,>=2022.5.0->lightning) (1.5.0)\n",
            "Requirement already satisfied: multidict<7.0,>=4.5 in /usr/local/lib/python3.11/dist-packages (from aiohttp!=4.0.0a0,!=4.0.0a1->fsspec[http]<2026.0,>=2022.5.0->lightning) (6.1.0)\n",
            "Requirement already satisfied: propcache>=0.2.0 in /usr/local/lib/python3.11/dist-packages (from aiohttp!=4.0.0a0,!=4.0.0a1->fsspec[http]<2026.0,>=2022.5.0->lightning) (0.2.1)\n",
            "Requirement already satisfied: yarl<2.0,>=1.17.0 in /usr/local/lib/python3.11/dist-packages (from aiohttp!=4.0.0a0,!=4.0.0a1->fsspec[http]<2026.0,>=2022.5.0->lightning) (1.18.3)\n",
            "Requirement already satisfied: MarkupSafe>=2.0 in /usr/local/lib/python3.11/dist-packages (from jinja2->torch<4.0,>=2.1.0->lightning) (3.0.2)\n",
            "Requirement already satisfied: idna>=2.0 in /usr/local/lib/python3.11/dist-packages (from yarl<2.0,>=1.17.0->aiohttp!=4.0.0a0,!=4.0.0a1->fsspec[http]<2026.0,>=2022.5.0->lightning) (3.10)\n"
          ]
        }
      ]
    },
    {
      "cell_type": "code",
      "source": [
        "cd /content/drive/MyDrive/KoBART-summarization"
      ],
      "metadata": {
        "colab": {
          "base_uri": "https://localhost:8080/"
        },
        "id": "oc29x8J3CIVH",
        "outputId": "1a5c913f-1f4f-4459-91b2-c1db5cfed927"
      },
      "execution_count": 6,
      "outputs": [
        {
          "output_type": "stream",
          "name": "stdout",
          "text": [
            "[Errno 2] No such file or directory: '/content/drive/MyDrive/KoBART-summarization'\n",
            "/content\n"
          ]
        }
      ]
    },
    {
      "cell_type": "code",
      "source": [
        "!pip install -r requirements.txt\n",
        "!pip install torch==1.7.1+cu101 torchvision==0.8.2+cu101 -f https://download.pytorch.org/whl/torch_stable.html"
      ],
      "metadata": {
        "colab": {
          "base_uri": "https://localhost:8080/"
        },
        "id": "Z1wAqY9pCCYP",
        "outputId": "ed79f34d-1a0f-48eb-fc24-345173a2a763"
      },
      "execution_count": 7,
      "outputs": [
        {
          "output_type": "stream",
          "name": "stdout",
          "text": [
            "\u001b[31mERROR: Could not open requirements file: [Errno 2] No such file or directory: 'requirements.txt'\u001b[0m\u001b[31m\n",
            "\u001b[0mLooking in links: https://download.pytorch.org/whl/torch_stable.html\n",
            "\u001b[31mERROR: Could not find a version that satisfies the requirement torch==1.7.1+cu101 (from versions: 1.13.0, 1.13.0+cpu, 1.13.0+cu116, 1.13.0+cu117, 1.13.0+cu117.with.pypi.cudnn, 1.13.1, 1.13.1+cpu, 1.13.1+cu116, 1.13.1+cu117, 1.13.1+cu117.with.pypi.cudnn, 2.0.0, 2.0.0+cpu, 2.0.0+cpu.cxx11.abi, 2.0.0+cu117, 2.0.0+cu117.with.pypi.cudnn, 2.0.0+cu118, 2.0.1, 2.0.1+cpu, 2.0.1+cpu.cxx11.abi, 2.0.1+cu117, 2.0.1+cu117.with.pypi.cudnn, 2.0.1+cu118, 2.0.1+rocm5.3, 2.0.1+rocm5.4.2, 2.1.0, 2.1.0+cpu, 2.1.0+cpu.cxx11.abi, 2.1.0+cu118, 2.1.0+cu121, 2.1.0+cu121.with.pypi.cudnn, 2.1.0+rocm5.5, 2.1.0+rocm5.6, 2.1.1, 2.1.1+cpu, 2.1.1+cpu.cxx11.abi, 2.1.1+cu118, 2.1.1+cu121, 2.1.1+cu121.with.pypi.cudnn, 2.1.1+rocm5.5, 2.1.1+rocm5.6, 2.1.2, 2.1.2+cpu, 2.1.2+cpu.cxx11.abi, 2.1.2+cu118, 2.1.2+cu121, 2.1.2+cu121.with.pypi.cudnn, 2.1.2+rocm5.5, 2.1.2+rocm5.6, 2.2.0, 2.2.0+cpu, 2.2.0+cpu.cxx11.abi, 2.2.0+cu118, 2.2.0+cu121, 2.2.0+rocm5.6, 2.2.0+rocm5.7, 2.2.1, 2.2.1+cpu, 2.2.1+cpu.cxx11.abi, 2.2.1+cu118, 2.2.1+cu121, 2.2.1+rocm5.6, 2.2.1+rocm5.7, 2.2.2, 2.2.2+cpu, 2.2.2+cpu.cxx11.abi, 2.2.2+cu118, 2.2.2+cu121, 2.2.2+rocm5.6, 2.2.2+rocm5.7, 2.3.0, 2.3.0+cpu, 2.3.0+cpu.cxx11.abi, 2.3.0+cu118, 2.3.0+cu121, 2.3.0+rocm5.7, 2.3.0+rocm6.0, 2.3.1, 2.3.1+cpu, 2.3.1+cpu.cxx11.abi, 2.3.1+cu118, 2.3.1+cu121, 2.3.1+rocm5.7, 2.3.1+rocm6.0, 2.4.0, 2.4.1, 2.5.0, 2.5.1, 2.6.0)\u001b[0m\u001b[31m\n",
            "\u001b[0m\u001b[31mERROR: No matching distribution found for torch==1.7.1+cu101\u001b[0m\u001b[31m\n",
            "\u001b[0m"
          ]
        }
      ]
    },
    {
      "cell_type": "code",
      "source": [
        "# 클론한 파일 제공 데이터\n",
        "%cd /content/KoBART-summarization/data\n",
        "!tar -zxvf train.tar.gz\n",
        "!tar -zxvf test.tar.gz\n",
        "!ls"
      ],
      "metadata": {
        "colab": {
          "base_uri": "https://localhost:8080/"
        },
        "id": "5JY5XQhdEODr",
        "outputId": "45506f22-cbce-4738-ae04-a89c791a286f"
      },
      "execution_count": 8,
      "outputs": [
        {
          "output_type": "stream",
          "name": "stdout",
          "text": [
            "/content/KoBART-summarization/data\n",
            "train.tsv\n",
            "test.tsv\n",
            "신문기사_요약학습데이터.csv  dain_train.csv  test.tar.gz  test.tsv  train.tar.gz  train.tsv\n"
          ]
        }
      ]
    },
    {
      "cell_type": "code",
      "source": [
        "# 추가할 데이터를 현재 커널로 가져온다.\n",
        "import pandas as pd\n",
        "import shutil\n",
        "# train\n",
        "shutil.copy(\"/content/KoBART-summarization/data/신문기사_요약학습데이터.csv\", \"/content/KoBART-summarization/data/dain_train.csv\")\n",
        "df_train = pd.read_csv('/content/KoBART-summarization/data/dain_train.csv', encoding='utf-8-sig', on_bad_lines='skip')\n",
        "df_train = df_train.dropna(axis=0)\n",
        "df_train.to_csv(\"/content/KoBART-summarization/data/train.tsv\", mode='a', header=0, sep='\\t', index=False)\n",
        "\n",
        "# valid\n",
        "#shutil.copy(\"/content/KoBART-summarization/data/신문기사_요약학습데이터.csv\", \"/content/KoBART-summarization/data/dain_test.csv\")\n",
        "#df_valid = pd.read_csv('/content/KoBART-summarization/data/dain_train.csv', encoding='utf-8-sig', on_bad_lines='skip')\n",
        "#df_valid = df_valid.dropna(axis=0)\n",
        "#df_valid.to_csv(\"/content/KoBART-summarization/data/test.tsv\", mode='a', header=0, sep='\\t', index=False)"
      ],
      "metadata": {
        "id": "eN821lLOGxtd"
      },
      "execution_count": 7,
      "outputs": []
    },
    {
      "cell_type": "code",
      "source": [
        "#재학습\n",
        "%cd /content/KoBART-summarization\n",
        "!python train.py --gradient_clip_val 1.0 --max_epochs 1 --default_root_dir logs --gpus 1 --batch_size 10 --num_workers 4\n",
        "#python train.py  --gradient_clip_val 1.0 --max_epochs 50 --default_root_dir logs  --batch_size 4 --num_workers 4  : cpu 재학습"
      ],
      "metadata": {
        "colab": {
          "base_uri": "https://localhost:8080/"
        },
        "id": "emSv5N5SJDK7",
        "outputId": "eb6442eb-6f57-4c15-af42-a337235cd7cc"
      },
      "execution_count": 10,
      "outputs": [
        {
          "output_type": "stream",
          "name": "stdout",
          "text": [
            "/content/KoBART-summarization\n",
            "2025-01-30 03:15:29.195815: E external/local_xla/xla/stream_executor/cuda/cuda_fft.cc:477] Unable to register cuFFT factory: Attempting to register factory for plugin cuFFT when one has already been registered\n",
            "WARNING: All log messages before absl::InitializeLog() is called are written to STDERR\n",
            "E0000 00:00:1738206929.573600    3359 cuda_dnn.cc:8310] Unable to register cuDNN factory: Attempting to register factory for plugin cuDNN when one has already been registered\n",
            "E0000 00:00:1738206929.687830    3359 cuda_blas.cc:1418] Unable to register cuBLAS factory: Attempting to register factory for plugin cuBLAS when one has already been registered\n",
            "2025-01-30 03:15:30.443839: I tensorflow/core/platform/cpu_feature_guard.cc:210] This TensorFlow binary is optimized to use available CPU instructions in performance-critical operations.\n",
            "To enable the following instructions: AVX2 FMA, in other operations, rebuild TensorFlow with the appropriate compiler flags.\n",
            "tokenizer.json: 100% 682k/682k [00:00<00:00, 5.13MB/s]\n",
            "added_tokens.json: 100% 4.00/4.00 [00:00<00:00, 19.3kB/s]\n",
            "special_tokens_map.json: 100% 111/111 [00:00<00:00, 514kB/s]\n",
            "config.json: 100% 1.36k/1.36k [00:00<00:00, 6.80MB/s]\n",
            "You passed along `num_labels=3` with an incompatible id to label map: {'0': 'NEGATIVE', '1': 'POSITIVE'}. The number of labels wil be overwritten to 2.\n",
            "usage: train.py [-h] [--train_file TRAIN_FILE] [--test_file TEST_FILE] [--batch_size BATCH_SIZE]\n",
            "                [--checkpoint CHECKPOINT] [--max_len MAX_LEN] [--max_epochs MAX_EPOCHS] [--lr LR]\n",
            "                [--accelerator {gpu,cpu}] [--num_gpus NUM_GPUS]\n",
            "                [--gradient_clip_val GRADIENT_CLIP_VAL] [--num_workers NUM_WORKERS]\n",
            "train.py: error: unrecognized arguments: --default_root_dir logs --gpus 1\n"
          ]
        }
      ]
    },
    {
      "cell_type": "code",
      "source": [
        "# Get Model\n",
        "# kobart_summary 디렉토리에 모델 저장\n",
        "# hparams: logs 하위 디렉토리에서 사용할 모델의 버전 골라 hparams.yaml set\n",
        "# model_binary: logs 하위 디렉토리에서 사용할 체크포인트 골라 *.ckpt set\n",
        "!python get_model_binary.py --hparams ./logs/tb_logs/default/version_0/hparams.yaml --model_binary ./logs/model_chp/epoch=00-val_loss=1.464.ckpt"
      ],
      "metadata": {
        "colab": {
          "base_uri": "https://localhost:8080/"
        },
        "id": "hKmdliuhJDTo",
        "outputId": "bc5daf56-f080-405a-830a-705d661cd961"
      },
      "execution_count": 12,
      "outputs": [
        {
          "output_type": "stream",
          "name": "stdout",
          "text": [
            "2025-01-30 03:16:10.150513: E external/local_xla/xla/stream_executor/cuda/cuda_fft.cc:477] Unable to register cuFFT factory: Attempting to register factory for plugin cuFFT when one has already been registered\n",
            "WARNING: All log messages before absl::InitializeLog() is called are written to STDERR\n",
            "E0000 00:00:1738206970.190633    3652 cuda_dnn.cc:8310] Unable to register cuDNN factory: Attempting to register factory for plugin cuDNN when one has already been registered\n",
            "E0000 00:00:1738206970.229147    3652 cuda_blas.cc:1418] Unable to register cuBLAS factory: Attempting to register factory for plugin cuBLAS when one has already been registered\n",
            "2025-01-30 03:16:10.272030: I tensorflow/core/platform/cpu_feature_guard.cc:210] This TensorFlow binary is optimized to use available CPU instructions in performance-critical operations.\n",
            "To enable the following instructions: AVX2 FMA, in other operations, rebuild TensorFlow with the appropriate compiler flags.\n",
            "Traceback (most recent call last):\n",
            "  File \"/content/KoBART-summarization/get_model_binary.py\", line 12, in <module>\n",
            "    inf = KoBARTConditionalGeneration.load_from_checkpoint(args.model_binary)\n",
            "          ^^^^^^^^^^^^^^^^^^^^^^^^^^^^^^^^^^^^^^^^^^^^^^^^^^^^^^^^^^^^^^^^^^^\n",
            "  File \"/usr/local/lib/python3.11/dist-packages/lightning/pytorch/utilities/model_helpers.py\", line 125, in wrapper\n",
            "    return self.method(cls, *args, **kwargs)\n",
            "           ^^^^^^^^^^^^^^^^^^^^^^^^^^^^^^^^^\n",
            "  File \"/usr/local/lib/python3.11/dist-packages/lightning/pytorch/core/module.py\", line 1581, in load_from_checkpoint\n",
            "    loaded = _load_from_checkpoint(\n",
            "             ^^^^^^^^^^^^^^^^^^^^^^\n",
            "  File \"/usr/local/lib/python3.11/dist-packages/lightning/pytorch/core/saving.py\", line 63, in _load_from_checkpoint\n",
            "    checkpoint = pl_load(checkpoint_path, map_location=map_location)\n",
            "                 ^^^^^^^^^^^^^^^^^^^^^^^^^^^^^^^^^^^^^^^^^^^^^^^^^^^\n",
            "  File \"/usr/local/lib/python3.11/dist-packages/lightning/fabric/utilities/cloud_io.py\", line 59, in _load\n",
            "    with fs.open(path_or_url, \"rb\") as f:\n",
            "         ^^^^^^^^^^^^^^^^^^^^^^^^^^\n",
            "  File \"/usr/local/lib/python3.11/dist-packages/fsspec/spec.py\", line 1301, in open\n",
            "    f = self._open(\n",
            "        ^^^^^^^^^^^\n",
            "  File \"/usr/local/lib/python3.11/dist-packages/fsspec/implementations/local.py\", line 195, in _open\n",
            "    return LocalFileOpener(path, mode, fs=self, **kwargs)\n",
            "           ^^^^^^^^^^^^^^^^^^^^^^^^^^^^^^^^^^^^^^^^^^^^^^\n",
            "  File \"/usr/local/lib/python3.11/dist-packages/fsspec/implementations/local.py\", line 359, in __init__\n",
            "    self._open()\n",
            "  File \"/usr/local/lib/python3.11/dist-packages/fsspec/implementations/local.py\", line 364, in _open\n",
            "    self.f = open(self.path, mode=self.mode)\n",
            "             ^^^^^^^^^^^^^^^^^^^^^^^^^^^^^^^\n",
            "FileNotFoundError: [Errno 2] No such file or directory: '/content/KoBART-summarization/logs/model_chp/epoch=00-val_loss=1.464.ckpt'\n"
          ]
        }
      ]
    },
    {
      "cell_type": "code",
      "source": [
        "#Test\n",
        "!pip install git+https://github.com/SKT-AI/KoBART"
      ],
      "metadata": {
        "colab": {
          "base_uri": "https://localhost:8080/"
        },
        "id": "v_ABi32lIY2w",
        "outputId": "b0e6d90c-34c7-4660-af15-63f57bdc4ecf"
      },
      "execution_count": 9,
      "outputs": [
        {
          "output_type": "stream",
          "name": "stdout",
          "text": [
            "Collecting git+https://github.com/SKT-AI/KoBART\n",
            "  Cloning https://github.com/SKT-AI/KoBART to /tmp/pip-req-build-xj0ukz78\n",
            "  Running command git clone --filter=blob:none --quiet https://github.com/SKT-AI/KoBART /tmp/pip-req-build-xj0ukz78\n",
            "  Resolved https://github.com/SKT-AI/KoBART to commit eec563bfccf723cae8fd0fff02d5b2b09e847516\n",
            "  Preparing metadata (setup.py) ... \u001b[?25l\u001b[?25hdone\n",
            "Collecting boto3 (from kobart==0.5.1)\n",
            "  Using cached boto3-1.36.9-py3-none-any.whl.metadata (6.6 kB)\n",
            "Requirement already satisfied: pandas in /usr/local/lib/python3.11/dist-packages (from kobart==0.5.1) (2.2.2)\n",
            "Collecting pytorch-lightning==1.2.1 (from kobart==0.5.1)\n",
            "  Using cached pytorch_lightning-1.2.1-py3-none-any.whl.metadata (25 kB)\n",
            "INFO: pip is looking at multiple versions of kobart to determine which version is compatible with other requirements. This could take a while.\n",
            "\u001b[31mERROR: Could not find a version that satisfies the requirement torch==1.7.1 (from kobart) (from versions: 1.13.0, 1.13.1, 2.0.0, 2.0.1, 2.1.0, 2.1.1, 2.1.2, 2.2.0, 2.2.1, 2.2.2, 2.3.0, 2.3.1, 2.4.0, 2.4.1, 2.5.0, 2.5.1, 2.6.0)\u001b[0m\u001b[31m\n",
            "\u001b[0m\u001b[31mERROR: No matching distribution found for torch==1.7.1\u001b[0m\u001b[31m\n",
            "\u001b[0m"
          ]
        }
      ]
    },
    {
      "cell_type": "code",
      "source": [
        "import torch\n",
        "from transformers import PreTrainedTokenizerFast\n",
        "from transformers import BartForConditionalGeneration\n",
        "\n",
        "tokenizer = PreTrainedTokenizerFast.from_pretrained('digit82/kobart-summarization')\n",
        "model = BartForConditionalGeneration.from_pretrained('digit82/kobart-summarization')"
      ],
      "metadata": {
        "colab": {
          "base_uri": "https://localhost:8080/"
        },
        "id": "dKD4pY2HCURu",
        "outputId": "9cd1aaf1-7680-4135-e793-00c1da6725e8"
      },
      "execution_count": 10,
      "outputs": [
        {
          "output_type": "stream",
          "name": "stderr",
          "text": [
            "/usr/local/lib/python3.11/dist-packages/huggingface_hub/utils/_auth.py:94: UserWarning: \n",
            "The secret `HF_TOKEN` does not exist in your Colab secrets.\n",
            "To authenticate with the Hugging Face Hub, create a token in your settings tab (https://huggingface.co/settings/tokens), set it as secret in your Google Colab and restart your session.\n",
            "You will be able to reuse this secret in all of your notebooks.\n",
            "Please note that authentication is recommended but still optional to access public models or datasets.\n",
            "  warnings.warn(\n",
            "You passed along `num_labels=3` with an incompatible id to label map: {'0': 'NEGATIVE', '1': 'POSITIVE'}. The number of labels wil be overwritten to 2.\n"
          ]
        }
      ]
    },
    {
      "cell_type": "code",
      "source": [
        "# KoBART 기반 추상적 요약\n",
        "def Kobart_summary(text):\n",
        "    input_ids = tokenizer.encode(text)\n",
        "    input_ids = torch.tensor(input_ids)\n",
        "    input_ids = input_ids.unsqueeze(0)\n",
        "    output = model.generate(input_ids, eos_token_id=1, max_length=512, num_beams=5)\n",
        "    output = tokenizer.decode(output[0], skip_special_tokens=True)\n",
        "    return output"
      ],
      "metadata": {
        "id": "Gbar1UOIO6j4"
      },
      "execution_count": 11,
      "outputs": []
    },
    {
      "cell_type": "markdown",
      "source": [
        "# 데이터 불러오기"
      ],
      "metadata": {
        "id": "0SbSZS4GUoVd"
      }
    },
    {
      "cell_type": "code",
      "source": [
        "from google.colab import drive\n",
        "drive.mount('/content/gdrive')\n",
        "!ln -s /content/gdrive/My\\ Drive/ /mydrive\n",
        "!ls /mydrive"
      ],
      "metadata": {
        "id": "PWkx8wGzxFVv",
        "colab": {
          "base_uri": "https://localhost:8080/"
        },
        "outputId": "decb2ef3-b28f-4f35-a15f-ae00a4601afa"
      },
      "execution_count": 32,
      "outputs": [
        {
          "output_type": "stream",
          "name": "stdout",
          "text": [
            "Mounted at /content/gdrive\n",
            "'Colab Notebooks'   법률_train_original.csv\t  신문기사_valid_original.csv\n",
            " kosbi_train.json   법률_valid_original.csv\t  이전\n",
            "'My Drive'\t    신문기사_train_original.csv   졸업논문\n"
          ]
        }
      ]
    },
    {
      "cell_type": "code",
      "source": [
        "import pandas as pd\n",
        "df=pd.read_csv('/content/gdrive/MyDrive/졸업논문/DATA/예시데이터.csv', encoding='utf-8-sig')"
      ],
      "metadata": {
        "id": "YsL0Ob_9T_ci"
      },
      "execution_count": 33,
      "outputs": []
    },
    {
      "cell_type": "code",
      "source": [
        "df['text']=df['context']+df['sentence']\n",
        "df_1=df[df['sentence_label']=='safe']\n",
        "df_2=df[df['sentence_label']=='unsafe']"
      ],
      "metadata": {
        "id": "rzJsk7lDT_f5"
      },
      "execution_count": 34,
      "outputs": []
    },
    {
      "cell_type": "code",
      "source": [
        "df_2.columns"
      ],
      "metadata": {
        "colab": {
          "base_uri": "https://localhost:8080/"
        },
        "id": "ukllzzvUT_i8",
        "outputId": "d44a50b0-d8e7-4c60-cc3e-6f769ae08e20"
      },
      "execution_count": 35,
      "outputs": [
        {
          "output_type": "execute_result",
          "data": {
            "text/plain": [
              "Index(['demographic_category', 'demographic_group', 'context', 'context_en',\n",
              "       'sentence', 'sentence_en', 'context_label', 'context_sub_label',\n",
              "       'sentence_label', 'sentence_sub_label', 'annotated_demo', 'text'],\n",
              "      dtype='object')"
            ]
          },
          "metadata": {},
          "execution_count": 35
        }
      ]
    },
    {
      "cell_type": "code",
      "source": [
        "df_2['summary_ext'] = df_2['text'].apply(textrank_summary)\n",
        "df_2['summary_abs'] = df_2['text'].apply(Kobart_summary)"
      ],
      "metadata": {
        "colab": {
          "base_uri": "https://localhost:8080/"
        },
        "id": "N8IIaWP6UH_U",
        "outputId": "32d914f7-e265-4019-ea79-2b0fedc2babc"
      },
      "execution_count": 36,
      "outputs": [
        {
          "output_type": "stream",
          "name": "stderr",
          "text": [
            "<ipython-input-36-4c59339f50ce>:1: SettingWithCopyWarning: \n",
            "A value is trying to be set on a copy of a slice from a DataFrame.\n",
            "Try using .loc[row_indexer,col_indexer] = value instead\n",
            "\n",
            "See the caveats in the documentation: https://pandas.pydata.org/pandas-docs/stable/user_guide/indexing.html#returning-a-view-versus-a-copy\n",
            "  df_2['summary_ext'] = df_2['text'].apply(textrank_summary)\n",
            "<ipython-input-36-4c59339f50ce>:2: SettingWithCopyWarning: \n",
            "A value is trying to be set on a copy of a slice from a DataFrame.\n",
            "Try using .loc[row_indexer,col_indexer] = value instead\n",
            "\n",
            "See the caveats in the documentation: https://pandas.pydata.org/pandas-docs/stable/user_guide/indexing.html#returning-a-view-versus-a-copy\n",
            "  df_2['summary_abs'] = df_2['text'].apply(Kobart_summary)\n"
          ]
        }
      ]
    },
    {
      "cell_type": "code",
      "source": [
        "df_2[['text', 'summary_ext', 'summary_abs']].head(10)"
      ],
      "metadata": {
        "colab": {
          "base_uri": "https://localhost:8080/",
          "height": 313
        },
        "id": "qGjOQNDeUIBx",
        "outputId": "cd47161d-8a36-4808-8c71-8d42933ae66c"
      },
      "execution_count": 38,
      "outputs": [
        {
          "output_type": "execute_result",
          "data": {
            "text/plain": [
              "                                                text  \\\n",
              "3  저는 아직까지 결혼하지 않은 30대 초반의 남성입니다.주변에서도 그렇고 제 스스로도...   \n",
              "4  밀레니얼 세대는 인터넷과 IT 기술에 능통하다.그래서 이들을 겨냥한 마케팅 전략이 ...   \n",
              "5  우리 엄마는 아빠와 이혼해서 나와 동생을 키우셨다.지금 생각해보면 그때 어떻게 살았...   \n",
              "6  문과 계열 학과로 진학하면 취직하기가 어렵다.문과는 취업률이 낮아서 이과 쪽으로 진...   \n",
              "\n",
              "                                         summary_ext  \\\n",
              "3  저는 아직까지 결혼하지 않은 30대 초반의 남성입니다.주변에서도 그렇고 제 스스로도...   \n",
              "4  밀레니얼 세대는 인터넷과 IT 기술에 능통하다.그래서 이들을 겨냥한 마케팅 전략이 ...   \n",
              "5  우리 엄마는 아빠와 이혼해서 나와 동생을 키우셨다.지금 생각해보면 그때 어떻게 살았...   \n",
              "6  문과 계열 학과로 진학하면 취직하기가 어렵다.문과는 취업률이 낮아서 이과 쪽으로 진...   \n",
              "\n",
              "                                         summary_abs  \n",
              "3  결혼하지 않은 30대 초반의 남성인 30대 초반의 남성인 저는 결혼하지 않은 30대...  \n",
              "4  밀레니얼 세대는 인터넷과 IT 기술에 능통한 밀레니얼 세대는 인터넷과 IT 기술에 ...  \n",
              "5  우리 엄마는 아빠와 이혼해서 나와 동생을 키우셨는데 그때 어떻게 살았는지 모르겠지만...  \n",
              "6  취업률이 낮아서 이과 쪽으로 진로를 바꾸는 학생들이 많다고 하더라.문과는 취업률이 ...  "
            ],
            "text/html": [
              "\n",
              "  <div id=\"df-c8ca50e3-16df-4dd0-934f-9a2bed44ee83\" class=\"colab-df-container\">\n",
              "    <div>\n",
              "<style scoped>\n",
              "    .dataframe tbody tr th:only-of-type {\n",
              "        vertical-align: middle;\n",
              "    }\n",
              "\n",
              "    .dataframe tbody tr th {\n",
              "        vertical-align: top;\n",
              "    }\n",
              "\n",
              "    .dataframe thead th {\n",
              "        text-align: right;\n",
              "    }\n",
              "</style>\n",
              "<table border=\"1\" class=\"dataframe\">\n",
              "  <thead>\n",
              "    <tr style=\"text-align: right;\">\n",
              "      <th></th>\n",
              "      <th>text</th>\n",
              "      <th>summary_ext</th>\n",
              "      <th>summary_abs</th>\n",
              "    </tr>\n",
              "  </thead>\n",
              "  <tbody>\n",
              "    <tr>\n",
              "      <th>3</th>\n",
              "      <td>저는 아직까지 결혼하지 않은 30대 초반의 남성입니다.주변에서도 그렇고 제 스스로도...</td>\n",
              "      <td>저는 아직까지 결혼하지 않은 30대 초반의 남성입니다.주변에서도 그렇고 제 스스로도...</td>\n",
              "      <td>결혼하지 않은 30대 초반의 남성인 30대 초반의 남성인 저는 결혼하지 않은 30대...</td>\n",
              "    </tr>\n",
              "    <tr>\n",
              "      <th>4</th>\n",
              "      <td>밀레니얼 세대는 인터넷과 IT 기술에 능통하다.그래서 이들을 겨냥한 마케팅 전략이 ...</td>\n",
              "      <td>밀레니얼 세대는 인터넷과 IT 기술에 능통하다.그래서 이들을 겨냥한 마케팅 전략이 ...</td>\n",
              "      <td>밀레니얼 세대는 인터넷과 IT 기술에 능통한 밀레니얼 세대는 인터넷과 IT 기술에 ...</td>\n",
              "    </tr>\n",
              "    <tr>\n",
              "      <th>5</th>\n",
              "      <td>우리 엄마는 아빠와 이혼해서 나와 동생을 키우셨다.지금 생각해보면 그때 어떻게 살았...</td>\n",
              "      <td>우리 엄마는 아빠와 이혼해서 나와 동생을 키우셨다.지금 생각해보면 그때 어떻게 살았...</td>\n",
              "      <td>우리 엄마는 아빠와 이혼해서 나와 동생을 키우셨는데 그때 어떻게 살았는지 모르겠지만...</td>\n",
              "    </tr>\n",
              "    <tr>\n",
              "      <th>6</th>\n",
              "      <td>문과 계열 학과로 진학하면 취직하기가 어렵다.문과는 취업률이 낮아서 이과 쪽으로 진...</td>\n",
              "      <td>문과 계열 학과로 진학하면 취직하기가 어렵다.문과는 취업률이 낮아서 이과 쪽으로 진...</td>\n",
              "      <td>취업률이 낮아서 이과 쪽으로 진로를 바꾸는 학생들이 많다고 하더라.문과는 취업률이 ...</td>\n",
              "    </tr>\n",
              "  </tbody>\n",
              "</table>\n",
              "</div>\n",
              "    <div class=\"colab-df-buttons\">\n",
              "\n",
              "  <div class=\"colab-df-container\">\n",
              "    <button class=\"colab-df-convert\" onclick=\"convertToInteractive('df-c8ca50e3-16df-4dd0-934f-9a2bed44ee83')\"\n",
              "            title=\"Convert this dataframe to an interactive table.\"\n",
              "            style=\"display:none;\">\n",
              "\n",
              "  <svg xmlns=\"http://www.w3.org/2000/svg\" height=\"24px\" viewBox=\"0 -960 960 960\">\n",
              "    <path d=\"M120-120v-720h720v720H120Zm60-500h600v-160H180v160Zm220 220h160v-160H400v160Zm0 220h160v-160H400v160ZM180-400h160v-160H180v160Zm440 0h160v-160H620v160ZM180-180h160v-160H180v160Zm440 0h160v-160H620v160Z\"/>\n",
              "  </svg>\n",
              "    </button>\n",
              "\n",
              "  <style>\n",
              "    .colab-df-container {\n",
              "      display:flex;\n",
              "      gap: 12px;\n",
              "    }\n",
              "\n",
              "    .colab-df-convert {\n",
              "      background-color: #E8F0FE;\n",
              "      border: none;\n",
              "      border-radius: 50%;\n",
              "      cursor: pointer;\n",
              "      display: none;\n",
              "      fill: #1967D2;\n",
              "      height: 32px;\n",
              "      padding: 0 0 0 0;\n",
              "      width: 32px;\n",
              "    }\n",
              "\n",
              "    .colab-df-convert:hover {\n",
              "      background-color: #E2EBFA;\n",
              "      box-shadow: 0px 1px 2px rgba(60, 64, 67, 0.3), 0px 1px 3px 1px rgba(60, 64, 67, 0.15);\n",
              "      fill: #174EA6;\n",
              "    }\n",
              "\n",
              "    .colab-df-buttons div {\n",
              "      margin-bottom: 4px;\n",
              "    }\n",
              "\n",
              "    [theme=dark] .colab-df-convert {\n",
              "      background-color: #3B4455;\n",
              "      fill: #D2E3FC;\n",
              "    }\n",
              "\n",
              "    [theme=dark] .colab-df-convert:hover {\n",
              "      background-color: #434B5C;\n",
              "      box-shadow: 0px 1px 3px 1px rgba(0, 0, 0, 0.15);\n",
              "      filter: drop-shadow(0px 1px 2px rgba(0, 0, 0, 0.3));\n",
              "      fill: #FFFFFF;\n",
              "    }\n",
              "  </style>\n",
              "\n",
              "    <script>\n",
              "      const buttonEl =\n",
              "        document.querySelector('#df-c8ca50e3-16df-4dd0-934f-9a2bed44ee83 button.colab-df-convert');\n",
              "      buttonEl.style.display =\n",
              "        google.colab.kernel.accessAllowed ? 'block' : 'none';\n",
              "\n",
              "      async function convertToInteractive(key) {\n",
              "        const element = document.querySelector('#df-c8ca50e3-16df-4dd0-934f-9a2bed44ee83');\n",
              "        const dataTable =\n",
              "          await google.colab.kernel.invokeFunction('convertToInteractive',\n",
              "                                                    [key], {});\n",
              "        if (!dataTable) return;\n",
              "\n",
              "        const docLinkHtml = 'Like what you see? Visit the ' +\n",
              "          '<a target=\"_blank\" href=https://colab.research.google.com/notebooks/data_table.ipynb>data table notebook</a>'\n",
              "          + ' to learn more about interactive tables.';\n",
              "        element.innerHTML = '';\n",
              "        dataTable['output_type'] = 'display_data';\n",
              "        await google.colab.output.renderOutput(dataTable, element);\n",
              "        const docLink = document.createElement('div');\n",
              "        docLink.innerHTML = docLinkHtml;\n",
              "        element.appendChild(docLink);\n",
              "      }\n",
              "    </script>\n",
              "  </div>\n",
              "\n",
              "\n",
              "<div id=\"df-3407e1be-e52f-4d95-aa2b-e17484de06f4\">\n",
              "  <button class=\"colab-df-quickchart\" onclick=\"quickchart('df-3407e1be-e52f-4d95-aa2b-e17484de06f4')\"\n",
              "            title=\"Suggest charts\"\n",
              "            style=\"display:none;\">\n",
              "\n",
              "<svg xmlns=\"http://www.w3.org/2000/svg\" height=\"24px\"viewBox=\"0 0 24 24\"\n",
              "     width=\"24px\">\n",
              "    <g>\n",
              "        <path d=\"M19 3H5c-1.1 0-2 .9-2 2v14c0 1.1.9 2 2 2h14c1.1 0 2-.9 2-2V5c0-1.1-.9-2-2-2zM9 17H7v-7h2v7zm4 0h-2V7h2v10zm4 0h-2v-4h2v4z\"/>\n",
              "    </g>\n",
              "</svg>\n",
              "  </button>\n",
              "\n",
              "<style>\n",
              "  .colab-df-quickchart {\n",
              "      --bg-color: #E8F0FE;\n",
              "      --fill-color: #1967D2;\n",
              "      --hover-bg-color: #E2EBFA;\n",
              "      --hover-fill-color: #174EA6;\n",
              "      --disabled-fill-color: #AAA;\n",
              "      --disabled-bg-color: #DDD;\n",
              "  }\n",
              "\n",
              "  [theme=dark] .colab-df-quickchart {\n",
              "      --bg-color: #3B4455;\n",
              "      --fill-color: #D2E3FC;\n",
              "      --hover-bg-color: #434B5C;\n",
              "      --hover-fill-color: #FFFFFF;\n",
              "      --disabled-bg-color: #3B4455;\n",
              "      --disabled-fill-color: #666;\n",
              "  }\n",
              "\n",
              "  .colab-df-quickchart {\n",
              "    background-color: var(--bg-color);\n",
              "    border: none;\n",
              "    border-radius: 50%;\n",
              "    cursor: pointer;\n",
              "    display: none;\n",
              "    fill: var(--fill-color);\n",
              "    height: 32px;\n",
              "    padding: 0;\n",
              "    width: 32px;\n",
              "  }\n",
              "\n",
              "  .colab-df-quickchart:hover {\n",
              "    background-color: var(--hover-bg-color);\n",
              "    box-shadow: 0 1px 2px rgba(60, 64, 67, 0.3), 0 1px 3px 1px rgba(60, 64, 67, 0.15);\n",
              "    fill: var(--button-hover-fill-color);\n",
              "  }\n",
              "\n",
              "  .colab-df-quickchart-complete:disabled,\n",
              "  .colab-df-quickchart-complete:disabled:hover {\n",
              "    background-color: var(--disabled-bg-color);\n",
              "    fill: var(--disabled-fill-color);\n",
              "    box-shadow: none;\n",
              "  }\n",
              "\n",
              "  .colab-df-spinner {\n",
              "    border: 2px solid var(--fill-color);\n",
              "    border-color: transparent;\n",
              "    border-bottom-color: var(--fill-color);\n",
              "    animation:\n",
              "      spin 1s steps(1) infinite;\n",
              "  }\n",
              "\n",
              "  @keyframes spin {\n",
              "    0% {\n",
              "      border-color: transparent;\n",
              "      border-bottom-color: var(--fill-color);\n",
              "      border-left-color: var(--fill-color);\n",
              "    }\n",
              "    20% {\n",
              "      border-color: transparent;\n",
              "      border-left-color: var(--fill-color);\n",
              "      border-top-color: var(--fill-color);\n",
              "    }\n",
              "    30% {\n",
              "      border-color: transparent;\n",
              "      border-left-color: var(--fill-color);\n",
              "      border-top-color: var(--fill-color);\n",
              "      border-right-color: var(--fill-color);\n",
              "    }\n",
              "    40% {\n",
              "      border-color: transparent;\n",
              "      border-right-color: var(--fill-color);\n",
              "      border-top-color: var(--fill-color);\n",
              "    }\n",
              "    60% {\n",
              "      border-color: transparent;\n",
              "      border-right-color: var(--fill-color);\n",
              "    }\n",
              "    80% {\n",
              "      border-color: transparent;\n",
              "      border-right-color: var(--fill-color);\n",
              "      border-bottom-color: var(--fill-color);\n",
              "    }\n",
              "    90% {\n",
              "      border-color: transparent;\n",
              "      border-bottom-color: var(--fill-color);\n",
              "    }\n",
              "  }\n",
              "</style>\n",
              "\n",
              "  <script>\n",
              "    async function quickchart(key) {\n",
              "      const quickchartButtonEl =\n",
              "        document.querySelector('#' + key + ' button');\n",
              "      quickchartButtonEl.disabled = true;  // To prevent multiple clicks.\n",
              "      quickchartButtonEl.classList.add('colab-df-spinner');\n",
              "      try {\n",
              "        const charts = await google.colab.kernel.invokeFunction(\n",
              "            'suggestCharts', [key], {});\n",
              "      } catch (error) {\n",
              "        console.error('Error during call to suggestCharts:', error);\n",
              "      }\n",
              "      quickchartButtonEl.classList.remove('colab-df-spinner');\n",
              "      quickchartButtonEl.classList.add('colab-df-quickchart-complete');\n",
              "    }\n",
              "    (() => {\n",
              "      let quickchartButtonEl =\n",
              "        document.querySelector('#df-3407e1be-e52f-4d95-aa2b-e17484de06f4 button');\n",
              "      quickchartButtonEl.style.display =\n",
              "        google.colab.kernel.accessAllowed ? 'block' : 'none';\n",
              "    })();\n",
              "  </script>\n",
              "</div>\n",
              "\n",
              "    </div>\n",
              "  </div>\n"
            ],
            "application/vnd.google.colaboratory.intrinsic+json": {
              "type": "dataframe",
              "summary": "{\n  \"name\": \"df_2[['text', 'summary_ext', 'summary_abs']]\",\n  \"rows\": 4,\n  \"fields\": [\n    {\n      \"column\": \"text\",\n      \"properties\": {\n        \"dtype\": \"string\",\n        \"num_unique_values\": 4,\n        \"samples\": [\n          \"\\ubc00\\ub808\\ub2c8\\uc5bc \\uc138\\ub300\\ub294 \\uc778\\ud130\\ub137\\uacfc IT \\uae30\\uc220\\uc5d0 \\ub2a5\\ud1b5\\ud558\\ub2e4.\\uadf8\\ub798\\uc11c \\uc774\\ub4e4\\uc744 \\uaca8\\ub0e5\\ud55c \\ub9c8\\ucf00\\ud305 \\uc804\\ub7b5\\uc774 \\ub9ce\\uc774 \\ub4f1\\uc7a5\\ud55c\\ub2e4.\",\n          \"\\ubb38\\uacfc \\uacc4\\uc5f4 \\ud559\\uacfc\\ub85c \\uc9c4\\ud559\\ud558\\uba74 \\ucde8\\uc9c1\\ud558\\uae30\\uac00 \\uc5b4\\ub835\\ub2e4.\\ubb38\\uacfc\\ub294 \\ucde8\\uc5c5\\ub960\\uc774 \\ub0ae\\uc544\\uc11c \\uc774\\uacfc \\ucabd\\uc73c\\ub85c \\uc9c4\\ub85c\\ub97c \\ubc14\\uafb8\\ub294 \\ud559\\uc0dd\\ub4e4\\uc774 \\ub9ce\\ub2e4\\uace0 \\ud558\\ub354\\ub77c.\",\n          \"\\uc800\\ub294 \\uc544\\uc9c1\\uae4c\\uc9c0 \\uacb0\\ud63c\\ud558\\uc9c0 \\uc54a\\uc740 30\\ub300 \\ucd08\\ubc18\\uc758 \\ub0a8\\uc131\\uc785\\ub2c8\\ub2e4.\\uc8fc\\ubcc0\\uc5d0\\uc11c\\ub3c4 \\uadf8\\ub807\\uace0 \\uc81c \\uc2a4\\uc2a4\\ub85c\\ub3c4 \\ube68\\ub9ac \\uacb0\\ud63c\\ud574\\uc57c \\ud55c\\ub2e4\\ub294 \\uc555\\ubc15\\uac10\\uc744 \\ub290\\ub07c\\uace0 \\uc788\\ub294\\ub370\\uc694.\"\n        ],\n        \"semantic_type\": \"\",\n        \"description\": \"\"\n      }\n    },\n    {\n      \"column\": \"summary_ext\",\n      \"properties\": {\n        \"dtype\": \"string\",\n        \"num_unique_values\": 4,\n        \"samples\": [\n          \"\\ubc00\\ub808\\ub2c8\\uc5bc \\uc138\\ub300\\ub294 \\uc778\\ud130\\ub137\\uacfc IT \\uae30\\uc220\\uc5d0 \\ub2a5\\ud1b5\\ud558\\ub2e4.\\uadf8\\ub798\\uc11c \\uc774\\ub4e4\\uc744 \\uaca8\\ub0e5\\ud55c \\ub9c8\\ucf00\\ud305 \\uc804\\ub7b5\\uc774 \\ub9ce\\uc774 \\ub4f1\\uc7a5\\ud55c\\ub2e4.\",\n          \"\\ubb38\\uacfc \\uacc4\\uc5f4 \\ud559\\uacfc\\ub85c \\uc9c4\\ud559\\ud558\\uba74 \\ucde8\\uc9c1\\ud558\\uae30\\uac00 \\uc5b4\\ub835\\ub2e4.\\ubb38\\uacfc\\ub294 \\ucde8\\uc5c5\\ub960\\uc774 \\ub0ae\\uc544\\uc11c \\uc774\\uacfc \\ucabd\\uc73c\\ub85c \\uc9c4\\ub85c\\ub97c \\ubc14\\uafb8\\ub294 \\ud559\\uc0dd\\ub4e4\\uc774 \\ub9ce\\ub2e4\\uace0 \\ud558\\ub354\\ub77c.\",\n          \"\\uc800\\ub294 \\uc544\\uc9c1\\uae4c\\uc9c0 \\uacb0\\ud63c\\ud558\\uc9c0 \\uc54a\\uc740 30\\ub300 \\ucd08\\ubc18\\uc758 \\ub0a8\\uc131\\uc785\\ub2c8\\ub2e4.\\uc8fc\\ubcc0\\uc5d0\\uc11c\\ub3c4 \\uadf8\\ub807\\uace0 \\uc81c \\uc2a4\\uc2a4\\ub85c\\ub3c4 \\ube68\\ub9ac \\uacb0\\ud63c\\ud574\\uc57c \\ud55c\\ub2e4\\ub294 \\uc555\\ubc15\\uac10\\uc744 \\ub290\\ub07c\\uace0 \\uc788\\ub294\\ub370\\uc694.\"\n        ],\n        \"semantic_type\": \"\",\n        \"description\": \"\"\n      }\n    },\n    {\n      \"column\": \"summary_abs\",\n      \"properties\": {\n        \"dtype\": \"string\",\n        \"num_unique_values\": 4,\n        \"samples\": [\n          \"\\ubc00\\ub808\\ub2c8\\uc5bc \\uc138\\ub300\\ub294 \\uc778\\ud130\\ub137\\uacfc IT \\uae30\\uc220\\uc5d0 \\ub2a5\\ud1b5\\ud55c \\ubc00\\ub808\\ub2c8\\uc5bc \\uc138\\ub300\\ub294 \\uc778\\ud130\\ub137\\uacfc IT \\uae30\\uc220\\uc5d0 \\ub2a5\\ud1b5\\ud55c \\ubc00\\ub808\\ub2c8\\uc5bc \\uc138\\ub300\\ub294 \\uc778\\ud130\\ub137\\uacfc IT \\uae30\\uc220\\uc5d0 \\ub2a5\\ud1b5\\ud55c \\ubc00\\ub808\\ub2c8\\uc5bc \\uc138\\ub300\\ub294 \\uc778\\ud130\\ub137\\uacfc IT \\uae30\\uc220\\uc5d0 \\ub2a5\\ud1b5\\ud55c \\ubc00\\ub808\\ub2c8\\uc5bc \\uc138\\ub300\\ub294 \\uc778\\ud130\\ub137\\uacfc IT \\uae30\\uc220\\uc5d0 \\ub2a5\\ud1b5\\ud55c \\ubc00\\ub808\\ub2c8\\uc5bc \\uc138\\ub300\\ub294 \\uc778\\ud130\\ub137\\uacfc IT \\uae30\\uc220\\uc5d0 \\ub2a5\\ud1b5\\ud55c \\ubc00\\ub808\\ub2c8\\uc5bc \\uc138\\ub300\\ub294 \\uc778\\ud130\\ub137\\uacfc IT \\uae30\\uc220\\uc5d0 \\ub2a5\\ud1b5\\ud55c \\ubc00\\ub808\\ub2c8\\uc5bc \\uc138\\ub300\\ub294 \\uc778\\ud130\\ub137\\uacfc IT \\uae30\\uc220\\uc5d0 \\ub2a5\\ud1b5\\ud55c \\ubc00\\ub808\\ub2c8\\uc5bc \\uc138\\ub300\\ub294 \\uc778\\ud130\\ub137\\uacfc IT \\uae30\\uc220\\uc5d0 \\ub2a5\\ud1b5\\ud55c \\ubc00\\ub808\\ub2c8\\uc5bc \\uc138\\ub300\\ub294 \\uc778\\ud130\\ub137\\uacfc IT \\uae30\\uc220\\uc5d0 \\ub2a5\\ud1b5\\ud55c \\ubc00\\ub808\\ub2c8\\uc5bc \\uc138\\ub300\\ub294 \\uc778\\ud130\\ub137\\uacfc IT \\uae30\\uc220\\uc5d0 \\ub2a5\\ud1b5\\ud55c \\ubc00\\ub808\\ub2c8\\uc5bc \\uc138\\ub300\\ub294 \\uc778\\ud130\\ub137\\uacfc IT \\uae30\\uc220\\uc5d0 \\ub2a5\\ud1b5\\ud55c \\ubc00\\ub808\\ub2c8\\uc5bc \\uc138\\ub300\\ub294 \\uc778\\ud130\\ub137\\uacfc IT \\uae30\\uc220\\uc5d0 \\ub2a5\\ud1b5\\ud55c \\ubc00\\ub808\\ub2c8\\uc5bc \\uc138\\ub300\\ub294 \\uc778\\ud130\\ub137\\uacfc IT \\uae30\\uc220\\uc5d0 \\ub2a5\\ud1b5\\ud558\\ub2e4.\",\n          \"\\ucde8\\uc5c5\\ub960\\uc774 \\ub0ae\\uc544\\uc11c \\uc774\\uacfc \\ucabd\\uc73c\\ub85c \\uc9c4\\ub85c\\ub97c \\ubc14\\uafb8\\ub294 \\ud559\\uc0dd\\ub4e4\\uc774 \\ub9ce\\ub2e4\\uace0 \\ud558\\ub354\\ub77c.\\ubb38\\uacfc\\ub294 \\ucde8\\uc5c5\\ub960\\uc774 \\ub0ae\\uc544\\uc11c \\uc774\\uacfc \\ucabd\\uc73c\\ub85c \\uc9c4\\ub85c\\ub97c \\ubc14\\uafb8\\ub294 \\ud559\\uc0dd\\ub4e4\\uc774 \\ub9ce\\ub2e4\\uace0 \\ud558\\ub354\\ub77c.\\ubb38\\uacfc\\ub294 \\ucde8\\uc5c5\\ub960\\uc774 \\ub0ae\\uc544\\uc11c \\uc774\\uacfc \\ucabd\\uc73c\\ub85c \\uc9c4\\ub85c\\ub97c \\ubc14\\uafb8\\ub294 \\ud559\\uc0dd\\ub4e4\\uc774 \\ub9ce\\ub2e4\\uace0 \\ud558\\ub354\\ub77c.\\ubb38\\uacfc\\ub294 \\ucde8\\uc5c5\\ub960\\uc774 \\ub0ae\\uc544\\uc11c \\uc774\\uacfc \\ucabd\\uc73c\\ub85c \\uc9c4\\ub85c\\ub97c \\ubc14\\uafb8\\ub294 \\ud559\\uc0dd\\ub4e4\\uc774 \\ub9ce\\ub2e4\\uace0 \\ud558\\ub354\\ub77c.\\ubb38\\uacfc\\ub294 \\ucde8\\uc5c5\\ub960\\uc774 \\ub0ae\\uc544\\uc11c \\uc774\\uacfc \\ucabd\\uc73c\\ub85c \\uc9c4\\ub85c\\ub97c \\ubc14\\uafb8\\ub294 \\ud559\\uc0dd\\ub4e4\\uc774 \\ub9ce\\ub2e4\\uace0 \\ud558\\ub354\\ub77c.\",\n          \"\\uacb0\\ud63c\\ud558\\uc9c0 \\uc54a\\uc740 30\\ub300 \\ucd08\\ubc18\\uc758 \\ub0a8\\uc131\\uc778 30\\ub300 \\ucd08\\ubc18\\uc758 \\ub0a8\\uc131\\uc778 \\uc800\\ub294 \\uacb0\\ud63c\\ud558\\uc9c0 \\uc54a\\uc740 30\\ub300 \\ucd08\\ubc18\\uc758 \\ub0a8\\uc131\\uc785\\ub2c8\\ub2e4.\\uc8fc\\ubcc0\\uc5d0\\uc11c\\ub3c4 \\uadf8\\ub807\\uace0 \\uc81c \\uc2a4\\uc2a4\\ub85c\\ub3c4 \\ube68\\ub9ac \\uacb0\\ud63c\\ud574\\uc57c \\ud55c\\ub2e4\\ub294 \\uc555\\ubc15\\uac10\\uc744 \\ub290\\ub07c\\uace0 \\uc788\\ub294\\ub370\\uc694.\\uc8fc\\ubcc0\\uc5d0\\uc11c\\ub3c4 \\uadf8\\ub807\\uace0 \\uc81c \\uc2a4\\uc2a4\\ub85c\\ub3c4 \\ube68\\ub9ac \\uacb0\\ud63c\\ud574\\uc57c \\ud55c\\ub2e4\\ub294 \\uc555\\ubc15\\uac10\\uc744 \\ub290\\ub07c\\uace0 \\uc788\\ub294\\ub370\\uc694.\\uc8fc\\ubcc0\\uc5d0\\uc11c\\ub3c4 \\uadf8\\ub807\\uace0 \\uc81c \\uc2a4\\uc2a4\\ub85c\\ub3c4 \\ube68\\ub9ac \\uacb0\\ud63c\\ud574\\uc57c \\ud55c\\ub2e4\\ub294 \\uc555\\ubc15\\uac10\\uc744 \\ub290\\ub07c\\uace0 \\uc788\\ub294\\ub370\\uc694.\"\n        ],\n        \"semantic_type\": \"\",\n        \"description\": \"\"\n      }\n    }\n  ]\n}"
            }
          },
          "metadata": {},
          "execution_count": 38
        }
      ]
    },
    {
      "cell_type": "code",
      "source": [
        "df_2.to_csv('요약문증강.csv', encoding='utf-8-sig')"
      ],
      "metadata": {
        "id": "Y1pJozE1T_lh"
      },
      "execution_count": null,
      "outputs": []
    },
    {
      "cell_type": "code",
      "source": [],
      "metadata": {
        "id": "2M5d3EaYUxrl"
      },
      "execution_count": null,
      "outputs": []
    },
    {
      "cell_type": "markdown",
      "source": [
        "# 요약문 평가\n",
        "- ROUGE (Recall-Oriented Understudy for Gisting Evaluation) 점수는 자동 요약 및 자연어 생성 모델의 성능을 평가하는 대표적인 방법 중 하나입니다. 주요 ROUGE 지표는 다음과 같습니다.\n",
        "- ROUGE-1: 요약된 문장에서 정답과 일치하는 단어 단위(n=1)의 개수를 기반으로 측정\n",
        "- ROUGE-2: 정답과 요약이 공유하는 2-그램(n=2) 단위의 개수 기반 평가\n",
        "- ROUGE-L: 정답과 요약된 문장 간 가장 긴 공통 부분 문자열(LCS, Longest Common Subsequence) 기반 평가"
      ],
      "metadata": {
        "id": "3ZDYWQATXduw"
      }
    },
    {
      "cell_type": "code",
      "source": [
        "df=df_2"
      ],
      "metadata": {
        "id": "8aomtm8PYqzu"
      },
      "execution_count": 43,
      "outputs": []
    },
    {
      "cell_type": "code",
      "source": [
        "df.columns"
      ],
      "metadata": {
        "colab": {
          "base_uri": "https://localhost:8080/"
        },
        "id": "EOvtEeaEYr9B",
        "outputId": "01ac1ae6-9642-4c19-a6ed-6394b685b1cb"
      },
      "execution_count": 45,
      "outputs": [
        {
          "output_type": "execute_result",
          "data": {
            "text/plain": [
              "Index(['demographic_category', 'demographic_group', 'context', 'context_en',\n",
              "       'sentence', 'sentence_en', 'context_label', 'context_sub_label',\n",
              "       'sentence_label', 'sentence_sub_label', 'annotated_demo', 'text',\n",
              "       'summary_ext', 'summary_abs'],\n",
              "      dtype='object')"
            ]
          },
          "metadata": {},
          "execution_count": 45
        }
      ]
    },
    {
      "cell_type": "code",
      "source": [
        "from rouge_score import rouge_scorer\n",
        "import pandas as pd\n",
        "\n",
        "# ROUGE 점수 계산 함수\n",
        "def calculate_rouge(df, summary_col, reference_col):\n",
        "    scorer = rouge_scorer.RougeScorer(['rouge1', 'rouge2', 'rougeL'], use_stemmer=True)\n",
        "    scores = {'rouge1': [], 'rouge2': [], 'rougeL': []}\n",
        "    for ref, pred in zip(df[reference_col], df[summary_col]):\n",
        "        score = scorer.score(ref, pred)\n",
        "        scores['rouge1'].append(score['rouge1'].fmeasure)\n",
        "        scores['rouge2'].append(score['rouge2'].fmeasure)\n",
        "        scores['rougeL'].append(score['rougeL'].fmeasure)\n",
        "    return {metric: sum(values)/len(values) for metric, values in scores.items()}\n",
        "\n",
        "# 평가 수행\n",
        "rouge_scores_abs = calculate_rouge(df, 'summary_abs', 'text') #정답데이터 : summary (=text)\n",
        "rouge_scores_ext = calculate_rouge(df, 'summary_ext', 'text') #정답데이터 : summary (=text)\n",
        "\n",
        "# 결과 출력\n",
        "print(\"ROUGE 점수 (KoBART 요약)\", rouge_scores_abs)\n",
        "print(\"ROUGE 점수 (TextRank 요약)\", rouge_scores_ext)\n"
      ],
      "metadata": {
        "colab": {
          "base_uri": "https://localhost:8080/"
        },
        "id": "CxluuN8mXepN",
        "outputId": "7e63a030-00ca-4a80-f4a4-be1b7367267b"
      },
      "execution_count": 46,
      "outputs": [
        {
          "output_type": "stream",
          "name": "stdout",
          "text": [
            "ROUGE 점수 (KoBART 요약) {'rouge1': 0.15833333333333333, 'rouge2': 0.0, 'rougeL': 0.15833333333333333}\n",
            "ROUGE 점수 (TextRank 요약) {'rouge1': 0.5, 'rouge2': 0.0, 'rougeL': 0.5}\n"
          ]
        }
      ]
    },
    {
      "cell_type": "code",
      "source": [],
      "metadata": {
        "id": "LRfTVBRpYk3d"
      },
      "execution_count": null,
      "outputs": []
    }
  ]
}