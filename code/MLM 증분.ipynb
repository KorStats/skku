{
  "nbformat": 4,
  "nbformat_minor": 0,
  "metadata": {
    "colab": {
      "provenance": [],
      "authorship_tag": "ABX9TyPhK0xHDxfHKa4AHbGCXICK",
      "include_colab_link": true
    },
    "kernelspec": {
      "name": "python3",
      "display_name": "Python 3"
    },
    "language_info": {
      "name": "python"
    }
  },
  "cells": [
    {
      "cell_type": "markdown",
      "metadata": {
        "id": "view-in-github",
        "colab_type": "text"
      },
      "source": [
        "<a href=\"https://colab.research.google.com/github/KorStats/skku/blob/main/code/MLM%20%EC%A6%9D%EB%B6%84.ipynb\" target=\"_parent\"><img src=\"https://colab.research.google.com/assets/colab-badge.svg\" alt=\"Open In Colab\"/></a>"
      ]
    },
    {
      "cell_type": "code",
      "execution_count": 1,
      "metadata": {
        "colab": {
          "base_uri": "https://localhost:8080/"
        },
        "id": "RKgX8AaH7fDU",
        "outputId": "adf51e72-a0c0-455e-bf1d-cf038b83bc88"
      },
      "outputs": [
        {
          "output_type": "stream",
          "name": "stdout",
          "text": [
            "Requirement already satisfied: transformers in /usr/local/lib/python3.11/dist-packages (4.48.2)\n",
            "Requirement already satisfied: torch in /usr/local/lib/python3.11/dist-packages (2.5.1+cu124)\n",
            "Requirement already satisfied: filelock in /usr/local/lib/python3.11/dist-packages (from transformers) (3.17.0)\n",
            "Requirement already satisfied: huggingface-hub<1.0,>=0.24.0 in /usr/local/lib/python3.11/dist-packages (from transformers) (0.28.1)\n",
            "Requirement already satisfied: numpy>=1.17 in /usr/local/lib/python3.11/dist-packages (from transformers) (1.26.4)\n",
            "Requirement already satisfied: packaging>=20.0 in /usr/local/lib/python3.11/dist-packages (from transformers) (24.2)\n",
            "Requirement already satisfied: pyyaml>=5.1 in /usr/local/lib/python3.11/dist-packages (from transformers) (6.0.2)\n",
            "Requirement already satisfied: regex!=2019.12.17 in /usr/local/lib/python3.11/dist-packages (from transformers) (2024.11.6)\n",
            "Requirement already satisfied: requests in /usr/local/lib/python3.11/dist-packages (from transformers) (2.32.3)\n",
            "Requirement already satisfied: tokenizers<0.22,>=0.21 in /usr/local/lib/python3.11/dist-packages (from transformers) (0.21.0)\n",
            "Requirement already satisfied: safetensors>=0.4.1 in /usr/local/lib/python3.11/dist-packages (from transformers) (0.5.2)\n",
            "Requirement already satisfied: tqdm>=4.27 in /usr/local/lib/python3.11/dist-packages (from transformers) (4.67.1)\n",
            "Requirement already satisfied: typing-extensions>=4.8.0 in /usr/local/lib/python3.11/dist-packages (from torch) (4.12.2)\n",
            "Requirement already satisfied: networkx in /usr/local/lib/python3.11/dist-packages (from torch) (3.4.2)\n",
            "Requirement already satisfied: jinja2 in /usr/local/lib/python3.11/dist-packages (from torch) (3.1.5)\n",
            "Requirement already satisfied: fsspec in /usr/local/lib/python3.11/dist-packages (from torch) (2024.10.0)\n",
            "Collecting nvidia-cuda-nvrtc-cu12==12.4.127 (from torch)\n",
            "  Downloading nvidia_cuda_nvrtc_cu12-12.4.127-py3-none-manylinux2014_x86_64.whl.metadata (1.5 kB)\n",
            "Collecting nvidia-cuda-runtime-cu12==12.4.127 (from torch)\n",
            "  Downloading nvidia_cuda_runtime_cu12-12.4.127-py3-none-manylinux2014_x86_64.whl.metadata (1.5 kB)\n",
            "Collecting nvidia-cuda-cupti-cu12==12.4.127 (from torch)\n",
            "  Downloading nvidia_cuda_cupti_cu12-12.4.127-py3-none-manylinux2014_x86_64.whl.metadata (1.6 kB)\n",
            "Collecting nvidia-cudnn-cu12==9.1.0.70 (from torch)\n",
            "  Downloading nvidia_cudnn_cu12-9.1.0.70-py3-none-manylinux2014_x86_64.whl.metadata (1.6 kB)\n",
            "Collecting nvidia-cublas-cu12==12.4.5.8 (from torch)\n",
            "  Downloading nvidia_cublas_cu12-12.4.5.8-py3-none-manylinux2014_x86_64.whl.metadata (1.5 kB)\n",
            "Collecting nvidia-cufft-cu12==11.2.1.3 (from torch)\n",
            "  Downloading nvidia_cufft_cu12-11.2.1.3-py3-none-manylinux2014_x86_64.whl.metadata (1.5 kB)\n",
            "Collecting nvidia-curand-cu12==10.3.5.147 (from torch)\n",
            "  Downloading nvidia_curand_cu12-10.3.5.147-py3-none-manylinux2014_x86_64.whl.metadata (1.5 kB)\n",
            "Collecting nvidia-cusolver-cu12==11.6.1.9 (from torch)\n",
            "  Downloading nvidia_cusolver_cu12-11.6.1.9-py3-none-manylinux2014_x86_64.whl.metadata (1.6 kB)\n",
            "Collecting nvidia-cusparse-cu12==12.3.1.170 (from torch)\n",
            "  Downloading nvidia_cusparse_cu12-12.3.1.170-py3-none-manylinux2014_x86_64.whl.metadata (1.6 kB)\n",
            "Requirement already satisfied: nvidia-nccl-cu12==2.21.5 in /usr/local/lib/python3.11/dist-packages (from torch) (2.21.5)\n",
            "Requirement already satisfied: nvidia-nvtx-cu12==12.4.127 in /usr/local/lib/python3.11/dist-packages (from torch) (12.4.127)\n",
            "Collecting nvidia-nvjitlink-cu12==12.4.127 (from torch)\n",
            "  Downloading nvidia_nvjitlink_cu12-12.4.127-py3-none-manylinux2014_x86_64.whl.metadata (1.5 kB)\n",
            "Requirement already satisfied: triton==3.1.0 in /usr/local/lib/python3.11/dist-packages (from torch) (3.1.0)\n",
            "Requirement already satisfied: sympy==1.13.1 in /usr/local/lib/python3.11/dist-packages (from torch) (1.13.1)\n",
            "Requirement already satisfied: mpmath<1.4,>=1.1.0 in /usr/local/lib/python3.11/dist-packages (from sympy==1.13.1->torch) (1.3.0)\n",
            "Requirement already satisfied: MarkupSafe>=2.0 in /usr/local/lib/python3.11/dist-packages (from jinja2->torch) (3.0.2)\n",
            "Requirement already satisfied: charset-normalizer<4,>=2 in /usr/local/lib/python3.11/dist-packages (from requests->transformers) (3.4.1)\n",
            "Requirement already satisfied: idna<4,>=2.5 in /usr/local/lib/python3.11/dist-packages (from requests->transformers) (3.10)\n",
            "Requirement already satisfied: urllib3<3,>=1.21.1 in /usr/local/lib/python3.11/dist-packages (from requests->transformers) (2.3.0)\n",
            "Requirement already satisfied: certifi>=2017.4.17 in /usr/local/lib/python3.11/dist-packages (from requests->transformers) (2025.1.31)\n",
            "Downloading nvidia_cublas_cu12-12.4.5.8-py3-none-manylinux2014_x86_64.whl (363.4 MB)\n",
            "\u001b[2K   \u001b[90m━━━━━━━━━━━━━━━━━━━━━━━━━━━━━━━━━━━━━━━━\u001b[0m \u001b[32m363.4/363.4 MB\u001b[0m \u001b[31m2.9 MB/s\u001b[0m eta \u001b[36m0:00:00\u001b[0m\n",
            "\u001b[?25hDownloading nvidia_cuda_cupti_cu12-12.4.127-py3-none-manylinux2014_x86_64.whl (13.8 MB)\n",
            "\u001b[2K   \u001b[90m━━━━━━━━━━━━━━━━━━━━━━━━━━━━━━━━━━━━━━━━\u001b[0m \u001b[32m13.8/13.8 MB\u001b[0m \u001b[31m41.3 MB/s\u001b[0m eta \u001b[36m0:00:00\u001b[0m\n",
            "\u001b[?25hDownloading nvidia_cuda_nvrtc_cu12-12.4.127-py3-none-manylinux2014_x86_64.whl (24.6 MB)\n",
            "\u001b[2K   \u001b[90m━━━━━━━━━━━━━━━━━━━━━━━━━━━━━━━━━━━━━━━━\u001b[0m \u001b[32m24.6/24.6 MB\u001b[0m \u001b[31m15.7 MB/s\u001b[0m eta \u001b[36m0:00:00\u001b[0m\n",
            "\u001b[?25hDownloading nvidia_cuda_runtime_cu12-12.4.127-py3-none-manylinux2014_x86_64.whl (883 kB)\n",
            "\u001b[2K   \u001b[90m━━━━━━━━━━━━━━━━━━━━━━━━━━━━━━━━━━━━━━━━\u001b[0m \u001b[32m883.7/883.7 kB\u001b[0m \u001b[31m18.8 MB/s\u001b[0m eta \u001b[36m0:00:00\u001b[0m\n",
            "\u001b[?25hDownloading nvidia_cudnn_cu12-9.1.0.70-py3-none-manylinux2014_x86_64.whl (664.8 MB)\n",
            "\u001b[2K   \u001b[90m━━━━━━━━━━━━━━━━━━━━━━━━━━━━━━━━━━━━━━━━\u001b[0m \u001b[32m664.8/664.8 MB\u001b[0m \u001b[31m1.2 MB/s\u001b[0m eta \u001b[36m0:00:00\u001b[0m\n",
            "\u001b[?25hDownloading nvidia_cufft_cu12-11.2.1.3-py3-none-manylinux2014_x86_64.whl (211.5 MB)\n",
            "\u001b[2K   \u001b[90m━━━━━━━━━━━━━━━━━━━━━━━━━━━━━━━━━━━━━━━━\u001b[0m \u001b[32m211.5/211.5 MB\u001b[0m \u001b[31m6.3 MB/s\u001b[0m eta \u001b[36m0:00:00\u001b[0m\n",
            "\u001b[?25hDownloading nvidia_curand_cu12-10.3.5.147-py3-none-manylinux2014_x86_64.whl (56.3 MB)\n",
            "\u001b[2K   \u001b[90m━━━━━━━━━━━━━━━━━━━━━━━━━━━━━━━━━━━━━━━━\u001b[0m \u001b[32m56.3/56.3 MB\u001b[0m \u001b[31m9.9 MB/s\u001b[0m eta \u001b[36m0:00:00\u001b[0m\n",
            "\u001b[?25hDownloading nvidia_cusolver_cu12-11.6.1.9-py3-none-manylinux2014_x86_64.whl (127.9 MB)\n",
            "\u001b[2K   \u001b[90m━━━━━━━━━━━━━━━━━━━━━━━━━━━━━━━━━━━━━━━━\u001b[0m \u001b[32m127.9/127.9 MB\u001b[0m \u001b[31m7.7 MB/s\u001b[0m eta \u001b[36m0:00:00\u001b[0m\n",
            "\u001b[?25hDownloading nvidia_cusparse_cu12-12.3.1.170-py3-none-manylinux2014_x86_64.whl (207.5 MB)\n",
            "\u001b[2K   \u001b[90m━━━━━━━━━━━━━━━━━━━━━━━━━━━━━━━━━━━━━━━━\u001b[0m \u001b[32m207.5/207.5 MB\u001b[0m \u001b[31m5.4 MB/s\u001b[0m eta \u001b[36m0:00:00\u001b[0m\n",
            "\u001b[?25hDownloading nvidia_nvjitlink_cu12-12.4.127-py3-none-manylinux2014_x86_64.whl (21.1 MB)\n",
            "\u001b[2K   \u001b[90m━━━━━━━━━━━━━━━━━━━━━━━━━━━━━━━━━━━━━━━━\u001b[0m \u001b[32m21.1/21.1 MB\u001b[0m \u001b[31m52.6 MB/s\u001b[0m eta \u001b[36m0:00:00\u001b[0m\n",
            "\u001b[?25hInstalling collected packages: nvidia-nvjitlink-cu12, nvidia-curand-cu12, nvidia-cufft-cu12, nvidia-cuda-runtime-cu12, nvidia-cuda-nvrtc-cu12, nvidia-cuda-cupti-cu12, nvidia-cublas-cu12, nvidia-cusparse-cu12, nvidia-cudnn-cu12, nvidia-cusolver-cu12\n",
            "  Attempting uninstall: nvidia-nvjitlink-cu12\n",
            "    Found existing installation: nvidia-nvjitlink-cu12 12.5.82\n",
            "    Uninstalling nvidia-nvjitlink-cu12-12.5.82:\n",
            "      Successfully uninstalled nvidia-nvjitlink-cu12-12.5.82\n",
            "  Attempting uninstall: nvidia-curand-cu12\n",
            "    Found existing installation: nvidia-curand-cu12 10.3.6.82\n",
            "    Uninstalling nvidia-curand-cu12-10.3.6.82:\n",
            "      Successfully uninstalled nvidia-curand-cu12-10.3.6.82\n",
            "  Attempting uninstall: nvidia-cufft-cu12\n",
            "    Found existing installation: nvidia-cufft-cu12 11.2.3.61\n",
            "    Uninstalling nvidia-cufft-cu12-11.2.3.61:\n",
            "      Successfully uninstalled nvidia-cufft-cu12-11.2.3.61\n",
            "  Attempting uninstall: nvidia-cuda-runtime-cu12\n",
            "    Found existing installation: nvidia-cuda-runtime-cu12 12.5.82\n",
            "    Uninstalling nvidia-cuda-runtime-cu12-12.5.82:\n",
            "      Successfully uninstalled nvidia-cuda-runtime-cu12-12.5.82\n",
            "  Attempting uninstall: nvidia-cuda-nvrtc-cu12\n",
            "    Found existing installation: nvidia-cuda-nvrtc-cu12 12.5.82\n",
            "    Uninstalling nvidia-cuda-nvrtc-cu12-12.5.82:\n",
            "      Successfully uninstalled nvidia-cuda-nvrtc-cu12-12.5.82\n",
            "  Attempting uninstall: nvidia-cuda-cupti-cu12\n",
            "    Found existing installation: nvidia-cuda-cupti-cu12 12.5.82\n",
            "    Uninstalling nvidia-cuda-cupti-cu12-12.5.82:\n",
            "      Successfully uninstalled nvidia-cuda-cupti-cu12-12.5.82\n",
            "  Attempting uninstall: nvidia-cublas-cu12\n",
            "    Found existing installation: nvidia-cublas-cu12 12.5.3.2\n",
            "    Uninstalling nvidia-cublas-cu12-12.5.3.2:\n",
            "      Successfully uninstalled nvidia-cublas-cu12-12.5.3.2\n",
            "  Attempting uninstall: nvidia-cusparse-cu12\n",
            "    Found existing installation: nvidia-cusparse-cu12 12.5.1.3\n",
            "    Uninstalling nvidia-cusparse-cu12-12.5.1.3:\n",
            "      Successfully uninstalled nvidia-cusparse-cu12-12.5.1.3\n",
            "  Attempting uninstall: nvidia-cudnn-cu12\n",
            "    Found existing installation: nvidia-cudnn-cu12 9.3.0.75\n",
            "    Uninstalling nvidia-cudnn-cu12-9.3.0.75:\n",
            "      Successfully uninstalled nvidia-cudnn-cu12-9.3.0.75\n",
            "  Attempting uninstall: nvidia-cusolver-cu12\n",
            "    Found existing installation: nvidia-cusolver-cu12 11.6.3.83\n",
            "    Uninstalling nvidia-cusolver-cu12-11.6.3.83:\n",
            "      Successfully uninstalled nvidia-cusolver-cu12-11.6.3.83\n",
            "Successfully installed nvidia-cublas-cu12-12.4.5.8 nvidia-cuda-cupti-cu12-12.4.127 nvidia-cuda-nvrtc-cu12-12.4.127 nvidia-cuda-runtime-cu12-12.4.127 nvidia-cudnn-cu12-9.1.0.70 nvidia-cufft-cu12-11.2.1.3 nvidia-curand-cu12-10.3.5.147 nvidia-cusolver-cu12-11.6.1.9 nvidia-cusparse-cu12-12.3.1.170 nvidia-nvjitlink-cu12-12.4.127\n"
          ]
        }
      ],
      "source": [
        "pip install transformers torch"
      ]
    },
    {
      "cell_type": "code",
      "source": [],
      "metadata": {
        "id": "EHAsQh-_Awhv"
      },
      "execution_count": null,
      "outputs": []
    },
    {
      "cell_type": "code",
      "source": [],
      "metadata": {
        "id": "kDjOuaPJGXth"
      },
      "execution_count": null,
      "outputs": []
    },
    {
      "cell_type": "code",
      "source": [],
      "metadata": {
        "id": "V63b3LtSGXwK"
      },
      "execution_count": null,
      "outputs": []
    },
    {
      "cell_type": "code",
      "source": [
        "from transformers import pipeline\n",
        "import random\n",
        "\n",
        "# 사전 학습된 BERT MLM 모델 로드\n",
        "#mlm_pipeline = pipeline(\"fill-mask\", model=\"bert-base-multilingual-cased\")\n",
        "mlm_pipeline = pipeline(\"fill-mask\", model=\"klue/bert-base\")\n",
        "\n",
        "\n",
        "# 증분할 문장\n",
        "original_sentence = \"부여군은 지난 27일 농업기술센터 대강당에서 민선7기 핵심공약인 농업의 공익적 기능을 살리는 농민수당 도입과 농업회의소 설립 등에 대한 군민설명회를 가졌다.\"\n",
        "words = original_sentence.split()\n",
        "\n",
        "# 랜덤하게 한 단어 마스킹\n",
        "mask_idx = random.randint(0, len(words) - 1)\n",
        "masked_sentence = words[:mask_idx] + [\"[MASK]\"] + words[mask_idx+1:]\n",
        "masked_sentence = \" \".join(masked_sentence)\n",
        "\n",
        "# MLM 모델로 예측 수행\n",
        "predictions = mlm_pipeline(masked_sentence)\n",
        "\n",
        "# 생성된 문장 출력\n",
        "for pred in predictions[:3]:  # 상위 3개 예측 결과 사용\n",
        "    new_sentence = masked_sentence.replace(\"[MASK]\", pred[\"token_str\"])\n",
        "    print(new_sentence)"
      ],
      "metadata": {
        "colab": {
          "base_uri": "https://localhost:8080/"
        },
        "id": "WTp1w3z3GXyZ",
        "outputId": "b6ef9f2d-775f-4008-ac25-bcd9573f50be"
      },
      "execution_count": 29,
      "outputs": [
        {
          "output_type": "stream",
          "name": "stderr",
          "text": [
            "Some weights of the model checkpoint at klue/bert-base were not used when initializing BertForMaskedLM: ['bert.pooler.dense.bias', 'bert.pooler.dense.weight', 'cls.seq_relationship.bias', 'cls.seq_relationship.weight']\n",
            "- This IS expected if you are initializing BertForMaskedLM from the checkpoint of a model trained on another task or with another architecture (e.g. initializing a BertForSequenceClassification model from a BertForPreTraining model).\n",
            "- This IS NOT expected if you are initializing BertForMaskedLM from the checkpoint of a model that you expect to be exactly identical (initializing a BertForSequenceClassification model from a BertForSequenceClassification model).\n",
            "Device set to use cpu\n"
          ]
        },
        {
          "output_type": "stream",
          "name": "stdout",
          "text": [
            "부여군은 지난 27일 농업기술센터 대강당에서 민선7기 핵심공약인 농업의 본래 기능을 살리는 농민수당 도입과 농업회의소 설립 등에 대한 군민설명회를 가졌다.\n",
            "부여군은 지난 27일 농업기술센터 대강당에서 민선7기 핵심공약인 농업의 공적 기능을 살리는 농민수당 도입과 농업회의소 설립 등에 대한 군민설명회를 가졌다.\n",
            "부여군은 지난 27일 농업기술센터 대강당에서 민선7기 핵심공약인 농업의 고유 기능을 살리는 농민수당 도입과 농업회의소 설립 등에 대한 군민설명회를 가졌다.\n"
          ]
        }
      ]
    },
    {
      "cell_type": "code",
      "source": [],
      "metadata": {
        "id": "x3jffYNZKnCZ"
      },
      "execution_count": null,
      "outputs": []
    },
    {
      "cell_type": "code",
      "source": [
        "from transformers import pipeline, AutoTokenizer\n",
        "import random\n",
        "\n",
        "# 사전 학습된 KLUE-BERT 모델 로드\n",
        "mlm_pipeline = pipeline(\"fill-mask\", model=\"klue/bert-base\")\n",
        "\n",
        "# BERT 토크나이저 로드\n",
        "tokenizer = AutoTokenizer.from_pretrained(\"klue/bert-base\")\n",
        "\n",
        "# 증분할 문장\n",
        "original_sentence = \"부여군은 지난 27일 농업기술센터 대강당에서 민선7기 핵심공약인 농업의 공익적 기능을 살리는 농민수당 도입과 농업회의소 설립 등에 대한 군민설명회를 가졌다.\"\n",
        "\n",
        "# 토크나이저로 문장 토큰화\n",
        "tokens = tokenizer.tokenize(original_sentence)\n",
        "\n",
        "# 랜덤하게 한 단어 마스킹\n",
        "mask_idx = random.randint(0, len(tokens) - 1)\n",
        "tokens[mask_idx] = \"[MASK]\"\n",
        "\n",
        "# 다시 문장으로 변환\n",
        "masked_sentence = tokenizer.convert_tokens_to_string(tokens)\n",
        "\n",
        "# MLM 모델로 예측 수행\n",
        "predictions = mlm_pipeline(masked_sentence)\n",
        "\n",
        "# 생성된 문장 출력\n",
        "for pred in predictions[:3]:  # 상위 3개 예측 결과 사용\n",
        "    new_sentence = masked_sentence.replace(\"[MASK]\", pred[\"token_str\"])\n",
        "    print(new_sentence)"
      ],
      "metadata": {
        "colab": {
          "base_uri": "https://localhost:8080/"
        },
        "id": "zfVg9ei8KnE1",
        "outputId": "2fec6f5d-6b6c-4105-bba2-b7f0edbcb03b"
      },
      "execution_count": 36,
      "outputs": [
        {
          "output_type": "stream",
          "name": "stderr",
          "text": [
            "Some weights of the model checkpoint at klue/bert-base were not used when initializing BertForMaskedLM: ['bert.pooler.dense.bias', 'bert.pooler.dense.weight', 'cls.seq_relationship.bias', 'cls.seq_relationship.weight']\n",
            "- This IS expected if you are initializing BertForMaskedLM from the checkpoint of a model trained on another task or with another architecture (e.g. initializing a BertForSequenceClassification model from a BertForPreTraining model).\n",
            "- This IS NOT expected if you are initializing BertForMaskedLM from the checkpoint of a model that you expect to be exactly identical (initializing a BertForSequenceClassification model from a BertForSequenceClassification model).\n",
            "Device set to use cpu\n"
          ]
        },
        {
          "output_type": "stream",
          "name": "stdout",
          "text": [
            "부여군은 지난 27일 농업기술센터 대강당에서 민선7기 핵심공약인 농업의 공익적 기능을 살리는 농민수당 도입 , 농업회의소 설립 등에 대한 군민설명회를 가졌다.\n",
            "부여군은 지난 27일 농업기술센터 대강당에서 민선7기 핵심공약인 농업의 공익적 기능을 살리는 농민수당 도입 ##과 농업회의소 설립 등에 대한 군민설명회를 가졌다.\n",
            "부여군은 지난 27일 농업기술센터 대강당에서 민선7기 핵심공약인 농업의 공익적 기능을 살리는 농민수당 도입 및 농업회의소 설립 등에 대한 군민설명회를 가졌다.\n"
          ]
        }
      ]
    },
    {
      "cell_type": "code",
      "source": [],
      "metadata": {
        "id": "AZtsTzEaKnG5"
      },
      "execution_count": null,
      "outputs": []
    },
    {
      "cell_type": "code",
      "source": [
        "from transformers import pipeline, AutoTokenizer\n",
        "import random\n",
        "\n",
        "# 사전 학습된 KLUE-BERT 모델 및 토크나이저 로드\n",
        "model_name = \"klue/bert-base\"\n",
        "mlm_pipeline = pipeline(\"fill-mask\", model=model_name)\n",
        "tokenizer = AutoTokenizer.from_pretrained(model_name)\n",
        "\n",
        "# 증분할 문장\n",
        "original_sentence = \"부여군은 지난 27일 농업기술센터 대강당에서 민선7기 핵심공약인 농업의 공익적 기능을 살리는 농민수당 도입과 농업회의소 설립 등에 대한 군민설명회를 가졌다.\"\n",
        "\n",
        "# 토큰화 (input_ids 사용)\n",
        "tokenized_ids = tokenizer.encode(original_sentence, add_special_tokens=True)\n",
        "tokenized_tokens = tokenizer.convert_ids_to_tokens(tokenized_ids)\n",
        "\n",
        "# 마스킹할 단어(어절) 선택 - [CLS]와 [SEP]는 제외\n",
        "maskable_indices = [i for i in range(1, len(tokenized_tokens) - 1) if \"##\" not in tokenized_tokens[i]]\n",
        "mask_idx = random.choice(maskable_indices)\n",
        "tokenized_tokens[mask_idx] = \"[MASK]\"\n",
        "\n",
        "# 마스킹된 문장 생성\n",
        "masked_sentence = tokenizer.convert_tokens_to_string(tokenized_tokens)\n",
        "\n",
        "# MLM 모델로 예측 수행\n",
        "predictions = mlm_pipeline(masked_sentence)\n",
        "\n",
        "# 생성된 문장 출력\n",
        "for pred in predictions[:2]:  # 상위 3개 예측 결과 사용\n",
        "    new_sentence = masked_sentence.replace(\"[MASK]\", pred[\"token_str\"])\n",
        "    print(new_sentence)"
      ],
      "metadata": {
        "colab": {
          "base_uri": "https://localhost:8080/"
        },
        "id": "VO5GuvVGGYDP",
        "outputId": "b26290d0-b333-453b-d072-142b20534106"
      },
      "execution_count": 47,
      "outputs": [
        {
          "output_type": "stream",
          "name": "stderr",
          "text": [
            "Some weights of the model checkpoint at klue/bert-base were not used when initializing BertForMaskedLM: ['bert.pooler.dense.bias', 'bert.pooler.dense.weight', 'cls.seq_relationship.bias', 'cls.seq_relationship.weight']\n",
            "- This IS expected if you are initializing BertForMaskedLM from the checkpoint of a model trained on another task or with another architecture (e.g. initializing a BertForSequenceClassification model from a BertForPreTraining model).\n",
            "- This IS NOT expected if you are initializing BertForMaskedLM from the checkpoint of a model that you expect to be exactly identical (initializing a BertForSequenceClassification model from a BertForSequenceClassification model).\n",
            "Device set to use cpu\n"
          ]
        },
        {
          "output_type": "stream",
          "name": "stdout",
          "text": [
            "[CLS] 부여군은 지난 27일 농업기술센터 대강당에서 민선7기 핵심공약인 농업의 공익적 기능을 살리는 농민수당 신설과 농업회의소 설립 등에 대한 군민설명회를 가졌다. [SEP]\n",
            "[CLS] 부여군은 지난 27일 농업기술센터 대강당에서 민선7기 핵심공약인 농업의 공익적 기능을 살리는 농민수당 도입과 농업회의소 설립 등에 대한 군민설명회를 가졌다. [SEP]\n"
          ]
        }
      ]
    },
    {
      "cell_type": "code",
      "source": [],
      "metadata": {
        "id": "YAz_6T_UVegk"
      },
      "execution_count": null,
      "outputs": []
    },
    {
      "cell_type": "code",
      "source": [],
      "metadata": {
        "id": "83or8JbaVei-"
      },
      "execution_count": null,
      "outputs": []
    },
    {
      "cell_type": "markdown",
      "source": [
        "# 여러개 문장 증분"
      ],
      "metadata": {
        "id": "IgyrkbxbVeq_"
      }
    },
    {
      "cell_type": "code",
      "source": [
        "from transformers import pipeline, AutoTokenizer\n",
        "import random\n",
        "\n",
        "# 사전 학습된 KLUE-BERT 모델 및 토크나이저 로드\n",
        "model_name = \"klue/bert-base\"\n",
        "mlm_pipeline = pipeline(\"fill-mask\", model=model_name)\n",
        "tokenizer = AutoTokenizer.from_pretrained(model_name)\n",
        "\n",
        "# 원본 문장\n",
        "original_sentence = \"부여군은 지난 27일 농업기술센터 대강당에서 민선7기 핵심공약인 농업의 공익적 기능을 살리는 농민수당 도입과 농업회의소 설립 등에 대한 군민설명회를 가졌다.\"\n",
        "\n",
        "# 토큰화\n",
        "tokenized_ids = tokenizer.encode(original_sentence, add_special_tokens=True)\n",
        "tokenized_tokens = tokenizer.convert_ids_to_tokens(tokenized_ids)\n",
        "\n",
        "# 마스킹할 단어(어절) 선택 - [CLS]와 [SEP]는 제외\n",
        "maskable_indices = [i for i in range(1, len(tokenized_tokens) - 1) if \"##\" not in tokenized_tokens[i]]\n",
        "\n",
        "# 여러 개(최대 3개) 마스킹\n",
        "num_masks = min(3, len(maskable_indices))  # 마스킹할 개수 설정\n",
        "mask_indices = random.sample(maskable_indices, num_masks)\n",
        "\n",
        "for idx in mask_indices:\n",
        "    tokenized_tokens[idx] = \"[MASK]\"\n",
        "\n",
        "# 마스킹된 문장 생성\n",
        "masked_sentence = tokenizer.convert_tokens_to_string(tokenized_tokens)\n",
        "\n",
        "# MLM 모델로 예측 수행\n",
        "predictions = mlm_pipeline(masked_sentence)\n",
        "\n",
        "# 출력 확인\n",
        "print(\"마스킹된 문장:\", masked_sentence)\n",
        "\n",
        "# 여러 개의 [MASK]를 예측하여 문장 복원\n",
        "new_sentence = masked_sentence\n",
        "for mask_idx, mask_preds in zip(mask_indices, predictions):  # 여러 개의 [MASK]에 대해 예측값 처리\n",
        "    best_pred = mask_preds[0][\"token_str\"]  # 가장 확률이 높은 예측값 선택\n",
        "    new_sentence = new_sentence.replace(\"[MASK]\", best_pred, 1)\n",
        "\n",
        "# 최종 복원된 문장 출력\n",
        "print(\"복원된 문장:\", new_sentence)"
      ],
      "metadata": {
        "colab": {
          "base_uri": "https://localhost:8080/"
        },
        "id": "dxpyhodTPcQ7",
        "outputId": "bd73b1b1-4ca1-4fb1-b52f-797bf4b1aad3"
      },
      "execution_count": 49,
      "outputs": [
        {
          "output_type": "stream",
          "name": "stderr",
          "text": [
            "Some weights of the model checkpoint at klue/bert-base were not used when initializing BertForMaskedLM: ['bert.pooler.dense.bias', 'bert.pooler.dense.weight', 'cls.seq_relationship.bias', 'cls.seq_relationship.weight']\n",
            "- This IS expected if you are initializing BertForMaskedLM from the checkpoint of a model trained on another task or with another architecture (e.g. initializing a BertForSequenceClassification model from a BertForPreTraining model).\n",
            "- This IS NOT expected if you are initializing BertForMaskedLM from the checkpoint of a model that you expect to be exactly identical (initializing a BertForSequenceClassification model from a BertForSequenceClassification model).\n",
            "Device set to use cpu\n"
          ]
        },
        {
          "output_type": "stream",
          "name": "stdout",
          "text": [
            "마스킹된 문장: [CLS] 부여군은 지난 27일 농업기술센터 대강당에서 민선7기 [MASK]공약인 농업의 공익적 기능을 [MASK]는 농민수당 도입과 농업회의소 설립 등에 [MASK] 군민설명회를 가졌다. [SEP]\n",
            "복원된 문장: [CLS] 부여군은 지난 27일 농업기술센터 대강당에서 민선7기 핵심공약인 농업의 공익적 기능을 강화는 농민수당 도입과 농업회의소 설립 등에 대한 군민설명회를 가졌다. [SEP]\n"
          ]
        }
      ]
    },
    {
      "cell_type": "code",
      "source": [],
      "metadata": {
        "id": "wmb_Fi6uPcYT"
      },
      "execution_count": null,
      "outputs": []
    },
    {
      "cell_type": "code",
      "source": [],
      "metadata": {
        "id": "gJSAJDa1Pcak"
      },
      "execution_count": null,
      "outputs": []
    },
    {
      "cell_type": "code",
      "source": [],
      "metadata": {
        "id": "XyP_lCKFOpkz"
      },
      "execution_count": null,
      "outputs": []
    }
  ]
}